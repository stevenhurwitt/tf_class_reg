{
 "cells": [
  {
   "cell_type": "markdown",
   "metadata": {},
   "source": [
    "# Regression in TF"
   ]
  },
  {
   "cell_type": "code",
   "execution_count": 1,
   "metadata": {},
   "outputs": [
    {
     "name": "stderr",
     "output_type": "stream",
     "text": [
      "/usr/local/lib/python3.6/dist-packages/tensorflow/python/framework/dtypes.py:526: FutureWarning: Passing (type, 1) or '1type' as a synonym of type is deprecated; in a future version of numpy, it will be understood as (type, (1,)) / '(1,)type'.\n",
      "  _np_qint8 = np.dtype([(\"qint8\", np.int8, 1)])\n",
      "/usr/local/lib/python3.6/dist-packages/tensorflow/python/framework/dtypes.py:527: FutureWarning: Passing (type, 1) or '1type' as a synonym of type is deprecated; in a future version of numpy, it will be understood as (type, (1,)) / '(1,)type'.\n",
      "  _np_quint8 = np.dtype([(\"quint8\", np.uint8, 1)])\n",
      "/usr/local/lib/python3.6/dist-packages/tensorflow/python/framework/dtypes.py:528: FutureWarning: Passing (type, 1) or '1type' as a synonym of type is deprecated; in a future version of numpy, it will be understood as (type, (1,)) / '(1,)type'.\n",
      "  _np_qint16 = np.dtype([(\"qint16\", np.int16, 1)])\n",
      "/usr/local/lib/python3.6/dist-packages/tensorflow/python/framework/dtypes.py:529: FutureWarning: Passing (type, 1) or '1type' as a synonym of type is deprecated; in a future version of numpy, it will be understood as (type, (1,)) / '(1,)type'.\n",
      "  _np_quint16 = np.dtype([(\"quint16\", np.uint16, 1)])\n",
      "/usr/local/lib/python3.6/dist-packages/tensorflow/python/framework/dtypes.py:530: FutureWarning: Passing (type, 1) or '1type' as a synonym of type is deprecated; in a future version of numpy, it will be understood as (type, (1,)) / '(1,)type'.\n",
      "  _np_qint32 = np.dtype([(\"qint32\", np.int32, 1)])\n",
      "/usr/local/lib/python3.6/dist-packages/tensorflow/python/framework/dtypes.py:535: FutureWarning: Passing (type, 1) or '1type' as a synonym of type is deprecated; in a future version of numpy, it will be understood as (type, (1,)) / '(1,)type'.\n",
      "  np_resource = np.dtype([(\"resource\", np.ubyte, 1)])\n"
     ]
    },
    {
     "name": "stdout",
     "output_type": "stream",
     "text": [
      "imported modules\n"
     ]
    }
   ],
   "source": [
    "import os\n",
    "from math import sqrt\n",
    "import pandas as pd\n",
    "import numpy as np\n",
    "import seaborn as sns\n",
    "import tensorflow as tf\n",
    "import matplotlib.pyplot as plt\n",
    "\n",
    "from sklearn.model_selection import train_test_split\n",
    "from sklearn.metrics import mean_squared_error\n",
    "from sklearn.preprocessing import StandardScaler\n",
    "from tensorflow.keras.layers import Input, Dense, Activation, Dropout\n",
    "from tensorflow.keras.models import Model, Sequential\n",
    "\n",
    "%matplotlib inline\n",
    "print('imported modules')"
   ]
  },
  {
   "cell_type": "markdown",
   "metadata": {},
   "source": [
    "## Read data"
   ]
  },
  {
   "cell_type": "code",
   "execution_count": 2,
   "metadata": {},
   "outputs": [
    {
     "data": {
      "text/html": [
       "<div>\n",
       "<style scoped>\n",
       "    .dataframe tbody tr th:only-of-type {\n",
       "        vertical-align: middle;\n",
       "    }\n",
       "\n",
       "    .dataframe tbody tr th {\n",
       "        vertical-align: top;\n",
       "    }\n",
       "\n",
       "    .dataframe thead th {\n",
       "        text-align: right;\n",
       "    }\n",
       "</style>\n",
       "<table border=\"1\" class=\"dataframe\">\n",
       "  <thead>\n",
       "    <tr style=\"text-align: right;\">\n",
       "      <th></th>\n",
       "      <th>Petrol_tax</th>\n",
       "      <th>Average_income</th>\n",
       "      <th>Paved_Highways</th>\n",
       "      <th>Population_Driver_licence(%)</th>\n",
       "      <th>Petrol_Consumption</th>\n",
       "    </tr>\n",
       "  </thead>\n",
       "  <tbody>\n",
       "    <tr>\n",
       "      <th>0</th>\n",
       "      <td>9.0</td>\n",
       "      <td>3571</td>\n",
       "      <td>1976</td>\n",
       "      <td>0.525</td>\n",
       "      <td>541</td>\n",
       "    </tr>\n",
       "    <tr>\n",
       "      <th>1</th>\n",
       "      <td>9.0</td>\n",
       "      <td>4092</td>\n",
       "      <td>1250</td>\n",
       "      <td>0.572</td>\n",
       "      <td>524</td>\n",
       "    </tr>\n",
       "    <tr>\n",
       "      <th>2</th>\n",
       "      <td>9.0</td>\n",
       "      <td>3865</td>\n",
       "      <td>1586</td>\n",
       "      <td>0.580</td>\n",
       "      <td>561</td>\n",
       "    </tr>\n",
       "    <tr>\n",
       "      <th>3</th>\n",
       "      <td>7.5</td>\n",
       "      <td>4870</td>\n",
       "      <td>2351</td>\n",
       "      <td>0.529</td>\n",
       "      <td>414</td>\n",
       "    </tr>\n",
       "    <tr>\n",
       "      <th>4</th>\n",
       "      <td>8.0</td>\n",
       "      <td>4399</td>\n",
       "      <td>431</td>\n",
       "      <td>0.544</td>\n",
       "      <td>410</td>\n",
       "    </tr>\n",
       "  </tbody>\n",
       "</table>\n",
       "</div>"
      ],
      "text/plain": [
       "   Petrol_tax  Average_income  Paved_Highways  Population_Driver_licence(%)  \\\n",
       "0         9.0            3571            1976                         0.525   \n",
       "1         9.0            4092            1250                         0.572   \n",
       "2         9.0            3865            1586                         0.580   \n",
       "3         7.5            4870            2351                         0.529   \n",
       "4         8.0            4399             431                         0.544   \n",
       "\n",
       "   Petrol_Consumption  \n",
       "0                 541  \n",
       "1                 524  \n",
       "2                 561  \n",
       "3                 414  \n",
       "4                 410  "
      ]
     },
     "execution_count": 2,
     "metadata": {},
     "output_type": "execute_result"
    }
   ],
   "source": [
    "petrol = pd.read_csv('petrol_consumption.csv')\n",
    "petrol.head()"
   ]
  },
  {
   "cell_type": "markdown",
   "metadata": {},
   "source": [
    "## Preprocess data"
   ]
  },
  {
   "cell_type": "code",
   "execution_count": 3,
   "metadata": {},
   "outputs": [],
   "source": [
    "X = petrol.iloc[:,:4].values\n",
    "y = petrol.iloc[:,4].values"
   ]
  },
  {
   "cell_type": "code",
   "execution_count": 4,
   "metadata": {},
   "outputs": [],
   "source": [
    "X_train, X_test, y_train, y_test = train_test_split(X, y, test_size = .2, random_state = 23)"
   ]
  },
  {
   "cell_type": "code",
   "execution_count": 5,
   "metadata": {},
   "outputs": [],
   "source": [
    "sc = StandardScaler()"
   ]
  },
  {
   "cell_type": "code",
   "execution_count": 6,
   "metadata": {},
   "outputs": [],
   "source": [
    "X_train = sc.fit_transform(X_train)\n",
    "X_test = sc.transform(X_test)"
   ]
  },
  {
   "cell_type": "code",
   "execution_count": 7,
   "metadata": {},
   "outputs": [
    {
     "data": {
      "text/plain": [
       "(48, 4)"
      ]
     },
     "execution_count": 7,
     "metadata": {},
     "output_type": "execute_result"
    }
   ],
   "source": [
    "X.shape"
   ]
  },
  {
   "cell_type": "markdown",
   "metadata": {},
   "source": [
    "## Train Model - tf 1.3"
   ]
  },
  {
   "cell_type": "code",
   "execution_count": 8,
   "metadata": {},
   "outputs": [
    {
     "name": "stdout",
     "output_type": "stream",
     "text": [
      "WARNING:tensorflow:From /usr/local/lib/python3.6/dist-packages/tensorflow/python/ops/resource_variable_ops.py:435: colocate_with (from tensorflow.python.framework.ops) is deprecated and will be removed in a future version.\n",
      "Instructions for updating:\n",
      "Colocations handled automatically by placer.\n",
      "WARNING:tensorflow:From /usr/local/lib/python3.6/dist-packages/tensorflow/python/keras/utils/losses_utils.py:170: to_float (from tensorflow.python.ops.math_ops) is deprecated and will be removed in a future version.\n",
      "Instructions for updating:\n",
      "Use tf.cast instead.\n"
     ]
    }
   ],
   "source": [
    "model = Sequential()\n",
    "model.add(Dense(100, activation='relu', input_shape = (X.shape[1],)))\n",
    "model.add(Dense(50, activation = 'relu'))\n",
    "model.add(Dense(25, activation = 'relu'))\n",
    "model.add(Dense(1, activation = 'relu'))\n",
    "model.compile(loss = 'mean_squared_error', optimizer = 'adam', metrics = ['mean_squared_error'])"
   ]
  },
  {
   "cell_type": "markdown",
   "metadata": {},
   "source": [
    "## Train Model - tf 2.0"
   ]
  },
  {
   "cell_type": "code",
   "execution_count": 7,
   "metadata": {},
   "outputs": [
    {
     "ename": "TypeError",
     "evalue": "'int' object is not iterable",
     "output_type": "error",
     "traceback": [
      "\u001b[0;31m---------------------------------------------------------------------------\u001b[0m",
      "\u001b[0;31mTypeError\u001b[0m                                 Traceback (most recent call last)",
      "\u001b[0;32m<ipython-input-7-b1b2c8c9a6f9>\u001b[0m in \u001b[0;36m<module>\u001b[0;34m\u001b[0m\n\u001b[0;32m----> 1\u001b[0;31m \u001b[0minput_layer\u001b[0m \u001b[0;34m=\u001b[0m \u001b[0mInput\u001b[0m\u001b[0;34m(\u001b[0m\u001b[0mshape\u001b[0m \u001b[0;34m=\u001b[0m \u001b[0mX\u001b[0m\u001b[0;34m.\u001b[0m\u001b[0mshape\u001b[0m\u001b[0;34m[\u001b[0m\u001b[0;36m1\u001b[0m\u001b[0;34m]\u001b[0m\u001b[0;34m,\u001b[0m\u001b[0;34m)\u001b[0m\u001b[0;34m\u001b[0m\u001b[0;34m\u001b[0m\u001b[0m\n\u001b[0m\u001b[1;32m      2\u001b[0m \u001b[0mdense_layer_1\u001b[0m \u001b[0;34m=\u001b[0m \u001b[0mDense\u001b[0m\u001b[0;34m(\u001b[0m\u001b[0;36m100\u001b[0m\u001b[0;34m,\u001b[0m \u001b[0mactivation\u001b[0m \u001b[0;34m=\u001b[0m \u001b[0;34m'relu'\u001b[0m\u001b[0;34m)\u001b[0m\u001b[0;34m(\u001b[0m\u001b[0minput_layer\u001b[0m\u001b[0;34m)\u001b[0m\u001b[0;34m\u001b[0m\u001b[0;34m\u001b[0m\u001b[0m\n\u001b[1;32m      3\u001b[0m \u001b[0mdense_layer_2\u001b[0m \u001b[0;34m=\u001b[0m \u001b[0mDense\u001b[0m\u001b[0;34m(\u001b[0m\u001b[0;36m50\u001b[0m\u001b[0;34m,\u001b[0m \u001b[0mactivation\u001b[0m \u001b[0;34m=\u001b[0m \u001b[0;34m'relu'\u001b[0m\u001b[0;34m)\u001b[0m\u001b[0;34m(\u001b[0m\u001b[0mdense_layer_1\u001b[0m\u001b[0;34m)\u001b[0m\u001b[0;34m\u001b[0m\u001b[0;34m\u001b[0m\u001b[0m\n\u001b[1;32m      4\u001b[0m \u001b[0mdense_layer_3\u001b[0m \u001b[0;34m=\u001b[0m \u001b[0mDense\u001b[0m\u001b[0;34m(\u001b[0m\u001b[0;36m25\u001b[0m\u001b[0;34m,\u001b[0m \u001b[0mactivation\u001b[0m \u001b[0;34m=\u001b[0m \u001b[0;34m'relu'\u001b[0m\u001b[0;34m)\u001b[0m\u001b[0;34m(\u001b[0m\u001b[0mdense_layer_2\u001b[0m\u001b[0;34m)\u001b[0m\u001b[0;34m\u001b[0m\u001b[0;34m\u001b[0m\u001b[0m\n\u001b[1;32m      5\u001b[0m \u001b[0moutput\u001b[0m \u001b[0;34m=\u001b[0m \u001b[0mDense\u001b[0m\u001b[0;34m(\u001b[0m\u001b[0;36m1\u001b[0m\u001b[0;34m)\u001b[0m\u001b[0;34m(\u001b[0m\u001b[0mdense_layer_3\u001b[0m\u001b[0;34m)\u001b[0m\u001b[0;34m\u001b[0m\u001b[0;34m\u001b[0m\u001b[0m\n",
      "\u001b[0;32m/usr/local/lib/python3.6/dist-packages/tensorflow/python/keras/engine/input_layer.py\u001b[0m in \u001b[0;36mInput\u001b[0;34m(shape, batch_size, name, dtype, sparse, tensor, **kwargs)\u001b[0m\n\u001b[1;32m    229\u001b[0m       \u001b[0mdtype\u001b[0m\u001b[0;34m=\u001b[0m\u001b[0mdtype\u001b[0m\u001b[0;34m,\u001b[0m\u001b[0;34m\u001b[0m\u001b[0;34m\u001b[0m\u001b[0m\n\u001b[1;32m    230\u001b[0m       \u001b[0msparse\u001b[0m\u001b[0;34m=\u001b[0m\u001b[0msparse\u001b[0m\u001b[0;34m,\u001b[0m\u001b[0;34m\u001b[0m\u001b[0;34m\u001b[0m\u001b[0m\n\u001b[0;32m--> 231\u001b[0;31m       input_tensor=tensor)\n\u001b[0m\u001b[1;32m    232\u001b[0m   \u001b[0;31m# Return tensor including `_keras_history`.\u001b[0m\u001b[0;34m\u001b[0m\u001b[0;34m\u001b[0m\u001b[0;34m\u001b[0m\u001b[0m\n\u001b[1;32m    233\u001b[0m   \u001b[0;31m# Note that in this case train_output and test_output are the same pointer.\u001b[0m\u001b[0;34m\u001b[0m\u001b[0;34m\u001b[0m\u001b[0;34m\u001b[0m\u001b[0m\n",
      "\u001b[0;32m/usr/local/lib/python3.6/dist-packages/tensorflow/python/keras/engine/input_layer.py\u001b[0m in \u001b[0;36m__init__\u001b[0;34m(self, input_shape, batch_size, dtype, input_tensor, sparse, name, **kwargs)\u001b[0m\n\u001b[1;32m     89\u001b[0m     \u001b[0;32mif\u001b[0m \u001b[0minput_tensor\u001b[0m \u001b[0;32mis\u001b[0m \u001b[0;32mNone\u001b[0m\u001b[0;34m:\u001b[0m\u001b[0;34m\u001b[0m\u001b[0;34m\u001b[0m\u001b[0m\n\u001b[1;32m     90\u001b[0m       \u001b[0;32mif\u001b[0m \u001b[0minput_shape\u001b[0m \u001b[0;32mis\u001b[0m \u001b[0;32mnot\u001b[0m \u001b[0;32mNone\u001b[0m\u001b[0;34m:\u001b[0m\u001b[0;34m\u001b[0m\u001b[0;34m\u001b[0m\u001b[0m\n\u001b[0;32m---> 91\u001b[0;31m         \u001b[0mbatch_input_shape\u001b[0m \u001b[0;34m=\u001b[0m \u001b[0;34m(\u001b[0m\u001b[0mbatch_size\u001b[0m\u001b[0;34m,\u001b[0m\u001b[0;34m)\u001b[0m \u001b[0;34m+\u001b[0m \u001b[0mtuple\u001b[0m\u001b[0;34m(\u001b[0m\u001b[0minput_shape\u001b[0m\u001b[0;34m)\u001b[0m\u001b[0;34m\u001b[0m\u001b[0;34m\u001b[0m\u001b[0m\n\u001b[0m\u001b[1;32m     92\u001b[0m       \u001b[0;32melse\u001b[0m\u001b[0;34m:\u001b[0m\u001b[0;34m\u001b[0m\u001b[0;34m\u001b[0m\u001b[0m\n\u001b[1;32m     93\u001b[0m         \u001b[0mbatch_input_shape\u001b[0m \u001b[0;34m=\u001b[0m \u001b[0;32mNone\u001b[0m\u001b[0;34m\u001b[0m\u001b[0;34m\u001b[0m\u001b[0m\n",
      "\u001b[0;31mTypeError\u001b[0m: 'int' object is not iterable"
     ]
    }
   ],
   "source": [
    "input_layer = Input(shape = X.shape[1],)\n",
    "dense_layer_1 = Dense(100, activation = 'relu')(input_layer)\n",
    "dense_layer_2 = Dense(50, activation = 'relu')(dense_layer_1)\n",
    "dense_layer_3 = Dense(25, activation = 'relu')(dense_layer_2)\n",
    "output = Dense(1)(dense_layer_3)\n",
    "\n",
    "model = Model(inputs = input_layer, outputs = output)\n",
    "model.compile(loss = 'mean_squared_error', optimizer = 'adam', metrics = ['mean_squared_error'])"
   ]
  },
  {
   "cell_type": "code",
   "execution_count": 9,
   "metadata": {},
   "outputs": [
    {
     "name": "stdout",
     "output_type": "stream",
     "text": [
      "_________________________________________________________________\n",
      "Layer (type)                 Output Shape              Param #   \n",
      "=================================================================\n",
      "dense (Dense)                (None, 100)               500       \n",
      "_________________________________________________________________\n",
      "dense_1 (Dense)              (None, 50)                5050      \n",
      "_________________________________________________________________\n",
      "dense_2 (Dense)              (None, 25)                1275      \n",
      "_________________________________________________________________\n",
      "dense_3 (Dense)              (None, 1)                 26        \n",
      "=================================================================\n",
      "Total params: 6,851\n",
      "Trainable params: 6,851\n",
      "Non-trainable params: 0\n",
      "_________________________________________________________________\n",
      "None\n"
     ]
    }
   ],
   "source": [
    "print(model.summary())"
   ]
  },
  {
   "cell_type": "code",
   "execution_count": 10,
   "metadata": {},
   "outputs": [
    {
     "name": "stdout",
     "output_type": "stream",
     "text": [
      "Train on 30 samples, validate on 8 samples\n",
      "WARNING:tensorflow:From /usr/local/lib/python3.6/dist-packages/tensorflow/python/ops/math_ops.py:3066: to_int32 (from tensorflow.python.ops.math_ops) is deprecated and will be removed in a future version.\n",
      "Instructions for updating:\n",
      "Use tf.cast instead.\n",
      "Epoch 1/100\n",
      "30/30 [==============================] - 5s 179ms/sample - loss: 335938.8531 - mean_squared_error: 335938.8750 - val_loss: 332422.9648 - val_mean_squared_error: 332422.9375\n",
      "Epoch 2/100\n",
      "30/30 [==============================] - 0s 11ms/sample - loss: 335299.4333 - mean_squared_error: 335299.4688 - val_loss: 331708.6562 - val_mean_squared_error: 331708.6875\n",
      "Epoch 3/100\n",
      "30/30 [==============================] - 1s 18ms/sample - loss: 334050.4208 - mean_squared_error: 334050.4375 - val_loss: 330258.7188 - val_mean_squared_error: 330258.7188\n",
      "Epoch 4/100\n",
      "30/30 [==============================] - 0s 14ms/sample - loss: 331584.5104 - mean_squared_error: 331584.5000 - val_loss: 327324.2969 - val_mean_squared_error: 327324.3125\n",
      "Epoch 5/100\n",
      "30/30 [==============================] - 0s 16ms/sample - loss: 326589.8260 - mean_squared_error: 326589.8438 - val_loss: 321379.1562 - val_mean_squared_error: 321379.1562\n",
      "Epoch 6/100\n",
      "30/30 [==============================] - 1s 17ms/sample - loss: 316911.6063 - mean_squared_error: 316911.5312 - val_loss: 309764.0312 - val_mean_squared_error: 309764.0000\n",
      "Epoch 7/100\n",
      "30/30 [==============================] - 0s 15ms/sample - loss: 297722.7000 - mean_squared_error: 297722.7188 - val_loss: 289610.5273 - val_mean_squared_error: 289610.5312\n",
      "Epoch 8/100\n",
      "30/30 [==============================] - 1s 22ms/sample - loss: 267384.0823 - mean_squared_error: 267384.0938 - val_loss: 256386.5586 - val_mean_squared_error: 256386.5625\n",
      "Epoch 9/100\n",
      "30/30 [==============================] - 0s 16ms/sample - loss: 221520.5870 - mean_squared_error: 221520.5781 - val_loss: 210151.9766 - val_mean_squared_error: 210151.9688\n",
      "Epoch 10/100\n",
      "30/30 [==============================] - 0s 15ms/sample - loss: 162733.9562 - mean_squared_error: 162733.9688 - val_loss: 153762.3438 - val_mean_squared_error: 153762.3438\n",
      "Epoch 11/100\n",
      "30/30 [==============================] - 0s 13ms/sample - loss: 103335.1038 - mean_squared_error: 103335.1094 - val_loss: 93113.4297 - val_mean_squared_error: 93113.4219\n",
      "Epoch 12/100\n",
      "30/30 [==============================] - 0s 14ms/sample - loss: 57570.1072 - mean_squared_error: 57570.1094 - val_loss: 48926.3022 - val_mean_squared_error: 48926.3047\n",
      "Epoch 13/100\n",
      "30/30 [==============================] - 0s 14ms/sample - loss: 35068.3727 - mean_squared_error: 35068.3711 - val_loss: 24566.6030 - val_mean_squared_error: 24566.6016\n",
      "Epoch 14/100\n",
      "30/30 [==============================] - 0s 14ms/sample - loss: 26549.1239 - mean_squared_error: 26549.1250 - val_loss: 14446.3661 - val_mean_squared_error: 14446.3662\n",
      "Epoch 15/100\n",
      "30/30 [==============================] - 0s 14ms/sample - loss: 22761.0220 - mean_squared_error: 22761.0215 - val_loss: 9792.2136 - val_mean_squared_error: 9792.2139\n",
      "Epoch 16/100\n",
      "30/30 [==============================] - 0s 11ms/sample - loss: 17393.4361 - mean_squared_error: 17393.4355 - val_loss: 10828.7561 - val_mean_squared_error: 10828.7559\n",
      "Epoch 17/100\n",
      "30/30 [==============================] - 0s 13ms/sample - loss: 15584.0703 - mean_squared_error: 15584.0693 - val_loss: 10413.6437 - val_mean_squared_error: 10413.6436\n",
      "Epoch 18/100\n",
      "30/30 [==============================] - 0s 14ms/sample - loss: 13931.9610 - mean_squared_error: 13931.9600 - val_loss: 8630.1701 - val_mean_squared_error: 8630.1699\n",
      "Epoch 19/100\n",
      "30/30 [==============================] - 0s 12ms/sample - loss: 13166.9648 - mean_squared_error: 13166.9639 - val_loss: 7437.5941 - val_mean_squared_error: 7437.5942\n",
      "Epoch 20/100\n",
      "30/30 [==============================] - 0s 15ms/sample - loss: 12175.9417 - mean_squared_error: 12175.9424 - val_loss: 7368.2417 - val_mean_squared_error: 7368.2412\n",
      "Epoch 21/100\n",
      "30/30 [==============================] - 0s 12ms/sample - loss: 11470.5457 - mean_squared_error: 11470.5459 - val_loss: 7209.5860 - val_mean_squared_error: 7209.5859\n",
      "Epoch 22/100\n",
      "30/30 [==============================] - 0s 13ms/sample - loss: 11177.1856 - mean_squared_error: 11177.1865 - val_loss: 7305.9580 - val_mean_squared_error: 7305.9580\n",
      "Epoch 23/100\n",
      "30/30 [==============================] - 0s 14ms/sample - loss: 10498.4172 - mean_squared_error: 10498.4180 - val_loss: 6641.3846 - val_mean_squared_error: 6641.3853\n",
      "Epoch 24/100\n",
      "30/30 [==============================] - 0s 12ms/sample - loss: 10264.8559 - mean_squared_error: 10264.8555 - val_loss: 6725.6973 - val_mean_squared_error: 6725.6973\n",
      "Epoch 25/100\n",
      "30/30 [==============================] - 0s 15ms/sample - loss: 9909.1706 - mean_squared_error: 9909.1709 - val_loss: 6335.5836 - val_mean_squared_error: 6335.5840\n",
      "Epoch 26/100\n",
      "30/30 [==============================] - 1s 19ms/sample - loss: 9493.4345 - mean_squared_error: 9493.4346 - val_loss: 6396.4189 - val_mean_squared_error: 6396.4189\n",
      "Epoch 27/100\n",
      "30/30 [==============================] - 0s 15ms/sample - loss: 9063.8081 - mean_squared_error: 9063.8086 - val_loss: 6235.7744 - val_mean_squared_error: 6235.7744\n",
      "Epoch 28/100\n",
      "30/30 [==============================] - 0s 10ms/sample - loss: 8778.9213 - mean_squared_error: 8778.9209 - val_loss: 6178.1835 - val_mean_squared_error: 6178.1836\n",
      "Epoch 29/100\n",
      "30/30 [==============================] - 0s 14ms/sample - loss: 8421.3729 - mean_squared_error: 8421.3730 - val_loss: 6082.1939 - val_mean_squared_error: 6082.1938\n",
      "Epoch 30/100\n",
      "30/30 [==============================] - 0s 10ms/sample - loss: 8155.5042 - mean_squared_error: 8155.5044 - val_loss: 5992.1262 - val_mean_squared_error: 5992.1265\n",
      "Epoch 31/100\n",
      "30/30 [==============================] - 0s 10ms/sample - loss: 8080.4693 - mean_squared_error: 8080.4697 - val_loss: 6048.2720 - val_mean_squared_error: 6048.2720\n",
      "Epoch 32/100\n",
      "30/30 [==============================] - 0s 12ms/sample - loss: 7907.1849 - mean_squared_error: 7907.1841 - val_loss: 5800.2469 - val_mean_squared_error: 5800.2471\n",
      "Epoch 33/100\n",
      "30/30 [==============================] - 0s 12ms/sample - loss: 7646.1055 - mean_squared_error: 7646.1045 - val_loss: 5721.1730 - val_mean_squared_error: 5721.1729\n",
      "Epoch 34/100\n",
      "30/30 [==============================] - 0s 16ms/sample - loss: 7307.5655 - mean_squared_error: 7307.5659 - val_loss: 5613.0263 - val_mean_squared_error: 5613.0264\n",
      "Epoch 35/100\n",
      "30/30 [==============================] - 0s 11ms/sample - loss: 7060.0471 - mean_squared_error: 7060.0474 - val_loss: 5631.0567 - val_mean_squared_error: 5631.0566\n",
      "Epoch 36/100\n",
      "30/30 [==============================] - 0s 11ms/sample - loss: 6945.7142 - mean_squared_error: 6945.7139 - val_loss: 5589.2989 - val_mean_squared_error: 5589.2988\n",
      "Epoch 37/100\n",
      "30/30 [==============================] - 0s 13ms/sample - loss: 6810.5190 - mean_squared_error: 6810.5200 - val_loss: 5360.1963 - val_mean_squared_error: 5360.1963\n",
      "Epoch 38/100\n",
      "30/30 [==============================] - 0s 10ms/sample - loss: 6523.5551 - mean_squared_error: 6523.5547 - val_loss: 5493.0327 - val_mean_squared_error: 5493.0322\n",
      "Epoch 39/100\n",
      "30/30 [==============================] - 0s 11ms/sample - loss: 6590.9836 - mean_squared_error: 6590.9839 - val_loss: 5590.2811 - val_mean_squared_error: 5590.2812\n",
      "Epoch 40/100\n",
      "30/30 [==============================] - 0s 11ms/sample - loss: 6358.9765 - mean_squared_error: 6358.9761 - val_loss: 5258.0756 - val_mean_squared_error: 5258.0757\n",
      "Epoch 41/100\n",
      "30/30 [==============================] - 0s 10ms/sample - loss: 6289.6503 - mean_squared_error: 6289.6499 - val_loss: 5105.9374 - val_mean_squared_error: 5105.9375\n",
      "Epoch 42/100\n",
      "30/30 [==============================] - 0s 11ms/sample - loss: 5986.1814 - mean_squared_error: 5986.1816 - val_loss: 5467.9932 - val_mean_squared_error: 5467.9932\n",
      "Epoch 43/100\n",
      "30/30 [==============================] - 0s 11ms/sample - loss: 6428.9981 - mean_squared_error: 6428.9971 - val_loss: 5750.7309 - val_mean_squared_error: 5750.7305\n",
      "Epoch 44/100\n",
      "30/30 [==============================] - 0s 10ms/sample - loss: 6272.5220 - mean_squared_error: 6272.5225 - val_loss: 5282.4994 - val_mean_squared_error: 5282.4995\n"
     ]
    },
    {
     "name": "stdout",
     "output_type": "stream",
     "text": [
      "Epoch 45/100\n",
      "30/30 [==============================] - 0s 10ms/sample - loss: 5775.0338 - mean_squared_error: 5775.0342 - val_loss: 5427.9631 - val_mean_squared_error: 5427.9634\n",
      "Epoch 46/100\n",
      "30/30 [==============================] - 0s 10ms/sample - loss: 5525.1688 - mean_squared_error: 5525.1685 - val_loss: 5236.2026 - val_mean_squared_error: 5236.2026\n",
      "Epoch 47/100\n",
      "30/30 [==============================] - 0s 11ms/sample - loss: 5556.7329 - mean_squared_error: 5556.7324 - val_loss: 5378.0125 - val_mean_squared_error: 5378.0127\n",
      "Epoch 48/100\n",
      "30/30 [==============================] - 0s 10ms/sample - loss: 5409.7934 - mean_squared_error: 5409.7925 - val_loss: 5673.0416 - val_mean_squared_error: 5673.0420\n",
      "Epoch 49/100\n",
      "30/30 [==============================] - 0s 10ms/sample - loss: 5590.8529 - mean_squared_error: 5590.8525 - val_loss: 5028.2356 - val_mean_squared_error: 5028.2354\n",
      "Epoch 50/100\n",
      "30/30 [==============================] - 0s 11ms/sample - loss: 5238.6920 - mean_squared_error: 5238.6924 - val_loss: 5614.0778 - val_mean_squared_error: 5614.0776\n",
      "Epoch 51/100\n",
      "30/30 [==============================] - 0s 10ms/sample - loss: 5025.2146 - mean_squared_error: 5025.2144 - val_loss: 5454.4157 - val_mean_squared_error: 5454.4160\n",
      "Epoch 52/100\n",
      "30/30 [==============================] - 0s 10ms/sample - loss: 5035.4672 - mean_squared_error: 5035.4673 - val_loss: 5416.4153 - val_mean_squared_error: 5416.4155\n",
      "Epoch 53/100\n",
      "30/30 [==============================] - 0s 13ms/sample - loss: 4857.8114 - mean_squared_error: 4857.8115 - val_loss: 5326.5309 - val_mean_squared_error: 5326.5312\n",
      "Epoch 54/100\n",
      "30/30 [==============================] - 0s 12ms/sample - loss: 4981.1777 - mean_squared_error: 4981.1782 - val_loss: 6063.8541 - val_mean_squared_error: 6063.8545\n",
      "Epoch 55/100\n",
      "30/30 [==============================] - 0s 10ms/sample - loss: 4838.2813 - mean_squared_error: 4838.2812 - val_loss: 5248.7759 - val_mean_squared_error: 5248.7759\n",
      "Epoch 56/100\n",
      "30/30 [==============================] - 0s 10ms/sample - loss: 4747.0400 - mean_squared_error: 4747.0396 - val_loss: 5129.3970 - val_mean_squared_error: 5129.3970\n",
      "Epoch 57/100\n",
      "30/30 [==============================] - 0s 10ms/sample - loss: 4594.8609 - mean_squared_error: 4594.8608 - val_loss: 5687.4976 - val_mean_squared_error: 5687.4980\n",
      "Epoch 58/100\n",
      "30/30 [==============================] - 0s 10ms/sample - loss: 4599.3856 - mean_squared_error: 4599.3853 - val_loss: 5640.9003 - val_mean_squared_error: 5640.8999\n",
      "Epoch 59/100\n",
      "30/30 [==============================] - 0s 10ms/sample - loss: 4488.7680 - mean_squared_error: 4488.7681 - val_loss: 5780.5862 - val_mean_squared_error: 5780.5864\n",
      "Epoch 60/100\n",
      "30/30 [==============================] - 0s 10ms/sample - loss: 4516.2207 - mean_squared_error: 4516.2202 - val_loss: 5848.3435 - val_mean_squared_error: 5848.3438\n",
      "Epoch 61/100\n",
      "30/30 [==============================] - 0s 11ms/sample - loss: 4568.8392 - mean_squared_error: 4568.8394 - val_loss: 6198.8928 - val_mean_squared_error: 6198.8926\n",
      "Epoch 62/100\n",
      "30/30 [==============================] - 0s 11ms/sample - loss: 4520.4694 - mean_squared_error: 4520.4697 - val_loss: 5346.0052 - val_mean_squared_error: 5346.0054\n",
      "Epoch 63/100\n",
      "30/30 [==============================] - 0s 10ms/sample - loss: 4401.0791 - mean_squared_error: 4401.0791 - val_loss: 5586.8205 - val_mean_squared_error: 5586.8203\n",
      "Epoch 64/100\n",
      "30/30 [==============================] - 0s 10ms/sample - loss: 4251.6565 - mean_squared_error: 4251.6562 - val_loss: 5857.6866 - val_mean_squared_error: 5857.6865\n",
      "Epoch 65/100\n",
      "30/30 [==============================] - 0s 10ms/sample - loss: 4228.5489 - mean_squared_error: 4228.5488 - val_loss: 5932.1942 - val_mean_squared_error: 5932.1938\n",
      "Epoch 66/100\n",
      "30/30 [==============================] - 0s 11ms/sample - loss: 4118.6935 - mean_squared_error: 4118.6934 - val_loss: 5925.2015 - val_mean_squared_error: 5925.2012\n",
      "Epoch 67/100\n",
      "30/30 [==============================] - 0s 10ms/sample - loss: 4136.4673 - mean_squared_error: 4136.4673 - val_loss: 6318.7829 - val_mean_squared_error: 6318.7832\n",
      "Epoch 68/100\n",
      "30/30 [==============================] - 0s 10ms/sample - loss: 4055.0496 - mean_squared_error: 4055.0496 - val_loss: 6186.6401 - val_mean_squared_error: 6186.6396\n",
      "Epoch 69/100\n",
      "30/30 [==============================] - 0s 10ms/sample - loss: 4019.2338 - mean_squared_error: 4019.2339 - val_loss: 5541.6458 - val_mean_squared_error: 5541.6465\n",
      "Epoch 70/100\n",
      "30/30 [==============================] - 0s 10ms/sample - loss: 4010.0361 - mean_squared_error: 4010.0359 - val_loss: 5820.1817 - val_mean_squared_error: 5820.1816\n",
      "Epoch 71/100\n",
      "30/30 [==============================] - 0s 11ms/sample - loss: 3906.2653 - mean_squared_error: 3906.2654 - val_loss: 6324.0305 - val_mean_squared_error: 6324.0303\n",
      "Epoch 72/100\n",
      "30/30 [==============================] - 0s 11ms/sample - loss: 3946.9047 - mean_squared_error: 3946.9045 - val_loss: 5672.9182 - val_mean_squared_error: 5672.9185\n",
      "Epoch 73/100\n",
      "30/30 [==============================] - 0s 10ms/sample - loss: 3799.8611 - mean_squared_error: 3799.8616 - val_loss: 6543.0379 - val_mean_squared_error: 6543.0376\n",
      "Epoch 74/100\n",
      "30/30 [==============================] - 0s 10ms/sample - loss: 3887.2330 - mean_squared_error: 3887.2334 - val_loss: 6017.8740 - val_mean_squared_error: 6017.8740\n",
      "Epoch 75/100\n",
      "30/30 [==============================] - 0s 10ms/sample - loss: 3804.5605 - mean_squared_error: 3804.5601 - val_loss: 6546.7991 - val_mean_squared_error: 6546.7988\n",
      "Epoch 76/100\n",
      "30/30 [==============================] - 0s 10ms/sample - loss: 3809.2411 - mean_squared_error: 3809.2415 - val_loss: 6144.1773 - val_mean_squared_error: 6144.1772\n",
      "Epoch 77/100\n",
      "30/30 [==============================] - 0s 12ms/sample - loss: 3763.0806 - mean_squared_error: 3763.0806 - val_loss: 5985.1800 - val_mean_squared_error: 5985.1802\n",
      "Epoch 78/100\n",
      "30/30 [==============================] - 0s 11ms/sample - loss: 3732.1535 - mean_squared_error: 3732.1533 - val_loss: 6110.7279 - val_mean_squared_error: 6110.7280\n",
      "Epoch 79/100\n",
      "30/30 [==============================] - 0s 10ms/sample - loss: 3651.3885 - mean_squared_error: 3651.3892 - val_loss: 6040.0863 - val_mean_squared_error: 6040.0859\n",
      "Epoch 80/100\n",
      "30/30 [==============================] - 0s 11ms/sample - loss: 3645.4812 - mean_squared_error: 3645.4812 - val_loss: 6075.0597 - val_mean_squared_error: 6075.0596\n",
      "Epoch 81/100\n",
      "30/30 [==============================] - 0s 10ms/sample - loss: 3765.7587 - mean_squared_error: 3765.7583 - val_loss: 7030.2008 - val_mean_squared_error: 7030.2012\n",
      "Epoch 82/100\n",
      "30/30 [==============================] - 0s 10ms/sample - loss: 3647.0544 - mean_squared_error: 3647.0542 - val_loss: 5907.8956 - val_mean_squared_error: 5907.8955\n",
      "Epoch 83/100\n",
      "30/30 [==============================] - 0s 10ms/sample - loss: 3595.7293 - mean_squared_error: 3595.7295 - val_loss: 6982.3115 - val_mean_squared_error: 6982.3115\n",
      "Epoch 84/100\n",
      "30/30 [==============================] - 0s 10ms/sample - loss: 3582.5564 - mean_squared_error: 3582.5562 - val_loss: 5747.0978 - val_mean_squared_error: 5747.0981\n",
      "Epoch 85/100\n",
      "30/30 [==============================] - 0s 10ms/sample - loss: 3487.0796 - mean_squared_error: 3487.0793 - val_loss: 6245.9624 - val_mean_squared_error: 6245.9629\n",
      "Epoch 86/100\n",
      "30/30 [==============================] - 0s 10ms/sample - loss: 3592.3526 - mean_squared_error: 3592.3525 - val_loss: 6266.9803 - val_mean_squared_error: 6266.9805\n",
      "Epoch 87/100\n",
      "30/30 [==============================] - 0s 10ms/sample - loss: 3514.7858 - mean_squared_error: 3514.7859 - val_loss: 7288.8633 - val_mean_squared_error: 7288.8633\n",
      "Epoch 88/100\n",
      "30/30 [==============================] - 0s 11ms/sample - loss: 3393.2183 - mean_squared_error: 3393.2183 - val_loss: 6531.4644 - val_mean_squared_error: 6531.4648\n",
      "Epoch 89/100\n",
      "30/30 [==============================] - 0s 10ms/sample - loss: 3450.9651 - mean_squared_error: 3450.9651 - val_loss: 6319.7390 - val_mean_squared_error: 6319.7393\n",
      "Epoch 90/100\n",
      "30/30 [==============================] - 0s 11ms/sample - loss: 3442.9949 - mean_squared_error: 3442.9949 - val_loss: 7224.9637 - val_mean_squared_error: 7224.9634\n",
      "Epoch 91/100\n"
     ]
    },
    {
     "name": "stdout",
     "output_type": "stream",
     "text": [
      "30/30 [==============================] - 0s 10ms/sample - loss: 3479.5077 - mean_squared_error: 3479.5078 - val_loss: 6459.1192 - val_mean_squared_error: 6459.1191\n",
      "Epoch 92/100\n",
      "30/30 [==============================] - 0s 10ms/sample - loss: 3278.1672 - mean_squared_error: 3278.1677 - val_loss: 7060.5049 - val_mean_squared_error: 7060.5049\n",
      "Epoch 93/100\n",
      "30/30 [==============================] - 0s 11ms/sample - loss: 3263.3110 - mean_squared_error: 3263.3113 - val_loss: 6746.7965 - val_mean_squared_error: 6746.7964\n",
      "Epoch 94/100\n",
      "30/30 [==============================] - 0s 10ms/sample - loss: 3443.7353 - mean_squared_error: 3443.7354 - val_loss: 6966.2280 - val_mean_squared_error: 6966.2275\n",
      "Epoch 95/100\n",
      "30/30 [==============================] - 0s 10ms/sample - loss: 3268.8058 - mean_squared_error: 3268.8057 - val_loss: 6339.7954 - val_mean_squared_error: 6339.7954\n",
      "Epoch 96/100\n",
      "30/30 [==============================] - 0s 10ms/sample - loss: 3183.3642 - mean_squared_error: 3183.3643 - val_loss: 6772.5355 - val_mean_squared_error: 6772.5356\n",
      "Epoch 97/100\n",
      "30/30 [==============================] - 0s 11ms/sample - loss: 3190.1294 - mean_squared_error: 3190.1296 - val_loss: 7195.6188 - val_mean_squared_error: 7195.6191\n",
      "Epoch 98/100\n",
      "30/30 [==============================] - 0s 11ms/sample - loss: 3127.6451 - mean_squared_error: 3127.6450 - val_loss: 7127.5649 - val_mean_squared_error: 7127.5645\n",
      "Epoch 99/100\n",
      "30/30 [==============================] - 0s 10ms/sample - loss: 3274.1200 - mean_squared_error: 3274.1201 - val_loss: 6362.6181 - val_mean_squared_error: 6362.6182\n",
      "Epoch 100/100\n",
      "30/30 [==============================] - 0s 10ms/sample - loss: 3143.1544 - mean_squared_error: 3143.1545 - val_loss: 8073.9766 - val_mean_squared_error: 8073.9771\n"
     ]
    }
   ],
   "source": [
    "history = model.fit(X_train, y_train, batch_size = 2, epochs = 100, verbose = 1, validation_split = .2)"
   ]
  },
  {
   "cell_type": "code",
   "execution_count": 15,
   "metadata": {},
   "outputs": [
    {
     "name": "stdout",
     "output_type": "stream",
     "text": [
      "60.94711973076573\n",
      "83.29576692425108\n"
     ]
    }
   ],
   "source": [
    "pred_train = model.predict(X_train)\n",
    "print(np.sqrt(mean_squared_error(y_train, pred_train)))\n",
    "\n",
    "pred = model.predict(X_test)\n",
    "print(np.sqrt(mean_squared_error(y_test,pred)))"
   ]
  },
  {
   "cell_type": "code",
   "execution_count": null,
   "metadata": {},
   "outputs": [],
   "source": []
  },
  {
   "cell_type": "code",
   "execution_count": null,
   "metadata": {},
   "outputs": [],
   "source": []
  },
  {
   "cell_type": "code",
   "execution_count": null,
   "metadata": {},
   "outputs": [],
   "source": []
  }
 ],
 "metadata": {
  "kernelspec": {
   "display_name": "Python 3",
   "language": "python",
   "name": "python3"
  },
  "language_info": {
   "codemirror_mode": {
    "name": "ipython",
    "version": 3
   },
   "file_extension": ".py",
   "mimetype": "text/x-python",
   "name": "python",
   "nbconvert_exporter": "python",
   "pygments_lexer": "ipython3",
   "version": "3.6.8"
  }
 },
 "nbformat": 4,
 "nbformat_minor": 2
}
