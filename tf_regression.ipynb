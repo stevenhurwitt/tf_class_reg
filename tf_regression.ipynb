{
 "cells": [
  {
   "cell_type": "markdown",
   "metadata": {},
   "source": [
    "# Regression in TF"
   ]
  },
  {
   "cell_type": "code",
   "execution_count": 1,
   "metadata": {},
   "outputs": [
    {
     "name": "stdout",
     "output_type": "stream",
     "text": [
      "imported modules\n"
     ]
    }
   ],
   "source": [
    "import os\n",
    "from math import sqrt\n",
    "import pandas as pd\n",
    "import numpy as np\n",
    "import seaborn as sns\n",
    "import tensorflow as tf\n",
    "import matplotlib.pyplot as plt\n",
    "\n",
    "from sklearn.model_selection import train_test_split\n",
    "from sklearn.metrics import mean_squared_error\n",
    "from sklearn.preprocessing import StandardScaler\n",
    "from tensorflow.keras.layers import Input, Dense, Activation, Dropout\n",
    "from tensorflow.keras.models import Model, Sequential\n",
    "\n",
    "%matplotlib inline\n",
    "print('imported modules')"
   ]
  },
  {
   "cell_type": "code",
   "execution_count": 2,
   "metadata": {},
   "outputs": [
    {
     "name": "stdout",
     "output_type": "stream",
     "text": [
      "2.1.0\n"
     ]
    }
   ],
   "source": [
    "print(tf.__version__)"
   ]
  },
  {
   "cell_type": "code",
   "execution_count": 3,
   "metadata": {},
   "outputs": [
    {
     "data": {
      "text/plain": [
       "[name: \"/device:CPU:0\"\n",
       " device_type: \"CPU\"\n",
       " memory_limit: 268435456\n",
       " locality {\n",
       " }\n",
       " incarnation: 14582363367214306915,\n",
       " name: \"/device:GPU:0\"\n",
       " device_type: \"GPU\"\n",
       " memory_limit: 4849834393\n",
       " locality {\n",
       "   bus_id: 1\n",
       "   links {\n",
       "   }\n",
       " }\n",
       " incarnation: 1806594265263623606\n",
       " physical_device_desc: \"device: 0, name: GeForce GTX 1660 Ti, pci bus id: 0000:01:00.0, compute capability: 7.5\"]"
      ]
     },
     "execution_count": 3,
     "metadata": {},
     "output_type": "execute_result"
    }
   ],
   "source": [
    "from tensorflow.python.client import device_lib\n",
    "\n",
    "device_lib.list_local_devices()"
   ]
  },
  {
   "cell_type": "markdown",
   "metadata": {},
   "source": [
    "## Read data"
   ]
  },
  {
   "cell_type": "code",
   "execution_count": 4,
   "metadata": {},
   "outputs": [
    {
     "data": {
      "text/html": [
       "<div>\n",
       "<style scoped>\n",
       "    .dataframe tbody tr th:only-of-type {\n",
       "        vertical-align: middle;\n",
       "    }\n",
       "\n",
       "    .dataframe tbody tr th {\n",
       "        vertical-align: top;\n",
       "    }\n",
       "\n",
       "    .dataframe thead th {\n",
       "        text-align: right;\n",
       "    }\n",
       "</style>\n",
       "<table border=\"1\" class=\"dataframe\">\n",
       "  <thead>\n",
       "    <tr style=\"text-align: right;\">\n",
       "      <th></th>\n",
       "      <th>Petrol_tax</th>\n",
       "      <th>Average_income</th>\n",
       "      <th>Paved_Highways</th>\n",
       "      <th>Population_Driver_licence(%)</th>\n",
       "      <th>Petrol_Consumption</th>\n",
       "    </tr>\n",
       "  </thead>\n",
       "  <tbody>\n",
       "    <tr>\n",
       "      <th>0</th>\n",
       "      <td>9.0</td>\n",
       "      <td>3571</td>\n",
       "      <td>1976</td>\n",
       "      <td>0.525</td>\n",
       "      <td>541</td>\n",
       "    </tr>\n",
       "    <tr>\n",
       "      <th>1</th>\n",
       "      <td>9.0</td>\n",
       "      <td>4092</td>\n",
       "      <td>1250</td>\n",
       "      <td>0.572</td>\n",
       "      <td>524</td>\n",
       "    </tr>\n",
       "    <tr>\n",
       "      <th>2</th>\n",
       "      <td>9.0</td>\n",
       "      <td>3865</td>\n",
       "      <td>1586</td>\n",
       "      <td>0.580</td>\n",
       "      <td>561</td>\n",
       "    </tr>\n",
       "    <tr>\n",
       "      <th>3</th>\n",
       "      <td>7.5</td>\n",
       "      <td>4870</td>\n",
       "      <td>2351</td>\n",
       "      <td>0.529</td>\n",
       "      <td>414</td>\n",
       "    </tr>\n",
       "    <tr>\n",
       "      <th>4</th>\n",
       "      <td>8.0</td>\n",
       "      <td>4399</td>\n",
       "      <td>431</td>\n",
       "      <td>0.544</td>\n",
       "      <td>410</td>\n",
       "    </tr>\n",
       "  </tbody>\n",
       "</table>\n",
       "</div>"
      ],
      "text/plain": [
       "   Petrol_tax  Average_income  Paved_Highways  Population_Driver_licence(%)  \\\n",
       "0         9.0            3571            1976                         0.525   \n",
       "1         9.0            4092            1250                         0.572   \n",
       "2         9.0            3865            1586                         0.580   \n",
       "3         7.5            4870            2351                         0.529   \n",
       "4         8.0            4399             431                         0.544   \n",
       "\n",
       "   Petrol_Consumption  \n",
       "0                 541  \n",
       "1                 524  \n",
       "2                 561  \n",
       "3                 414  \n",
       "4                 410  "
      ]
     },
     "execution_count": 4,
     "metadata": {},
     "output_type": "execute_result"
    }
   ],
   "source": [
    "petrol = pd.read_csv('petrol_consumption.csv')\n",
    "petrol.head()"
   ]
  },
  {
   "cell_type": "markdown",
   "metadata": {},
   "source": [
    "## Preprocess data"
   ]
  },
  {
   "cell_type": "code",
   "execution_count": 5,
   "metadata": {},
   "outputs": [],
   "source": [
    "X = petrol.iloc[:,:4].values\n",
    "y = petrol.iloc[:,4].values"
   ]
  },
  {
   "cell_type": "code",
   "execution_count": 6,
   "metadata": {},
   "outputs": [],
   "source": [
    "X_train, X_test, y_train, y_test = train_test_split(X, y, test_size = .2, random_state = 23)"
   ]
  },
  {
   "cell_type": "code",
   "execution_count": 7,
   "metadata": {},
   "outputs": [],
   "source": [
    "sc = StandardScaler()"
   ]
  },
  {
   "cell_type": "code",
   "execution_count": 8,
   "metadata": {},
   "outputs": [],
   "source": [
    "X_train = sc.fit_transform(X_train)\n",
    "X_test = sc.transform(X_test)"
   ]
  },
  {
   "cell_type": "code",
   "execution_count": 9,
   "metadata": {},
   "outputs": [
    {
     "data": {
      "text/plain": [
       "(48, 4)"
      ]
     },
     "execution_count": 9,
     "metadata": {},
     "output_type": "execute_result"
    }
   ],
   "source": [
    "X.shape"
   ]
  },
  {
   "cell_type": "markdown",
   "metadata": {},
   "source": [
    "## Train Model - tf 1.3"
   ]
  },
  {
   "cell_type": "code",
   "execution_count": 8,
   "metadata": {},
   "outputs": [
    {
     "name": "stdout",
     "output_type": "stream",
     "text": [
      "WARNING:tensorflow:From /usr/local/lib/python3.6/dist-packages/tensorflow/python/ops/resource_variable_ops.py:435: colocate_with (from tensorflow.python.framework.ops) is deprecated and will be removed in a future version.\n",
      "Instructions for updating:\n",
      "Colocations handled automatically by placer.\n",
      "WARNING:tensorflow:From /usr/local/lib/python3.6/dist-packages/tensorflow/python/keras/utils/losses_utils.py:170: to_float (from tensorflow.python.ops.math_ops) is deprecated and will be removed in a future version.\n",
      "Instructions for updating:\n",
      "Use tf.cast instead.\n"
     ]
    }
   ],
   "source": [
    "model = Sequential()\n",
    "model.add(Dense(100, activation='relu', input_shape = (X.shape[1],)))\n",
    "model.add(Dense(50, activation = 'relu'))\n",
    "model.add(Dense(25, activation = 'relu'))\n",
    "model.add(Dense(1, activation = 'relu'))\n",
    "model.compile(loss = 'mean_squared_error', optimizer = 'adam', metrics = ['mean_squared_error'])"
   ]
  },
  {
   "cell_type": "markdown",
   "metadata": {},
   "source": [
    "## Train Model - tf 2.0"
   ]
  },
  {
   "cell_type": "code",
   "execution_count": 10,
   "metadata": {},
   "outputs": [],
   "source": [
    "input_layer = Input(shape = X.shape[1],)\n",
    "dense_layer_1 = Dense(100, activation = 'relu')(input_layer)\n",
    "dense_layer_2 = Dense(50, activation = 'relu')(dense_layer_1)\n",
    "dense_layer_3 = Dense(25, activation = 'relu')(dense_layer_2)\n",
    "output = Dense(1)(dense_layer_3)\n",
    "\n",
    "model = Model(inputs = input_layer, outputs = output)\n",
    "model.compile(loss = 'mean_squared_error', optimizer = 'adam', metrics = ['mean_squared_error'])"
   ]
  },
  {
   "cell_type": "code",
   "execution_count": 11,
   "metadata": {},
   "outputs": [
    {
     "name": "stdout",
     "output_type": "stream",
     "text": [
      "Model: \"model\"\n",
      "_________________________________________________________________\n",
      "Layer (type)                 Output Shape              Param #   \n",
      "=================================================================\n",
      "input_1 (InputLayer)         [(None, 4)]               0         \n",
      "_________________________________________________________________\n",
      "dense (Dense)                (None, 100)               500       \n",
      "_________________________________________________________________\n",
      "dense_1 (Dense)              (None, 50)                5050      \n",
      "_________________________________________________________________\n",
      "dense_2 (Dense)              (None, 25)                1275      \n",
      "_________________________________________________________________\n",
      "dense_3 (Dense)              (None, 1)                 26        \n",
      "=================================================================\n",
      "Total params: 6,851\n",
      "Trainable params: 6,851\n",
      "Non-trainable params: 0\n",
      "_________________________________________________________________\n",
      "None\n"
     ]
    }
   ],
   "source": [
    "print(model.summary())"
   ]
  },
  {
   "cell_type": "code",
   "execution_count": 12,
   "metadata": {},
   "outputs": [
    {
     "name": "stdout",
     "output_type": "stream",
     "text": [
      "Train on 30 samples, validate on 8 samples\n",
      "Epoch 1/100\n",
      "30/30 [==============================] - 2s 77ms/sample - loss: 335984.3563 - mean_squared_error: 335984.3438 - val_loss: 332451.9531 - val_mean_squared_error: 332451.9375\n",
      "Epoch 2/100\n",
      "30/30 [==============================] - 0s 3ms/sample - loss: 335311.1437 - mean_squared_error: 335311.1562 - val_loss: 331783.6797 - val_mean_squared_error: 331783.6875\n",
      "Epoch 3/100\n",
      "30/30 [==============================] - 0s 4ms/sample - loss: 334200.1010 - mean_squared_error: 334200.0938 - val_loss: 330625.5000 - val_mean_squared_error: 330625.5000\n",
      "Epoch 4/100\n",
      "30/30 [==============================] - 0s 4ms/sample - loss: 332187.2729 - mean_squared_error: 332187.2812 - val_loss: 328393.5703 - val_mean_squared_error: 328393.5625\n",
      "Epoch 5/100\n",
      "30/30 [==============================] - 0s 4ms/sample - loss: 328157.9042 - mean_squared_error: 328157.9062 - val_loss: 324363.5547 - val_mean_squared_error: 324363.5625\n",
      "Epoch 6/100\n",
      "30/30 [==============================] - 0s 4ms/sample - loss: 321045.5625 - mean_squared_error: 321045.5312 - val_loss: 317422.2422 - val_mean_squared_error: 317422.2500\n",
      "Epoch 7/100\n",
      "30/30 [==============================] - 0s 3ms/sample - loss: 309192.1979 - mean_squared_error: 309192.1875 - val_loss: 306002.6328 - val_mean_squared_error: 306002.6250\n",
      "Epoch 8/100\n",
      "30/30 [==============================] - 0s 4ms/sample - loss: 289668.6885 - mean_squared_error: 289668.6875 - val_loss: 287373.4688 - val_mean_squared_error: 287373.5000\n",
      "Epoch 9/100\n",
      "30/30 [==============================] - 0s 3ms/sample - loss: 260425.1281 - mean_squared_error: 260425.1406 - val_loss: 260119.3242 - val_mean_squared_error: 260119.3125\n",
      "Epoch 10/100\n",
      "30/30 [==============================] - 0s 2ms/sample - loss: 219314.7031 - mean_squared_error: 219314.7031 - val_loss: 223560.7266 - val_mean_squared_error: 223560.7188\n",
      "Epoch 11/100\n",
      "30/30 [==============================] - 0s 3ms/sample - loss: 168882.6656 - mean_squared_error: 168882.6719 - val_loss: 177160.7324 - val_mean_squared_error: 177160.7344\n",
      "Epoch 12/100\n",
      "30/30 [==============================] - 0s 4ms/sample - loss: 116202.0940 - mean_squared_error: 116202.0859 - val_loss: 126882.0801 - val_mean_squared_error: 126882.0781\n",
      "Epoch 13/100\n",
      "30/30 [==============================] - 0s 4ms/sample - loss: 71277.5330 - mean_squared_error: 71277.5312 - val_loss: 83449.3091 - val_mean_squared_error: 83449.3125\n",
      "Epoch 14/100\n",
      "30/30 [==============================] - 0s 3ms/sample - loss: 48875.5685 - mean_squared_error: 48875.5703 - val_loss: 50083.6925 - val_mean_squared_error: 50083.6953\n",
      "Epoch 15/100\n",
      "30/30 [==============================] - 0s 4ms/sample - loss: 33580.4966 - mean_squared_error: 33580.4961 - val_loss: 36250.7889 - val_mean_squared_error: 36250.7891\n",
      "Epoch 16/100\n",
      "30/30 [==============================] - ETA: 0s - loss: 26710.9338 - mean_squared_error: 26710.93 - 0s 3ms/sample - loss: 27993.5700 - mean_squared_error: 27993.5684 - val_loss: 25902.7231 - val_mean_squared_error: 25902.7227\n",
      "Epoch 17/100\n",
      "30/30 [==============================] - 0s 2ms/sample - loss: 22568.2591 - mean_squared_error: 22568.2598 - val_loss: 21184.4235 - val_mean_squared_error: 21184.4238\n",
      "Epoch 18/100\n",
      "30/30 [==============================] - 0s 3ms/sample - loss: 20054.5444 - mean_squared_error: 20054.5449 - val_loss: 16234.3615 - val_mean_squared_error: 16234.3613\n",
      "Epoch 19/100\n",
      "30/30 [==============================] - 0s 4ms/sample - loss: 17196.4035 - mean_squared_error: 17196.4043 - val_loss: 13786.5612 - val_mean_squared_error: 13786.5605\n",
      "Epoch 20/100\n",
      "30/30 [==============================] - 0s 3ms/sample - loss: 16032.4175 - mean_squared_error: 16032.4170 - val_loss: 13089.1471 - val_mean_squared_error: 13089.1475\n",
      "Epoch 21/100\n",
      "30/30 [==============================] - 0s 4ms/sample - loss: 14351.4486 - mean_squared_error: 14351.4482 - val_loss: 11127.0918 - val_mean_squared_error: 11127.0918\n",
      "Epoch 22/100\n",
      "30/30 [==============================] - 0s 3ms/sample - loss: 13450.7092 - mean_squared_error: 13450.7090 - val_loss: 9560.1200 - val_mean_squared_error: 9560.1201\n",
      "Epoch 23/100\n",
      "30/30 [==============================] - 0s 4ms/sample - loss: 12727.4355 - mean_squared_error: 12727.4365 - val_loss: 8532.4922 - val_mean_squared_error: 8532.4922\n",
      "Epoch 24/100\n",
      "30/30 [==============================] - 0s 3ms/sample - loss: 12048.7170 - mean_squared_error: 12048.7178 - val_loss: 7598.9714 - val_mean_squared_error: 7598.9712\n",
      "Epoch 25/100\n",
      "30/30 [==============================] - 0s 3ms/sample - loss: 11459.7846 - mean_squared_error: 11459.7842 - val_loss: 6788.9203 - val_mean_squared_error: 6788.9204\n",
      "Epoch 26/100\n",
      "30/30 [==============================] - 0s 4ms/sample - loss: 11152.5851 - mean_squared_error: 11152.5830 - val_loss: 6593.2167 - val_mean_squared_error: 6593.2173\n",
      "Epoch 27/100\n",
      "30/30 [==============================] - 0s 4ms/sample - loss: 10883.8411 - mean_squared_error: 10883.8398 - val_loss: 6881.7699 - val_mean_squared_error: 6881.7695\n",
      "Epoch 28/100\n",
      "30/30 [==============================] - 0s 3ms/sample - loss: 10197.3988 - mean_squared_error: 10197.4004 - val_loss: 6300.5017 - val_mean_squared_error: 6300.5015\n",
      "Epoch 29/100\n",
      "30/30 [==============================] - 0s 3ms/sample - loss: 9930.0554 - mean_squared_error: 9930.0557 - val_loss: 5724.9545 - val_mean_squared_error: 5724.9551\n",
      "Epoch 30/100\n",
      "30/30 [==============================] - 0s 3ms/sample - loss: 9774.8535 - mean_squared_error: 9774.8545 - val_loss: 6027.8061 - val_mean_squared_error: 6027.8062\n",
      "Epoch 31/100\n",
      "30/30 [==============================] - 0s 3ms/sample - loss: 9324.5983 - mean_squared_error: 9324.5977 - val_loss: 5869.3372 - val_mean_squared_error: 5869.3374\n",
      "Epoch 32/100\n",
      "30/30 [==============================] - 0s 3ms/sample - loss: 8975.9766 - mean_squared_error: 8975.9775 - val_loss: 5458.3650 - val_mean_squared_error: 5458.3647\n",
      "Epoch 33/100\n",
      "30/30 [==============================] - 0s 3ms/sample - loss: 8837.8046 - mean_squared_error: 8837.8037 - val_loss: 5333.5521 - val_mean_squared_error: 5333.5522\n",
      "Epoch 34/100\n",
      "30/30 [==============================] - 0s 3ms/sample - loss: 8548.4905 - mean_squared_error: 8548.4902 - val_loss: 5008.7870 - val_mean_squared_error: 5008.7871\n",
      "Epoch 35/100\n",
      "30/30 [==============================] - 0s 3ms/sample - loss: 8415.3318 - mean_squared_error: 8415.3320 - val_loss: 4800.7144 - val_mean_squared_error: 4800.7148\n",
      "Epoch 36/100\n",
      "30/30 [==============================] - 0s 3ms/sample - loss: 8003.4353 - mean_squared_error: 8003.4355 - val_loss: 4838.6149 - val_mean_squared_error: 4838.6152\n",
      "Epoch 37/100\n",
      "30/30 [==============================] - 0s 3ms/sample - loss: 7832.9504 - mean_squared_error: 7832.9512 - val_loss: 4860.3045 - val_mean_squared_error: 4860.3042\n",
      "Epoch 38/100\n",
      "30/30 [==============================] - 0s 3ms/sample - loss: 7856.6469 - mean_squared_error: 7856.6475 - val_loss: 4892.0740 - val_mean_squared_error: 4892.0742\n",
      "Epoch 39/100\n",
      "30/30 [==============================] - 0s 3ms/sample - loss: 7340.1986 - mean_squared_error: 7340.1987 - val_loss: 4479.8471 - val_mean_squared_error: 4479.8472\n",
      "Epoch 40/100\n",
      "30/30 [==============================] - 0s 3ms/sample - loss: 7279.5078 - mean_squared_error: 7279.5078 - val_loss: 4460.8934 - val_mean_squared_error: 4460.8936\n",
      "Epoch 41/100\n",
      "30/30 [==============================] - 0s 3ms/sample - loss: 7110.5269 - mean_squared_error: 7110.5264 - val_loss: 4432.1871 - val_mean_squared_error: 4432.1870\n",
      "Epoch 42/100\n",
      "30/30 [==============================] - 0s 3ms/sample - loss: 6860.0999 - mean_squared_error: 6860.1006 - val_loss: 4324.9763 - val_mean_squared_error: 4324.9761\n",
      "Epoch 43/100\n",
      "30/30 [==============================] - 0s 3ms/sample - loss: 6821.7974 - mean_squared_error: 6821.7974 - val_loss: 4245.8140 - val_mean_squared_error: 4245.8140\n",
      "Epoch 44/100\n",
      "30/30 [==============================] - 0s 3ms/sample - loss: 6672.6758 - mean_squared_error: 6672.6763 - val_loss: 4331.3529 - val_mean_squared_error: 4331.3530\n",
      "Epoch 45/100\n",
      "30/30 [==============================] - 0s 4ms/sample - loss: 6425.3379 - mean_squared_error: 6425.3379 - val_loss: 4196.6207 - val_mean_squared_error: 4196.6206\n",
      "Epoch 46/100\n"
     ]
    },
    {
     "name": "stdout",
     "output_type": "stream",
     "text": [
      "30/30 [==============================] - 0s 4ms/sample - loss: 6400.4453 - mean_squared_error: 6400.4448 - val_loss: 4299.9092 - val_mean_squared_error: 4299.9092\n",
      "Epoch 47/100\n",
      "30/30 [==============================] - 0s 3ms/sample - loss: 6311.6216 - mean_squared_error: 6311.6216 - val_loss: 4077.0067 - val_mean_squared_error: 4077.0066\n",
      "Epoch 48/100\n",
      "30/30 [==============================] - 0s 4ms/sample - loss: 6350.2636 - mean_squared_error: 6350.2637 - val_loss: 4323.6527 - val_mean_squared_error: 4323.6523\n",
      "Epoch 49/100\n",
      "30/30 [==============================] - 0s 4ms/sample - loss: 5892.7317 - mean_squared_error: 5892.7319 - val_loss: 4055.4729 - val_mean_squared_error: 4055.4729\n",
      "Epoch 50/100\n",
      "30/30 [==============================] - 0s 3ms/sample - loss: 5823.4605 - mean_squared_error: 5823.4604 - val_loss: 4089.7121 - val_mean_squared_error: 4089.7122\n",
      "Epoch 51/100\n",
      "30/30 [==============================] - 0s 3ms/sample - loss: 5694.8390 - mean_squared_error: 5694.8394 - val_loss: 4060.3068 - val_mean_squared_error: 4060.3066\n",
      "Epoch 52/100\n",
      "30/30 [==============================] - 0s 2ms/sample - loss: 5719.9998 - mean_squared_error: 5719.9995 - val_loss: 4092.3238 - val_mean_squared_error: 4092.3237\n",
      "Epoch 53/100\n",
      "30/30 [==============================] - 0s 3ms/sample - loss: 5507.2344 - mean_squared_error: 5507.2344 - val_loss: 4187.3137 - val_mean_squared_error: 4187.3135\n",
      "Epoch 54/100\n",
      "30/30 [==============================] - 0s 3ms/sample - loss: 5434.8444 - mean_squared_error: 5434.8447 - val_loss: 3967.0134 - val_mean_squared_error: 3967.0134\n",
      "Epoch 55/100\n",
      "30/30 [==============================] - 0s 3ms/sample - loss: 5304.6369 - mean_squared_error: 5304.6372 - val_loss: 3931.1140 - val_mean_squared_error: 3931.1138\n",
      "Epoch 56/100\n",
      "30/30 [==============================] - 0s 3ms/sample - loss: 5509.3090 - mean_squared_error: 5509.3091 - val_loss: 4435.5745 - val_mean_squared_error: 4435.5742\n",
      "Epoch 57/100\n",
      "30/30 [==============================] - 0s 3ms/sample - loss: 5161.1046 - mean_squared_error: 5161.1040 - val_loss: 4151.9167 - val_mean_squared_error: 4151.9170\n",
      "Epoch 58/100\n",
      "30/30 [==============================] - 0s 4ms/sample - loss: 5149.5658 - mean_squared_error: 5149.5659 - val_loss: 4169.0801 - val_mean_squared_error: 4169.0801\n",
      "Epoch 59/100\n",
      "30/30 [==============================] - 0s 4ms/sample - loss: 4999.0409 - mean_squared_error: 4999.0405 - val_loss: 3930.3509 - val_mean_squared_error: 3930.3508\n",
      "Epoch 60/100\n",
      "30/30 [==============================] - 0s 4ms/sample - loss: 5013.2876 - mean_squared_error: 5013.2881 - val_loss: 4159.2912 - val_mean_squared_error: 4159.2910\n",
      "Epoch 61/100\n",
      "30/30 [==============================] - 0s 4ms/sample - loss: 4913.9455 - mean_squared_error: 4913.9453 - val_loss: 4351.8707 - val_mean_squared_error: 4351.8706\n",
      "Epoch 62/100\n",
      "30/30 [==============================] - 0s 3ms/sample - loss: 4744.9712 - mean_squared_error: 4744.9707 - val_loss: 4074.0512 - val_mean_squared_error: 4074.0513\n",
      "Epoch 63/100\n",
      "30/30 [==============================] - 0s 3ms/sample - loss: 4744.3567 - mean_squared_error: 4744.3564 - val_loss: 3928.1432 - val_mean_squared_error: 3928.1431\n",
      "Epoch 64/100\n",
      "30/30 [==============================] - 0s 3ms/sample - loss: 4738.7981 - mean_squared_error: 4738.7979 - val_loss: 4285.5557 - val_mean_squared_error: 4285.5557\n",
      "Epoch 65/100\n",
      "30/30 [==============================] - 0s 3ms/sample - loss: 4586.4286 - mean_squared_error: 4586.4292 - val_loss: 4168.7488 - val_mean_squared_error: 4168.7490\n",
      "Epoch 66/100\n",
      "30/30 [==============================] - 0s 3ms/sample - loss: 4604.7190 - mean_squared_error: 4604.7192 - val_loss: 4272.3694 - val_mean_squared_error: 4272.3696\n",
      "Epoch 67/100\n",
      "30/30 [==============================] - 0s 3ms/sample - loss: 4495.9772 - mean_squared_error: 4495.9771 - val_loss: 4095.8031 - val_mean_squared_error: 4095.8030\n",
      "Epoch 68/100\n",
      "30/30 [==============================] - 0s 3ms/sample - loss: 4488.2709 - mean_squared_error: 4488.2710 - val_loss: 3871.4339 - val_mean_squared_error: 3871.4341\n",
      "Epoch 69/100\n",
      "30/30 [==============================] - 0s 3ms/sample - loss: 4287.5820 - mean_squared_error: 4287.5815 - val_loss: 4378.3088 - val_mean_squared_error: 4378.3086\n",
      "Epoch 70/100\n",
      "30/30 [==============================] - 0s 3ms/sample - loss: 4412.2384 - mean_squared_error: 4412.2378 - val_loss: 4649.6595 - val_mean_squared_error: 4649.6592\n",
      "Epoch 71/100\n",
      "30/30 [==============================] - 0s 4ms/sample - loss: 4219.9388 - mean_squared_error: 4219.9390 - val_loss: 4301.0959 - val_mean_squared_error: 4301.0957\n",
      "Epoch 72/100\n",
      "30/30 [==============================] - 0s 4ms/sample - loss: 4309.3519 - mean_squared_error: 4309.3521 - val_loss: 3946.2050 - val_mean_squared_error: 3946.2051\n",
      "Epoch 73/100\n",
      "30/30 [==============================] - 0s 4ms/sample - loss: 4220.6172 - mean_squared_error: 4220.6172 - val_loss: 4531.6993 - val_mean_squared_error: 4531.6992\n",
      "Epoch 74/100\n",
      "30/30 [==============================] - 0s 3ms/sample - loss: 4243.4727 - mean_squared_error: 4243.4731 - val_loss: 5018.1907 - val_mean_squared_error: 5018.1904\n",
      "Epoch 75/100\n",
      "30/30 [==============================] - 0s 3ms/sample - loss: 4226.4642 - mean_squared_error: 4226.4644 - val_loss: 4159.0543 - val_mean_squared_error: 4159.0542\n",
      "Epoch 76/100\n",
      "30/30 [==============================] - 0s 3ms/sample - loss: 4176.4260 - mean_squared_error: 4176.4263 - val_loss: 4371.5015 - val_mean_squared_error: 4371.5015\n",
      "Epoch 77/100\n",
      "30/30 [==============================] - 0s 3ms/sample - loss: 4237.7760 - mean_squared_error: 4237.7759 - val_loss: 3803.7983 - val_mean_squared_error: 3803.7983\n",
      "Epoch 78/100\n",
      "30/30 [==============================] - 0s 3ms/sample - loss: 4123.2971 - mean_squared_error: 4123.2974 - val_loss: 4822.9799 - val_mean_squared_error: 4822.9800\n",
      "Epoch 79/100\n",
      "30/30 [==============================] - 0s 4ms/sample - loss: 4003.4685 - mean_squared_error: 4003.4683 - val_loss: 4517.2263 - val_mean_squared_error: 4517.2266\n",
      "Epoch 80/100\n",
      "30/30 [==============================] - 0s 4ms/sample - loss: 3998.8163 - mean_squared_error: 3998.8162 - val_loss: 4260.8448 - val_mean_squared_error: 4260.8447\n",
      "Epoch 81/100\n",
      "30/30 [==============================] - 0s 4ms/sample - loss: 3936.9394 - mean_squared_error: 3936.9397 - val_loss: 4784.4594 - val_mean_squared_error: 4784.4595\n",
      "Epoch 82/100\n",
      "30/30 [==============================] - 0s 3ms/sample - loss: 3919.9320 - mean_squared_error: 3919.9321 - val_loss: 4371.4634 - val_mean_squared_error: 4371.4634\n",
      "Epoch 83/100\n",
      "30/30 [==============================] - 0s 3ms/sample - loss: 3805.8832 - mean_squared_error: 3805.8831 - val_loss: 4579.5667 - val_mean_squared_error: 4579.5664\n",
      "Epoch 84/100\n",
      "30/30 [==============================] - 0s 3ms/sample - loss: 3906.9039 - mean_squared_error: 3906.9038 - val_loss: 4416.0065 - val_mean_squared_error: 4416.0068\n",
      "Epoch 85/100\n",
      "30/30 [==============================] - 0s 3ms/sample - loss: 3776.3149 - mean_squared_error: 3776.3149 - val_loss: 4610.2158 - val_mean_squared_error: 4610.2158\n",
      "Epoch 86/100\n",
      "30/30 [==============================] - 0s 3ms/sample - loss: 3699.0749 - mean_squared_error: 3699.0750 - val_loss: 4685.4224 - val_mean_squared_error: 4685.4224\n",
      "Epoch 87/100\n",
      "30/30 [==============================] - 0s 3ms/sample - loss: 3780.6703 - mean_squared_error: 3780.6707 - val_loss: 4149.2872 - val_mean_squared_error: 4149.2871\n",
      "Epoch 88/100\n",
      "30/30 [==============================] - 0s 3ms/sample - loss: 3794.0326 - mean_squared_error: 3794.0325 - val_loss: 5055.8171 - val_mean_squared_error: 5055.8174\n",
      "Epoch 89/100\n",
      "30/30 [==============================] - 0s 3ms/sample - loss: 3638.2801 - mean_squared_error: 3638.2803 - val_loss: 4683.7507 - val_mean_squared_error: 4683.7510\n",
      "Epoch 90/100\n",
      "30/30 [==============================] - 0s 2ms/sample - loss: 3600.0201 - mean_squared_error: 3600.0198 - val_loss: 4662.2913 - val_mean_squared_error: 4662.2910\n",
      "Epoch 91/100\n",
      "30/30 [==============================] - 0s 2ms/sample - loss: 3706.7359 - mean_squared_error: 3706.7356 - val_loss: 5019.1631 - val_mean_squared_error: 5019.1631\n",
      "Epoch 92/100\n"
     ]
    },
    {
     "name": "stdout",
     "output_type": "stream",
     "text": [
      "30/30 [==============================] - 0s 3ms/sample - loss: 3582.5009 - mean_squared_error: 3582.5007 - val_loss: 4424.1586 - val_mean_squared_error: 4424.1587\n",
      "Epoch 93/100\n",
      "30/30 [==============================] - 0s 3ms/sample - loss: 3593.7428 - mean_squared_error: 3593.7427 - val_loss: 4790.6974 - val_mean_squared_error: 4790.6973\n",
      "Epoch 94/100\n",
      "30/30 [==============================] - 0s 4ms/sample - loss: 3493.1363 - mean_squared_error: 3493.1365 - val_loss: 4471.5149 - val_mean_squared_error: 4471.5146\n",
      "Epoch 95/100\n",
      "30/30 [==============================] - 0s 3ms/sample - loss: 3481.8440 - mean_squared_error: 3481.8440 - val_loss: 4484.6170 - val_mean_squared_error: 4484.6172\n",
      "Epoch 96/100\n",
      "30/30 [==============================] - 0s 3ms/sample - loss: 3469.8873 - mean_squared_error: 3469.8875 - val_loss: 4476.7146 - val_mean_squared_error: 4476.7148\n",
      "Epoch 97/100\n",
      "30/30 [==============================] - 0s 3ms/sample - loss: 3440.3054 - mean_squared_error: 3440.3054 - val_loss: 4832.9241 - val_mean_squared_error: 4832.9238\n",
      "Epoch 98/100\n",
      "30/30 [==============================] - 0s 3ms/sample - loss: 3533.2637 - mean_squared_error: 3533.2642 - val_loss: 4826.5367 - val_mean_squared_error: 4826.5366\n",
      "Epoch 99/100\n",
      "30/30 [==============================] - 0s 3ms/sample - loss: 3469.7174 - mean_squared_error: 3469.7175 - val_loss: 5246.3062 - val_mean_squared_error: 5246.3062\n",
      "Epoch 100/100\n",
      "30/30 [==============================] - 0s 3ms/sample - loss: 3417.6864 - mean_squared_error: 3417.6860 - val_loss: 4830.6322 - val_mean_squared_error: 4830.6323\n"
     ]
    }
   ],
   "source": [
    "history = model.fit(X_train, y_train, batch_size = 2, epochs = 100, verbose = 1, validation_split = .2)"
   ]
  },
  {
   "cell_type": "code",
   "execution_count": 13,
   "metadata": {},
   "outputs": [
    {
     "name": "stdout",
     "output_type": "stream",
     "text": [
      "60.172130613584564\n",
      "76.93972700819752\n"
     ]
    }
   ],
   "source": [
    "pred_train = model.predict(X_train)\n",
    "print(np.sqrt(mean_squared_error(y_train, pred_train)))\n",
    "\n",
    "pred = model.predict(X_test)\n",
    "print(np.sqrt(mean_squared_error(y_test,pred)))"
   ]
  },
  {
   "cell_type": "code",
   "execution_count": null,
   "metadata": {},
   "outputs": [],
   "source": []
  },
  {
   "cell_type": "code",
   "execution_count": null,
   "metadata": {},
   "outputs": [],
   "source": []
  },
  {
   "cell_type": "code",
   "execution_count": null,
   "metadata": {},
   "outputs": [],
   "source": []
  }
 ],
 "metadata": {
  "kernelspec": {
   "display_name": "Python 3",
   "language": "python",
   "name": "python3"
  },
  "language_info": {
   "codemirror_mode": {
    "name": "ipython",
    "version": 3
   },
   "file_extension": ".py",
   "mimetype": "text/x-python",
   "name": "python",
   "nbconvert_exporter": "python",
   "pygments_lexer": "ipython3",
   "version": "3.7.6"
  }
 },
 "nbformat": 4,
 "nbformat_minor": 2
}
