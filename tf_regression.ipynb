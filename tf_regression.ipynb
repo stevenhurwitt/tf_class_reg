{
 "cells": [
  {
   "cell_type": "markdown",
   "metadata": {},
   "source": [
    "# Regression in TF"
   ]
  },
  {
   "cell_type": "code",
   "execution_count": 13,
   "metadata": {},
   "outputs": [
    {
     "name": "stdout",
     "output_type": "stream",
     "text": [
      "imported modules\n"
     ]
    }
   ],
   "source": [
    "import os\n",
    "from math import sqrt\n",
    "import pandas as pd\n",
    "import numpy as np\n",
    "import seaborn as sns\n",
    "import tensorflow as tf\n",
    "import matplotlib.pyplot as plt\n",
    "\n",
    "from sklearn.model_selection import train_test_split\n",
    "from sklearn.metrics import mean_squared_error\n",
    "from sklearn.preprocessing import StandardScaler\n",
    "from tensorflow.keras.layers import Input, Dense, Activation, Dropout\n",
    "from tensorflow.keras.models import Model\n",
    "\n",
    "%matplotlib inline\n",
    "print('imported modules')"
   ]
  },
  {
   "cell_type": "markdown",
   "metadata": {},
   "source": [
    "## Read data"
   ]
  },
  {
   "cell_type": "code",
   "execution_count": 4,
   "metadata": {},
   "outputs": [
    {
     "data": {
      "text/html": [
       "<div>\n",
       "<style scoped>\n",
       "    .dataframe tbody tr th:only-of-type {\n",
       "        vertical-align: middle;\n",
       "    }\n",
       "\n",
       "    .dataframe tbody tr th {\n",
       "        vertical-align: top;\n",
       "    }\n",
       "\n",
       "    .dataframe thead th {\n",
       "        text-align: right;\n",
       "    }\n",
       "</style>\n",
       "<table border=\"1\" class=\"dataframe\">\n",
       "  <thead>\n",
       "    <tr style=\"text-align: right;\">\n",
       "      <th></th>\n",
       "      <th>Petrol_tax</th>\n",
       "      <th>Average_income</th>\n",
       "      <th>Paved_Highways</th>\n",
       "      <th>Population_Driver_licence(%)</th>\n",
       "      <th>Petrol_Consumption</th>\n",
       "    </tr>\n",
       "  </thead>\n",
       "  <tbody>\n",
       "    <tr>\n",
       "      <th>0</th>\n",
       "      <td>9.0</td>\n",
       "      <td>3571</td>\n",
       "      <td>1976</td>\n",
       "      <td>0.525</td>\n",
       "      <td>541</td>\n",
       "    </tr>\n",
       "    <tr>\n",
       "      <th>1</th>\n",
       "      <td>9.0</td>\n",
       "      <td>4092</td>\n",
       "      <td>1250</td>\n",
       "      <td>0.572</td>\n",
       "      <td>524</td>\n",
       "    </tr>\n",
       "    <tr>\n",
       "      <th>2</th>\n",
       "      <td>9.0</td>\n",
       "      <td>3865</td>\n",
       "      <td>1586</td>\n",
       "      <td>0.580</td>\n",
       "      <td>561</td>\n",
       "    </tr>\n",
       "    <tr>\n",
       "      <th>3</th>\n",
       "      <td>7.5</td>\n",
       "      <td>4870</td>\n",
       "      <td>2351</td>\n",
       "      <td>0.529</td>\n",
       "      <td>414</td>\n",
       "    </tr>\n",
       "    <tr>\n",
       "      <th>4</th>\n",
       "      <td>8.0</td>\n",
       "      <td>4399</td>\n",
       "      <td>431</td>\n",
       "      <td>0.544</td>\n",
       "      <td>410</td>\n",
       "    </tr>\n",
       "  </tbody>\n",
       "</table>\n",
       "</div>"
      ],
      "text/plain": [
       "   Petrol_tax  Average_income  Paved_Highways  Population_Driver_licence(%)  \\\n",
       "0         9.0            3571            1976                         0.525   \n",
       "1         9.0            4092            1250                         0.572   \n",
       "2         9.0            3865            1586                         0.580   \n",
       "3         7.5            4870            2351                         0.529   \n",
       "4         8.0            4399             431                         0.544   \n",
       "\n",
       "   Petrol_Consumption  \n",
       "0                 541  \n",
       "1                 524  \n",
       "2                 561  \n",
       "3                 414  \n",
       "4                 410  "
      ]
     },
     "execution_count": 4,
     "metadata": {},
     "output_type": "execute_result"
    }
   ],
   "source": [
    "petrol = pd.read_csv('petrol_consumption.csv')\n",
    "petrol.head()"
   ]
  },
  {
   "cell_type": "markdown",
   "metadata": {},
   "source": [
    "## Preprocess data"
   ]
  },
  {
   "cell_type": "code",
   "execution_count": 6,
   "metadata": {},
   "outputs": [],
   "source": [
    "X = petrol.iloc[:,:4].values\n",
    "y = petrol.iloc[:,4].values"
   ]
  },
  {
   "cell_type": "code",
   "execution_count": 7,
   "metadata": {},
   "outputs": [],
   "source": [
    "X_train, X_test, y_train, y_test = train_test_split(X, y, test_size = .2, random_state = 23)"
   ]
  },
  {
   "cell_type": "code",
   "execution_count": 8,
   "metadata": {},
   "outputs": [],
   "source": [
    "sc = StandardScaler()"
   ]
  },
  {
   "cell_type": "code",
   "execution_count": 9,
   "metadata": {},
   "outputs": [],
   "source": [
    "X_train = sc.fit_transform(X_train)\n",
    "X_test = sc.transform(X_test)"
   ]
  },
  {
   "cell_type": "markdown",
   "metadata": {},
   "source": [
    "## Train Model"
   ]
  },
  {
   "cell_type": "code",
   "execution_count": 10,
   "metadata": {},
   "outputs": [],
   "source": [
    "input_layer = Input(shape = X.shape[1],)\n",
    "dense_layer_1 = Dense(100, activation = 'relu')(input_layer)\n",
    "dense_layer_2 = Dense(50, activation = 'relu')(dense_layer_1)\n",
    "dense_layer_3 = Dense(25, activation = 'relu')(dense_layer_2)\n",
    "output = Dense(1)(dense_layer_3)\n",
    "\n",
    "model = Model(inputs = input_layer, outputs = output)\n",
    "model.compile(loss = 'mean_squared_error', optimizer = 'adam', metrics = ['mean_squared_error'])"
   ]
  },
  {
   "cell_type": "code",
   "execution_count": 11,
   "metadata": {},
   "outputs": [
    {
     "name": "stdout",
     "output_type": "stream",
     "text": [
      "Model: \"model\"\n",
      "_________________________________________________________________\n",
      "Layer (type)                 Output Shape              Param #   \n",
      "=================================================================\n",
      "input_1 (InputLayer)         [(None, 4)]               0         \n",
      "_________________________________________________________________\n",
      "dense (Dense)                (None, 100)               500       \n",
      "_________________________________________________________________\n",
      "dense_1 (Dense)              (None, 50)                5050      \n",
      "_________________________________________________________________\n",
      "dense_2 (Dense)              (None, 25)                1275      \n",
      "_________________________________________________________________\n",
      "dense_3 (Dense)              (None, 1)                 26        \n",
      "=================================================================\n",
      "Total params: 6,851\n",
      "Trainable params: 6,851\n",
      "Non-trainable params: 0\n",
      "_________________________________________________________________\n",
      "None\n"
     ]
    }
   ],
   "source": [
    "print(model.summary())"
   ]
  },
  {
   "cell_type": "code",
   "execution_count": 12,
   "metadata": {},
   "outputs": [
    {
     "name": "stdout",
     "output_type": "stream",
     "text": [
      "Train on 30 samples, validate on 8 samples\n",
      "Epoch 1/100\n",
      "30/30 [==============================] - 1s 45ms/sample - loss: 335871.5708 - mean_squared_error: 335871.5625 - val_loss: 332276.3047 - val_mean_squared_error: 332276.3125\n",
      "Epoch 2/100\n",
      "30/30 [==============================] - 0s 7ms/sample - loss: 335032.0062 - mean_squared_error: 335032.0000 - val_loss: 331351.5547 - val_mean_squared_error: 331351.5625\n",
      "Epoch 3/100\n",
      "30/30 [==============================] - 0s 16ms/sample - loss: 333638.5698 - mean_squared_error: 333638.5625 - val_loss: 329724.5703 - val_mean_squared_error: 329724.5625\n",
      "Epoch 4/100\n",
      "30/30 [==============================] - 0s 9ms/sample - loss: 330987.9167 - mean_squared_error: 330987.9688 - val_loss: 326598.0078 - val_mean_squared_error: 326598.0000\n",
      "Epoch 5/100\n",
      "30/30 [==============================] - 0s 11ms/sample - loss: 325803.9302 - mean_squared_error: 325803.9375 - val_loss: 320435.0000 - val_mean_squared_error: 320435.0000\n",
      "Epoch 6/100\n",
      "30/30 [==============================] - 0s 10ms/sample - loss: 315834.6115 - mean_squared_error: 315834.5938 - val_loss: 308668.6211 - val_mean_squared_error: 308668.6250\n",
      "Epoch 7/100\n",
      "30/30 [==============================] - 0s 9ms/sample - loss: 298370.3500 - mean_squared_error: 298370.3438 - val_loss: 289155.9805 - val_mean_squared_error: 289156.0000\n",
      "Epoch 8/100\n",
      "30/30 [==============================] - 0s 10ms/sample - loss: 269007.7646 - mean_squared_error: 269007.7812 - val_loss: 259575.5508 - val_mean_squared_error: 259575.5469\n",
      "Epoch 9/100\n",
      "30/30 [==============================] - 0s 10ms/sample - loss: 227480.9312 - mean_squared_error: 227480.9375 - val_loss: 216819.7422 - val_mean_squared_error: 216819.7344\n",
      "Epoch 10/100\n",
      "30/30 [==============================] - 0s 6ms/sample - loss: 172115.5288 - mean_squared_error: 172115.5312 - val_loss: 164387.2305 - val_mean_squared_error: 164387.2344\n",
      "Epoch 11/100\n",
      "30/30 [==============================] - 0s 10ms/sample - loss: 115680.6849 - mean_squared_error: 115680.6797 - val_loss: 106281.9258 - val_mean_squared_error: 106281.9297\n",
      "Epoch 12/100\n",
      "30/30 [==============================] - 0s 11ms/sample - loss: 63737.4563 - mean_squared_error: 63737.4492 - val_loss: 60589.9292 - val_mean_squared_error: 60589.9297\n",
      "Epoch 13/100\n",
      "30/30 [==============================] - 0s 8ms/sample - loss: 33835.5342 - mean_squared_error: 33835.5352 - val_loss: 33341.6962 - val_mean_squared_error: 33341.6953\n",
      "Epoch 14/100\n",
      "30/30 [==============================] - 0s 8ms/sample - loss: 23237.6098 - mean_squared_error: 23237.6113 - val_loss: 19837.2949 - val_mean_squared_error: 19837.2930\n",
      "Epoch 15/100\n",
      "30/30 [==============================] - 0s 8ms/sample - loss: 19982.1753 - mean_squared_error: 19982.1777 - val_loss: 12278.9009 - val_mean_squared_error: 12278.9004\n",
      "Epoch 16/100\n",
      "30/30 [==============================] - 0s 7ms/sample - loss: 17909.7118 - mean_squared_error: 17909.7109 - val_loss: 10402.2957 - val_mean_squared_error: 10402.2959\n",
      "Epoch 17/100\n",
      "30/30 [==============================] - 0s 7ms/sample - loss: 15409.9324 - mean_squared_error: 15409.9336 - val_loss: 10756.5045 - val_mean_squared_error: 10756.5039\n",
      "Epoch 18/100\n",
      "30/30 [==============================] - 0s 12ms/sample - loss: 13949.0293 - mean_squared_error: 13949.0293 - val_loss: 9697.1946 - val_mean_squared_error: 9697.1943\n",
      "Epoch 19/100\n",
      "30/30 [==============================] - 0s 10ms/sample - loss: 13075.5001 - mean_squared_error: 13075.4990 - val_loss: 9312.0521 - val_mean_squared_error: 9312.0518\n",
      "Epoch 20/100\n",
      "30/30 [==============================] - 0s 12ms/sample - loss: 12827.1392 - mean_squared_error: 12827.1387 - val_loss: 7827.3167 - val_mean_squared_error: 7827.3169\n",
      "Epoch 21/100\n",
      "30/30 [==============================] - 0s 14ms/sample - loss: 11691.3786 - mean_squared_error: 11691.3779 - val_loss: 7644.0344 - val_mean_squared_error: 7644.0347\n",
      "Epoch 22/100\n",
      "30/30 [==============================] - 0s 10ms/sample - loss: 11549.6877 - mean_squared_error: 11549.6865 - val_loss: 7593.0947 - val_mean_squared_error: 7593.0947\n",
      "Epoch 23/100\n",
      "30/30 [==============================] - 0s 12ms/sample - loss: 11094.9913 - mean_squared_error: 11094.9902 - val_loss: 6605.8925 - val_mean_squared_error: 6605.8926\n",
      "Epoch 24/100\n",
      "30/30 [==============================] - 0s 11ms/sample - loss: 10562.6527 - mean_squared_error: 10562.6543 - val_loss: 6617.6367 - val_mean_squared_error: 6617.6362\n",
      "Epoch 25/100\n",
      "30/30 [==============================] - 0s 13ms/sample - loss: 9863.4945 - mean_squared_error: 9863.4951 - val_loss: 6753.9514 - val_mean_squared_error: 6753.9512\n",
      "Epoch 26/100\n",
      "30/30 [==============================] - 0s 12ms/sample - loss: 9733.7215 - mean_squared_error: 9733.7217 - val_loss: 6741.0604 - val_mean_squared_error: 6741.0601\n",
      "Epoch 27/100\n",
      "30/30 [==============================] - 0s 8ms/sample - loss: 9325.8321 - mean_squared_error: 9325.8320 - val_loss: 6457.4658 - val_mean_squared_error: 6457.4663\n",
      "Epoch 28/100\n",
      "30/30 [==============================] - 0s 11ms/sample - loss: 9180.8580 - mean_squared_error: 9180.8584 - val_loss: 6243.3440 - val_mean_squared_error: 6243.3438\n",
      "Epoch 29/100\n",
      "30/30 [==============================] - 0s 14ms/sample - loss: 8850.1965 - mean_squared_error: 8850.1973 - val_loss: 5773.4879 - val_mean_squared_error: 5773.4883\n",
      "Epoch 30/100\n",
      "30/30 [==============================] - 0s 12ms/sample - loss: 8685.5977 - mean_squared_error: 8685.5977 - val_loss: 5937.8795 - val_mean_squared_error: 5937.8794\n",
      "Epoch 31/100\n",
      "30/30 [==============================] - 0s 7ms/sample - loss: 8217.9927 - mean_squared_error: 8217.9932 - val_loss: 5688.8084 - val_mean_squared_error: 5688.8086\n",
      "Epoch 32/100\n",
      "30/30 [==============================] - 0s 9ms/sample - loss: 8064.1137 - mean_squared_error: 8064.1138 - val_loss: 5574.9003 - val_mean_squared_error: 5574.9004\n",
      "Epoch 33/100\n",
      "30/30 [==============================] - 1s 17ms/sample - loss: 7921.5276 - mean_squared_error: 7921.5278 - val_loss: 5520.1216 - val_mean_squared_error: 5520.1216\n",
      "Epoch 34/100\n",
      "30/30 [==============================] - 0s 15ms/sample - loss: 7527.5658 - mean_squared_error: 7527.5659 - val_loss: 5327.4634 - val_mean_squared_error: 5327.4634\n",
      "Epoch 35/100\n",
      "30/30 [==============================] - 1s 18ms/sample - loss: 7463.7416 - mean_squared_error: 7463.7417 - val_loss: 5273.8947 - val_mean_squared_error: 5273.8945\n",
      "Epoch 36/100\n",
      "30/30 [==============================] - 0s 12ms/sample - loss: 7190.8346 - mean_squared_error: 7190.8345 - val_loss: 5211.8557 - val_mean_squared_error: 5211.8555\n",
      "Epoch 37/100\n",
      "30/30 [==============================] - 0s 9ms/sample - loss: 7017.6558 - mean_squared_error: 7017.6558 - val_loss: 5144.9365 - val_mean_squared_error: 5144.9365\n",
      "Epoch 38/100\n",
      "30/30 [==============================] - 0s 11ms/sample - loss: 6851.9667 - mean_squared_error: 6851.9673 - val_loss: 4984.5627 - val_mean_squared_error: 4984.5625\n",
      "Epoch 39/100\n",
      "30/30 [==============================] - 0s 9ms/sample - loss: 6683.6823 - mean_squared_error: 6683.6816 - val_loss: 4981.4264 - val_mean_squared_error: 4981.4263\n",
      "Epoch 40/100\n",
      "30/30 [==============================] - 0s 10ms/sample - loss: 6729.4971 - mean_squared_error: 6729.4971 - val_loss: 5043.2576 - val_mean_squared_error: 5043.2578\n",
      "Epoch 41/100\n",
      "30/30 [==============================] - 0s 12ms/sample - loss: 6411.4063 - mean_squared_error: 6411.4062 - val_loss: 5061.5753 - val_mean_squared_error: 5061.5752\n",
      "Epoch 42/100\n",
      "30/30 [==============================] - 0s 11ms/sample - loss: 6338.8023 - mean_squared_error: 6338.8018 - val_loss: 4732.9630 - val_mean_squared_error: 4732.9629\n",
      "Epoch 43/100\n",
      "30/30 [==============================] - 0s 9ms/sample - loss: 6114.2157 - mean_squared_error: 6114.2158 - val_loss: 4687.9441 - val_mean_squared_error: 4687.9438\n",
      "Epoch 44/100\n",
      "30/30 [==============================] - 0s 11ms/sample - loss: 5882.2294 - mean_squared_error: 5882.2290 - val_loss: 4807.7513 - val_mean_squared_error: 4807.7510\n",
      "Epoch 45/100\n",
      "30/30 [==============================] - 0s 13ms/sample - loss: 5903.6084 - mean_squared_error: 5903.6084 - val_loss: 4809.7936 - val_mean_squared_error: 4809.7939\n",
      "Epoch 46/100\n"
     ]
    },
    {
     "name": "stdout",
     "output_type": "stream",
     "text": [
      "30/30 [==============================] - 0s 15ms/sample - loss: 5795.0534 - mean_squared_error: 5795.0532 - val_loss: 4864.9387 - val_mean_squared_error: 4864.9385\n",
      "Epoch 47/100\n",
      "30/30 [==============================] - 0s 14ms/sample - loss: 5599.1363 - mean_squared_error: 5599.1357 - val_loss: 4807.5401 - val_mean_squared_error: 4807.5400\n",
      "Epoch 48/100\n",
      "30/30 [==============================] - 0s 11ms/sample - loss: 5481.5016 - mean_squared_error: 5481.5015 - val_loss: 4729.0892 - val_mean_squared_error: 4729.0894\n",
      "Epoch 49/100\n",
      "30/30 [==============================] - 0s 9ms/sample - loss: 5489.3810 - mean_squared_error: 5489.3813 - val_loss: 4397.0671 - val_mean_squared_error: 4397.0669\n",
      "Epoch 50/100\n",
      "30/30 [==============================] - 0s 8ms/sample - loss: 5322.4279 - mean_squared_error: 5322.4277 - val_loss: 4880.8580 - val_mean_squared_error: 4880.8579\n",
      "Epoch 51/100\n",
      "30/30 [==============================] - 0s 9ms/sample - loss: 5245.5484 - mean_squared_error: 5245.5483 - val_loss: 4776.4121 - val_mean_squared_error: 4776.4121\n",
      "Epoch 52/100\n",
      "30/30 [==============================] - 0s 8ms/sample - loss: 5116.1603 - mean_squared_error: 5116.1606 - val_loss: 4977.1376 - val_mean_squared_error: 4977.1377\n",
      "Epoch 53/100\n",
      "30/30 [==============================] - 0s 8ms/sample - loss: 5195.3294 - mean_squared_error: 5195.3296 - val_loss: 4761.4942 - val_mean_squared_error: 4761.4941\n",
      "Epoch 54/100\n",
      "30/30 [==============================] - 1s 20ms/sample - loss: 5031.5607 - mean_squared_error: 5031.5605 - val_loss: 4444.5071 - val_mean_squared_error: 4444.5068\n",
      "Epoch 55/100\n",
      "30/30 [==============================] - 0s 9ms/sample - loss: 4846.5446 - mean_squared_error: 4846.5449 - val_loss: 4928.5058 - val_mean_squared_error: 4928.5059\n",
      "Epoch 56/100\n",
      "30/30 [==============================] - 0s 13ms/sample - loss: 5038.5884 - mean_squared_error: 5038.5884 - val_loss: 4904.9952 - val_mean_squared_error: 4904.9951\n",
      "Epoch 57/100\n",
      "30/30 [==============================] - 0s 13ms/sample - loss: 4721.0800 - mean_squared_error: 4721.0801 - val_loss: 4865.9359 - val_mean_squared_error: 4865.9360\n",
      "Epoch 58/100\n",
      "30/30 [==============================] - 0s 13ms/sample - loss: 4714.4149 - mean_squared_error: 4714.4150 - val_loss: 4750.5308 - val_mean_squared_error: 4750.5308\n",
      "Epoch 59/100\n",
      "30/30 [==============================] - 0s 12ms/sample - loss: 4642.5309 - mean_squared_error: 4642.5312 - val_loss: 5131.4781 - val_mean_squared_error: 5131.4780\n",
      "Epoch 60/100\n",
      "30/30 [==============================] - 0s 15ms/sample - loss: 4585.9094 - mean_squared_error: 4585.9092 - val_loss: 4990.3042 - val_mean_squared_error: 4990.3042\n",
      "Epoch 61/100\n",
      "30/30 [==============================] - 1s 17ms/sample - loss: 4447.1042 - mean_squared_error: 4447.1040 - val_loss: 4816.4384 - val_mean_squared_error: 4816.4385\n",
      "Epoch 62/100\n",
      "30/30 [==============================] - 0s 12ms/sample - loss: 4485.4764 - mean_squared_error: 4485.4761 - val_loss: 5063.2693 - val_mean_squared_error: 5063.2695\n",
      "Epoch 63/100\n",
      "30/30 [==============================] - 0s 15ms/sample - loss: 4398.9938 - mean_squared_error: 4398.9937 - val_loss: 5338.9890 - val_mean_squared_error: 5338.9893\n",
      "Epoch 64/100\n",
      "30/30 [==============================] - 0s 16ms/sample - loss: 4317.6005 - mean_squared_error: 4317.6006 - val_loss: 4746.1795 - val_mean_squared_error: 4746.1797\n",
      "Epoch 65/100\n",
      "30/30 [==============================] - 0s 13ms/sample - loss: 4309.3755 - mean_squared_error: 4309.3755 - val_loss: 4770.0007 - val_mean_squared_error: 4770.0010\n",
      "Epoch 66/100\n",
      "30/30 [==============================] - 0s 14ms/sample - loss: 4200.7974 - mean_squared_error: 4200.7974 - val_loss: 4889.9665 - val_mean_squared_error: 4889.9668\n",
      "Epoch 67/100\n",
      "30/30 [==============================] - 0s 11ms/sample - loss: 4154.6617 - mean_squared_error: 4154.6616 - val_loss: 4958.0710 - val_mean_squared_error: 4958.0713\n",
      "Epoch 68/100\n",
      "30/30 [==============================] - 0s 9ms/sample - loss: 4138.8395 - mean_squared_error: 4138.8394 - val_loss: 5727.2439 - val_mean_squared_error: 5727.2441\n",
      "Epoch 69/100\n",
      "30/30 [==============================] - 0s 13ms/sample - loss: 4106.5692 - mean_squared_error: 4106.5688 - val_loss: 5135.9537 - val_mean_squared_error: 5135.9536\n",
      "Epoch 70/100\n",
      "30/30 [==============================] - 0s 10ms/sample - loss: 4021.8757 - mean_squared_error: 4021.8755 - val_loss: 5157.4035 - val_mean_squared_error: 5157.4033\n",
      "Epoch 71/100\n",
      "30/30 [==============================] - 0s 11ms/sample - loss: 4279.2938 - mean_squared_error: 4279.2939 - val_loss: 4662.1506 - val_mean_squared_error: 4662.1504\n",
      "Epoch 72/100\n",
      "30/30 [==============================] - 0s 13ms/sample - loss: 3910.2461 - mean_squared_error: 3910.2463 - val_loss: 4705.5385 - val_mean_squared_error: 4705.5386\n",
      "Epoch 73/100\n",
      "30/30 [==============================] - 0s 12ms/sample - loss: 4069.3921 - mean_squared_error: 4069.3921 - val_loss: 5635.9872 - val_mean_squared_error: 5635.9873\n",
      "Epoch 74/100\n",
      "30/30 [==============================] - 0s 12ms/sample - loss: 3936.6617 - mean_squared_error: 3936.6614 - val_loss: 4908.7951 - val_mean_squared_error: 4908.7949\n",
      "Epoch 75/100\n",
      "30/30 [==============================] - 1s 17ms/sample - loss: 3852.4574 - mean_squared_error: 3852.4573 - val_loss: 5401.4133 - val_mean_squared_error: 5401.4131\n",
      "Epoch 76/100\n",
      "30/30 [==============================] - 0s 13ms/sample - loss: 3792.9933 - mean_squared_error: 3792.9934 - val_loss: 4893.5553 - val_mean_squared_error: 4893.5552\n",
      "Epoch 77/100\n",
      "30/30 [==============================] - 0s 15ms/sample - loss: 3764.6131 - mean_squared_error: 3764.6130 - val_loss: 5501.5222 - val_mean_squared_error: 5501.5225\n",
      "Epoch 78/100\n",
      "30/30 [==============================] - 0s 17ms/sample - loss: 3743.0054 - mean_squared_error: 3743.0054 - val_loss: 5383.4835 - val_mean_squared_error: 5383.4834\n",
      "Epoch 79/100\n",
      "30/30 [==============================] - 0s 10ms/sample - loss: 3724.4377 - mean_squared_error: 3724.4377 - val_loss: 4729.3293 - val_mean_squared_error: 4729.3291\n",
      "Epoch 80/100\n",
      "30/30 [==============================] - 0s 13ms/sample - loss: 3658.1918 - mean_squared_error: 3658.1919 - val_loss: 5252.5209 - val_mean_squared_error: 5252.5210\n",
      "Epoch 81/100\n",
      "30/30 [==============================] - 0s 13ms/sample - loss: 3613.4647 - mean_squared_error: 3613.4646 - val_loss: 5372.9808 - val_mean_squared_error: 5372.9810\n",
      "Epoch 82/100\n",
      "30/30 [==============================] - 0s 14ms/sample - loss: 3590.4396 - mean_squared_error: 3590.4397 - val_loss: 5546.1842 - val_mean_squared_error: 5546.1841\n",
      "Epoch 83/100\n",
      "30/30 [==============================] - 0s 12ms/sample - loss: 3564.1844 - mean_squared_error: 3564.1841 - val_loss: 5181.6311 - val_mean_squared_error: 5181.6309\n",
      "Epoch 84/100\n",
      "30/30 [==============================] - 0s 9ms/sample - loss: 3594.6404 - mean_squared_error: 3594.6404 - val_loss: 5181.3338 - val_mean_squared_error: 5181.3340\n",
      "Epoch 85/100\n",
      "30/30 [==============================] - 0s 11ms/sample - loss: 3510.4567 - mean_squared_error: 3510.4568 - val_loss: 5084.0815 - val_mean_squared_error: 5084.0815\n",
      "Epoch 86/100\n",
      "30/30 [==============================] - 0s 9ms/sample - loss: 3518.7746 - mean_squared_error: 3518.7747 - val_loss: 5243.5368 - val_mean_squared_error: 5243.5371\n",
      "Epoch 87/100\n",
      "30/30 [==============================] - 0s 11ms/sample - loss: 3561.9827 - mean_squared_error: 3561.9829 - val_loss: 5690.5790 - val_mean_squared_error: 5690.5791\n",
      "Epoch 88/100\n",
      "30/30 [==============================] - 0s 14ms/sample - loss: 3395.6545 - mean_squared_error: 3395.6541 - val_loss: 5234.4391 - val_mean_squared_error: 5234.4390\n",
      "Epoch 89/100\n",
      "30/30 [==============================] - 0s 10ms/sample - loss: 3488.0670 - mean_squared_error: 3488.0669 - val_loss: 5489.9547 - val_mean_squared_error: 5489.9546\n",
      "Epoch 90/100\n",
      "30/30 [==============================] - 0s 12ms/sample - loss: 3400.7450 - mean_squared_error: 3400.7451 - val_loss: 5116.4451 - val_mean_squared_error: 5116.4453\n",
      "Epoch 91/100\n",
      "30/30 [==============================] - 0s 14ms/sample - loss: 3388.8153 - mean_squared_error: 3388.8157 - val_loss: 5217.0240 - val_mean_squared_error: 5217.0239\n",
      "Epoch 92/100\n"
     ]
    },
    {
     "name": "stdout",
     "output_type": "stream",
     "text": [
      "30/30 [==============================] - 0s 13ms/sample - loss: 3397.0411 - mean_squared_error: 3397.0415 - val_loss: 5638.9278 - val_mean_squared_error: 5638.9277\n",
      "Epoch 93/100\n",
      "30/30 [==============================] - 0s 14ms/sample - loss: 3303.3278 - mean_squared_error: 3303.3276 - val_loss: 5732.5831 - val_mean_squared_error: 5732.5830\n",
      "Epoch 94/100\n",
      "30/30 [==============================] - 0s 11ms/sample - loss: 3445.3138 - mean_squared_error: 3445.3135 - val_loss: 5221.0075 - val_mean_squared_error: 5221.0078\n",
      "Epoch 95/100\n",
      "30/30 [==============================] - 0s 14ms/sample - loss: 3356.1054 - mean_squared_error: 3356.1052 - val_loss: 5579.8392 - val_mean_squared_error: 5579.8394\n",
      "Epoch 96/100\n",
      "30/30 [==============================] - 0s 13ms/sample - loss: 3323.3539 - mean_squared_error: 3323.3540 - val_loss: 5149.5436 - val_mean_squared_error: 5149.5439\n",
      "Epoch 97/100\n",
      "30/30 [==============================] - 0s 14ms/sample - loss: 3214.4982 - mean_squared_error: 3214.4983 - val_loss: 6251.4925 - val_mean_squared_error: 6251.4927\n",
      "Epoch 98/100\n",
      "30/30 [==============================] - 0s 14ms/sample - loss: 3208.5805 - mean_squared_error: 3208.5803 - val_loss: 5867.7012 - val_mean_squared_error: 5867.7012\n",
      "Epoch 99/100\n",
      "30/30 [==============================] - 0s 14ms/sample - loss: 3171.5129 - mean_squared_error: 3171.5127 - val_loss: 5361.6384 - val_mean_squared_error: 5361.6387\n",
      "Epoch 100/100\n",
      "30/30 [==============================] - 0s 14ms/sample - loss: 3156.4601 - mean_squared_error: 3156.4602 - val_loss: 5925.6398 - val_mean_squared_error: 5925.6396\n"
     ]
    }
   ],
   "source": [
    "history = model.fit(X_train, y_train, batch_size = 2, epochs = 100, verbose = 1, validation_split = .2)"
   ]
  },
  {
   "cell_type": "code",
   "execution_count": 14,
   "metadata": {},
   "outputs": [
    {
     "name": "stdout",
     "output_type": "stream",
     "text": [
      "60.425038581279054\n",
      "81.6135840390191\n"
     ]
    }
   ],
   "source": [
    "pred_train = model.predict(X_train)\n",
    "print(np.sqrt(mean_squared_error(y_train, pred_train)))\n",
    "\n",
    "pred = model.predict(X_test)\n",
    "print(np.sqrt(mean_squared_error(y_test,pred)))"
   ]
  },
  {
   "cell_type": "code",
   "execution_count": null,
   "metadata": {},
   "outputs": [],
   "source": []
  },
  {
   "cell_type": "code",
   "execution_count": null,
   "metadata": {},
   "outputs": [],
   "source": []
  },
  {
   "cell_type": "code",
   "execution_count": null,
   "metadata": {},
   "outputs": [],
   "source": []
  }
 ],
 "metadata": {
  "kernelspec": {
   "display_name": "Python 3",
   "language": "python",
   "name": "python3"
  },
  "language_info": {
   "codemirror_mode": {
    "name": "ipython",
    "version": 3
   },
   "file_extension": ".py",
   "mimetype": "text/x-python",
   "name": "python",
   "nbconvert_exporter": "python",
   "pygments_lexer": "ipython3",
   "version": "3.7.4"
  }
 },
 "nbformat": 4,
 "nbformat_minor": 2
}
