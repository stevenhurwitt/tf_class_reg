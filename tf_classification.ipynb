{
 "cells": [
  {
   "cell_type": "markdown",
   "metadata": {},
   "source": [
    "## Classification in TF"
   ]
  },
  {
   "cell_type": "code",
   "execution_count": 11,
   "metadata": {},
   "outputs": [
    {
     "name": "stdout",
     "output_type": "stream",
     "text": [
      "imported modules\n"
     ]
    }
   ],
   "source": [
    "import os\n",
    "import pandas as pd\n",
    "import numpy as np\n",
    "import seaborn as sns\n",
    "import tensorflow as tf\n",
    "import matplotlib.pyplot as plt\n",
    "\n",
    "from sklearn.model_selection import train_test_split\n",
    "from tensorflow.keras.layers import Input, Dense, Activation, Dropout\n",
    "from tensorflow.keras.models import Model, Sequential\n",
    "\n",
    "%matplotlib inline\n",
    "print('imported modules')"
   ]
  },
  {
   "cell_type": "code",
   "execution_count": 12,
   "metadata": {},
   "outputs": [
    {
     "name": "stdout",
     "output_type": "stream",
     "text": [
      "working in directory: C:\\Users\\steve\\tf_class_reg\n"
     ]
    }
   ],
   "source": [
    "print('working in directory: {}'.format(os.getcwd()))"
   ]
  },
  {
   "cell_type": "code",
   "execution_count": 13,
   "metadata": {},
   "outputs": [
    {
     "name": "stdout",
     "output_type": "stream",
     "text": [
      "2.1.0\n"
     ]
    }
   ],
   "source": [
    "print(tf.__version__)"
   ]
  },
  {
   "cell_type": "code",
   "execution_count": 14,
   "metadata": {},
   "outputs": [
    {
     "data": {
      "text/plain": [
       "[name: \"/device:CPU:0\"\n",
       " device_type: \"CPU\"\n",
       " memory_limit: 268435456\n",
       " locality {\n",
       " }\n",
       " incarnation: 14915837997982150924]"
      ]
     },
     "execution_count": 14,
     "metadata": {},
     "output_type": "execute_result"
    }
   ],
   "source": [
    "from tensorflow.python.client import device_lib\n",
    "\n",
    "device_lib.list_local_devices()"
   ]
  },
  {
   "cell_type": "markdown",
   "metadata": {},
   "source": [
    "## Read in car evaluation data"
   ]
  },
  {
   "cell_type": "code",
   "execution_count": 15,
   "metadata": {},
   "outputs": [
    {
     "data": {
      "text/html": [
       "<div>\n",
       "<style scoped>\n",
       "    .dataframe tbody tr th:only-of-type {\n",
       "        vertical-align: middle;\n",
       "    }\n",
       "\n",
       "    .dataframe tbody tr th {\n",
       "        vertical-align: top;\n",
       "    }\n",
       "\n",
       "    .dataframe thead th {\n",
       "        text-align: right;\n",
       "    }\n",
       "</style>\n",
       "<table border=\"1\" class=\"dataframe\">\n",
       "  <thead>\n",
       "    <tr style=\"text-align: right;\">\n",
       "      <th></th>\n",
       "      <th>price</th>\n",
       "      <th>maint</th>\n",
       "      <th>doors</th>\n",
       "      <th>people</th>\n",
       "      <th>lug_boot</th>\n",
       "      <th>safety</th>\n",
       "      <th>decision</th>\n",
       "    </tr>\n",
       "  </thead>\n",
       "  <tbody>\n",
       "    <tr>\n",
       "      <th>0</th>\n",
       "      <td>vhigh</td>\n",
       "      <td>vhigh</td>\n",
       "      <td>2</td>\n",
       "      <td>2</td>\n",
       "      <td>small</td>\n",
       "      <td>low</td>\n",
       "      <td>unacc</td>\n",
       "    </tr>\n",
       "    <tr>\n",
       "      <th>1</th>\n",
       "      <td>vhigh</td>\n",
       "      <td>vhigh</td>\n",
       "      <td>2</td>\n",
       "      <td>2</td>\n",
       "      <td>small</td>\n",
       "      <td>med</td>\n",
       "      <td>unacc</td>\n",
       "    </tr>\n",
       "    <tr>\n",
       "      <th>2</th>\n",
       "      <td>vhigh</td>\n",
       "      <td>vhigh</td>\n",
       "      <td>2</td>\n",
       "      <td>2</td>\n",
       "      <td>small</td>\n",
       "      <td>high</td>\n",
       "      <td>unacc</td>\n",
       "    </tr>\n",
       "    <tr>\n",
       "      <th>3</th>\n",
       "      <td>vhigh</td>\n",
       "      <td>vhigh</td>\n",
       "      <td>2</td>\n",
       "      <td>2</td>\n",
       "      <td>med</td>\n",
       "      <td>low</td>\n",
       "      <td>unacc</td>\n",
       "    </tr>\n",
       "    <tr>\n",
       "      <th>4</th>\n",
       "      <td>vhigh</td>\n",
       "      <td>vhigh</td>\n",
       "      <td>2</td>\n",
       "      <td>2</td>\n",
       "      <td>med</td>\n",
       "      <td>med</td>\n",
       "      <td>unacc</td>\n",
       "    </tr>\n",
       "  </tbody>\n",
       "</table>\n",
       "</div>"
      ],
      "text/plain": [
       "   price  maint doors people lug_boot safety decision\n",
       "0  vhigh  vhigh     2      2    small    low    unacc\n",
       "1  vhigh  vhigh     2      2    small    med    unacc\n",
       "2  vhigh  vhigh     2      2    small   high    unacc\n",
       "3  vhigh  vhigh     2      2      med    low    unacc\n",
       "4  vhigh  vhigh     2      2      med    med    unacc"
      ]
     },
     "execution_count": 15,
     "metadata": {},
     "output_type": "execute_result"
    }
   ],
   "source": [
    "cars = pd.read_csv('car_evaluation.csv', header = None)\n",
    "cars.columns = ['price', 'maint', 'doors', 'people', 'lug_boot', 'safety', 'decision']\n",
    "cars.head()"
   ]
  },
  {
   "cell_type": "code",
   "execution_count": 16,
   "metadata": {},
   "outputs": [
    {
     "data": {
      "text/plain": [
       "(array([1210.,    0.,    0.,  384.,    0.,    0.,   65.,    0.,    0.,\n",
       "          69.]),\n",
       " array([0. , 0.3, 0.6, 0.9, 1.2, 1.5, 1.8, 2.1, 2.4, 2.7, 3. ]),\n",
       " <a list of 10 Patch objects>)"
      ]
     },
     "execution_count": 16,
     "metadata": {},
     "output_type": "execute_result"
    },
    {
     "data": {
      "image/png": "[encoded data removed]",
      "text/plain": [
       "<Figure size 432x288 with 1 Axes>"
      ]
     },
     "metadata": {
      "needs_background": "light"
     },
     "output_type": "display_data"
    }
   ],
   "source": [
    "plt.hist(x = cars.decision)"
   ]
  },
  {
   "cell_type": "markdown",
   "metadata": {},
   "source": [
    "## Convert categorical vars to numeric"
   ]
  },
  {
   "cell_type": "code",
   "execution_count": 17,
   "metadata": {},
   "outputs": [
    {
     "data": {
      "text/plain": [
       "['price', 'maint', 'doors', 'people', 'lug_boot', 'safety', 'decision']"
      ]
     },
     "execution_count": 17,
     "metadata": {},
     "output_type": "execute_result"
    }
   ],
   "source": [
    "list(cars.columns)"
   ]
  },
  {
   "cell_type": "code",
   "execution_count": 18,
   "metadata": {},
   "outputs": [],
   "source": [
    "price = pd.get_dummies(cars.price, prefix = 'price')\n",
    "maint = pd.get_dummies(cars.maint, prefix = 'maint')\n",
    "\n",
    "doors = pd.get_dummies(cars.doors, prefix = 'doors')\n",
    "people = pd.get_dummies(cars.people, prefix = 'people')\n",
    "\n",
    "lug_boot = pd.get_dummies(cars.lug_boot, prefix = 'lug_boot')\n",
    "safety = pd.get_dummies(cars.safety, prefix = 'safety')\n",
    "\n",
    "labels = pd.get_dummies(cars.decision, prefix = 'condition')"
   ]
  },
  {
   "cell_type": "code",
   "execution_count": 19,
   "metadata": {},
   "outputs": [],
   "source": [
    "X = pd.concat([price, maint, doors, people, lug_boot, safety], axis = 1)"
   ]
  },
  {
   "cell_type": "code",
   "execution_count": 20,
   "metadata": {},
   "outputs": [
    {
     "data": {
      "text/html": [
       "<div>\n",
       "<style scoped>\n",
       "    .dataframe tbody tr th:only-of-type {\n",
       "        vertical-align: middle;\n",
       "    }\n",
       "\n",
       "    .dataframe tbody tr th {\n",
       "        vertical-align: top;\n",
       "    }\n",
       "\n",
       "    .dataframe thead th {\n",
       "        text-align: right;\n",
       "    }\n",
       "</style>\n",
       "<table border=\"1\" class=\"dataframe\">\n",
       "  <thead>\n",
       "    <tr style=\"text-align: right;\">\n",
       "      <th></th>\n",
       "      <th>condition_acc</th>\n",
       "      <th>condition_good</th>\n",
       "      <th>condition_unacc</th>\n",
       "      <th>condition_vgood</th>\n",
       "    </tr>\n",
       "  </thead>\n",
       "  <tbody>\n",
       "    <tr>\n",
       "      <th>0</th>\n",
       "      <td>0</td>\n",
       "      <td>0</td>\n",
       "      <td>1</td>\n",
       "      <td>0</td>\n",
       "    </tr>\n",
       "    <tr>\n",
       "      <th>1</th>\n",
       "      <td>0</td>\n",
       "      <td>0</td>\n",
       "      <td>1</td>\n",
       "      <td>0</td>\n",
       "    </tr>\n",
       "    <tr>\n",
       "      <th>2</th>\n",
       "      <td>0</td>\n",
       "      <td>0</td>\n",
       "      <td>1</td>\n",
       "      <td>0</td>\n",
       "    </tr>\n",
       "    <tr>\n",
       "      <th>3</th>\n",
       "      <td>0</td>\n",
       "      <td>0</td>\n",
       "      <td>1</td>\n",
       "      <td>0</td>\n",
       "    </tr>\n",
       "    <tr>\n",
       "      <th>4</th>\n",
       "      <td>0</td>\n",
       "      <td>0</td>\n",
       "      <td>1</td>\n",
       "      <td>0</td>\n",
       "    </tr>\n",
       "  </tbody>\n",
       "</table>\n",
       "</div>"
      ],
      "text/plain": [
       "   condition_acc  condition_good  condition_unacc  condition_vgood\n",
       "0              0               0                1                0\n",
       "1              0               0                1                0\n",
       "2              0               0                1                0\n",
       "3              0               0                1                0\n",
       "4              0               0                1                0"
      ]
     },
     "execution_count": 20,
     "metadata": {},
     "output_type": "execute_result"
    }
   ],
   "source": [
    "labels.head()"
   ]
  },
  {
   "cell_type": "code",
   "execution_count": 21,
   "metadata": {},
   "outputs": [
    {
     "data": {
      "text/html": [
       "<div>\n",
       "<style scoped>\n",
       "    .dataframe tbody tr th:only-of-type {\n",
       "        vertical-align: middle;\n",
       "    }\n",
       "\n",
       "    .dataframe tbody tr th {\n",
       "        vertical-align: top;\n",
       "    }\n",
       "\n",
       "    .dataframe thead th {\n",
       "        text-align: right;\n",
       "    }\n",
       "</style>\n",
       "<table border=\"1\" class=\"dataframe\">\n",
       "  <thead>\n",
       "    <tr style=\"text-align: right;\">\n",
       "      <th></th>\n",
       "      <th>price_high</th>\n",
       "      <th>price_low</th>\n",
       "      <th>price_med</th>\n",
       "      <th>price_vhigh</th>\n",
       "      <th>maint_high</th>\n",
       "      <th>maint_low</th>\n",
       "      <th>maint_med</th>\n",
       "      <th>maint_vhigh</th>\n",
       "      <th>doors_2</th>\n",
       "      <th>doors_3</th>\n",
       "      <th>...</th>\n",
       "      <th>doors_5more</th>\n",
       "      <th>people_2</th>\n",
       "      <th>people_4</th>\n",
       "      <th>people_more</th>\n",
       "      <th>lug_boot_big</th>\n",
       "      <th>lug_boot_med</th>\n",
       "      <th>lug_boot_small</th>\n",
       "      <th>safety_high</th>\n",
       "      <th>safety_low</th>\n",
       "      <th>safety_med</th>\n",
       "    </tr>\n",
       "  </thead>\n",
       "  <tbody>\n",
       "    <tr>\n",
       "      <th>0</th>\n",
       "      <td>0</td>\n",
       "      <td>0</td>\n",
       "      <td>0</td>\n",
       "      <td>1</td>\n",
       "      <td>0</td>\n",
       "      <td>0</td>\n",
       "      <td>0</td>\n",
       "      <td>1</td>\n",
       "      <td>1</td>\n",
       "      <td>0</td>\n",
       "      <td>...</td>\n",
       "      <td>0</td>\n",
       "      <td>1</td>\n",
       "      <td>0</td>\n",
       "      <td>0</td>\n",
       "      <td>0</td>\n",
       "      <td>0</td>\n",
       "      <td>1</td>\n",
       "      <td>0</td>\n",
       "      <td>1</td>\n",
       "      <td>0</td>\n",
       "    </tr>\n",
       "    <tr>\n",
       "      <th>1</th>\n",
       "      <td>0</td>\n",
       "      <td>0</td>\n",
       "      <td>0</td>\n",
       "      <td>1</td>\n",
       "      <td>0</td>\n",
       "      <td>0</td>\n",
       "      <td>0</td>\n",
       "      <td>1</td>\n",
       "      <td>1</td>\n",
       "      <td>0</td>\n",
       "      <td>...</td>\n",
       "      <td>0</td>\n",
       "      <td>1</td>\n",
       "      <td>0</td>\n",
       "      <td>0</td>\n",
       "      <td>0</td>\n",
       "      <td>0</td>\n",
       "      <td>1</td>\n",
       "      <td>0</td>\n",
       "      <td>0</td>\n",
       "      <td>1</td>\n",
       "    </tr>\n",
       "    <tr>\n",
       "      <th>2</th>\n",
       "      <td>0</td>\n",
       "      <td>0</td>\n",
       "      <td>0</td>\n",
       "      <td>1</td>\n",
       "      <td>0</td>\n",
       "      <td>0</td>\n",
       "      <td>0</td>\n",
       "      <td>1</td>\n",
       "      <td>1</td>\n",
       "      <td>0</td>\n",
       "      <td>...</td>\n",
       "      <td>0</td>\n",
       "      <td>1</td>\n",
       "      <td>0</td>\n",
       "      <td>0</td>\n",
       "      <td>0</td>\n",
       "      <td>0</td>\n",
       "      <td>1</td>\n",
       "      <td>1</td>\n",
       "      <td>0</td>\n",
       "      <td>0</td>\n",
       "    </tr>\n",
       "    <tr>\n",
       "      <th>3</th>\n",
       "      <td>0</td>\n",
       "      <td>0</td>\n",
       "      <td>0</td>\n",
       "      <td>1</td>\n",
       "      <td>0</td>\n",
       "      <td>0</td>\n",
       "      <td>0</td>\n",
       "      <td>1</td>\n",
       "      <td>1</td>\n",
       "      <td>0</td>\n",
       "      <td>...</td>\n",
       "      <td>0</td>\n",
       "      <td>1</td>\n",
       "      <td>0</td>\n",
       "      <td>0</td>\n",
       "      <td>0</td>\n",
       "      <td>1</td>\n",
       "      <td>0</td>\n",
       "      <td>0</td>\n",
       "      <td>1</td>\n",
       "      <td>0</td>\n",
       "    </tr>\n",
       "    <tr>\n",
       "      <th>4</th>\n",
       "      <td>0</td>\n",
       "      <td>0</td>\n",
       "      <td>0</td>\n",
       "      <td>1</td>\n",
       "      <td>0</td>\n",
       "      <td>0</td>\n",
       "      <td>0</td>\n",
       "      <td>1</td>\n",
       "      <td>1</td>\n",
       "      <td>0</td>\n",
       "      <td>...</td>\n",
       "      <td>0</td>\n",
       "      <td>1</td>\n",
       "      <td>0</td>\n",
       "      <td>0</td>\n",
       "      <td>0</td>\n",
       "      <td>1</td>\n",
       "      <td>0</td>\n",
       "      <td>0</td>\n",
       "      <td>0</td>\n",
       "      <td>1</td>\n",
       "    </tr>\n",
       "  </tbody>\n",
       "</table>\n",
       "<p>5 rows × 21 columns</p>\n",
       "</div>"
      ],
      "text/plain": [
       "   price_high  price_low  price_med  price_vhigh  maint_high  maint_low  \\\n",
       "0           0          0          0            1           0          0   \n",
       "1           0          0          0            1           0          0   \n",
       "2           0          0          0            1           0          0   \n",
       "3           0          0          0            1           0          0   \n",
       "4           0          0          0            1           0          0   \n",
       "\n",
       "   maint_med  maint_vhigh  doors_2  doors_3  ...  doors_5more  people_2  \\\n",
       "0          0            1        1        0  ...            0         1   \n",
       "1          0            1        1        0  ...            0         1   \n",
       "2          0            1        1        0  ...            0         1   \n",
       "3          0            1        1        0  ...            0         1   \n",
       "4          0            1        1        0  ...            0         1   \n",
       "\n",
       "   people_4  people_more  lug_boot_big  lug_boot_med  lug_boot_small  \\\n",
       "0         0            0             0             0               1   \n",
       "1         0            0             0             0               1   \n",
       "2         0            0             0             0               1   \n",
       "3         0            0             0             1               0   \n",
       "4         0            0             0             1               0   \n",
       "\n",
       "   safety_high  safety_low  safety_med  \n",
       "0            0           1           0  \n",
       "1            0           0           1  \n",
       "2            1           0           0  \n",
       "3            0           1           0  \n",
       "4            0           0           1  \n",
       "\n",
       "[5 rows x 21 columns]"
      ]
     },
     "execution_count": 21,
     "metadata": {},
     "output_type": "execute_result"
    }
   ],
   "source": [
    "X.head()"
   ]
  },
  {
   "cell_type": "code",
   "execution_count": 22,
   "metadata": {},
   "outputs": [],
   "source": [
    "y = labels.values"
   ]
  },
  {
   "cell_type": "markdown",
   "metadata": {},
   "source": [
    "## Split data into train/test"
   ]
  },
  {
   "cell_type": "code",
   "execution_count": 23,
   "metadata": {},
   "outputs": [],
   "source": [
    "X_train, X_test, y_train, y_test = train_test_split(X, y, test_size = .2, random_state = 42)"
   ]
  },
  {
   "cell_type": "code",
   "execution_count": 24,
   "metadata": {},
   "outputs": [
    {
     "data": {
      "text/plain": [
       "(1728, 4)"
      ]
     },
     "execution_count": 24,
     "metadata": {},
     "output_type": "execute_result"
    }
   ],
   "source": [
    "y.shape"
   ]
  },
  {
   "cell_type": "markdown",
   "metadata": {},
   "source": [
    "## Create classification model - tf 1.13"
   ]
  },
  {
   "cell_type": "code",
   "execution_count": 25,
   "metadata": {},
   "outputs": [
    {
     "name": "stdout",
     "output_type": "stream",
     "text": [
      "Model: \"sequential\"\n",
      "_________________________________________________________________\n",
      "Layer (type)                 Output Shape              Param #   \n",
      "=================================================================\n",
      "dense (Dense)                (None, 100)               2200      \n",
      "_________________________________________________________________\n",
      "dense_1 (Dense)              (None, 50)                5050      \n",
      "_________________________________________________________________\n",
      "dense_2 (Dense)              (None, 25)                1275      \n",
      "_________________________________________________________________\n",
      "dense_3 (Dense)              (None, 4)                 104       \n",
      "=================================================================\n",
      "Total params: 8,629\n",
      "Trainable params: 8,629\n",
      "Non-trainable params: 0\n",
      "_________________________________________________________________\n",
      "None\n"
     ]
    }
   ],
   "source": [
    "model = Sequential()\n",
    "model.add(Dense(100, activation='relu', input_shape = (X.shape[1],)))\n",
    "model.add(Dense(50, activation = 'relu'))\n",
    "model.add(Dense(25, activation = 'relu'))\n",
    "model.add(Dense(y.shape[1], activation = 'softmax'))\n",
    "\n",
    "model.compile(loss = 'categorical_crossentropy', optimizer = 'adam', metrics = ['acc'])\n",
    "print(model.summary())"
   ]
  },
  {
   "cell_type": "markdown",
   "metadata": {},
   "source": [
    "## Create classification model - tf 2.0"
   ]
  },
  {
   "cell_type": "code",
   "execution_count": 26,
   "metadata": {},
   "outputs": [
    {
     "name": "stdout",
     "output_type": "stream",
     "text": [
      "Model: \"model\"\n",
      "_________________________________________________________________\n",
      "Layer (type)                 Output Shape              Param #   \n",
      "=================================================================\n",
      "input_1 (InputLayer)         [(None, 21)]              0         \n",
      "_________________________________________________________________\n",
      "dense_4 (Dense)              (None, 15)                330       \n",
      "_________________________________________________________________\n",
      "dense_5 (Dense)              (None, 10)                160       \n",
      "_________________________________________________________________\n",
      "dense_6 (Dense)              (None, 4)                 44        \n",
      "=================================================================\n",
      "Total params: 534\n",
      "Trainable params: 534\n",
      "Non-trainable params: 0\n",
      "_________________________________________________________________\n",
      "None\n"
     ]
    }
   ],
   "source": [
    "input_layer = Input(shape = (X.shape[1],))\n",
    "dense_layer_1 = Dense(15, activation = 'relu')(input_layer)\n",
    "dense_layer_2 = Dense(10, activation = 'relu')(dense_layer_1)\n",
    "output = Dense(y.shape[1], activation = 'softmax')(dense_layer_2)\n",
    "\n",
    "model = Model(inputs = input_layer, outputs = output)\n",
    "model.compile(loss = 'categorical_crossentropy', optimizer = 'adam', metrics = ['acc'])\n",
    "print(model.summary())"
   ]
  },
  {
   "cell_type": "markdown",
   "metadata": {},
   "source": [
    "## Train model"
   ]
  },
  {
   "cell_type": "code",
   "execution_count": 27,
   "metadata": {},
   "outputs": [
    {
     "name": "stdout",
     "output_type": "stream",
     "text": [
      "Train on 1105 samples, validate on 277 samples\n",
      "Epoch 1/50\n",
      "1105/1105 [==============================] - 1s 666us/sample - loss: 0.9933 - acc: 0.6398 - val_loss: 0.8621 - val_acc: 0.6498\n",
      "Epoch 2/50\n",
      "1105/1105 [==============================] - 0s 208us/sample - loss: 0.6502 - acc: 0.7204 - val_loss: 0.6744 - val_acc: 0.6787\n",
      "Epoch 3/50\n",
      "1105/1105 [==============================] - 0s 194us/sample - loss: 0.4769 - acc: 0.7937 - val_loss: 0.5250 - val_acc: 0.7581\n",
      "Epoch 4/50\n",
      "1105/1105 [==============================] - 0s 190us/sample - loss: 0.3712 - acc: 0.8688 - val_loss: 0.4397 - val_acc: 0.8267\n",
      "Epoch 5/50\n",
      "1105/1105 [==============================] - 0s 192us/sample - loss: 0.3122 - acc: 0.8869 - val_loss: 0.3727 - val_acc: 0.8448\n",
      "Epoch 6/50\n",
      "1105/1105 [==============================] - 0s 192us/sample - loss: 0.2683 - acc: 0.8887 - val_loss: 0.3240 - val_acc: 0.8700\n",
      "Epoch 7/50\n",
      "1105/1105 [==============================] - 0s 192us/sample - loss: 0.2379 - acc: 0.9005 - val_loss: 0.3082 - val_acc: 0.8628\n",
      "Epoch 8/50\n",
      "1105/1105 [==============================] - 0s 219us/sample - loss: 0.2170 - acc: 0.8995 - val_loss: 0.2780 - val_acc: 0.8773\n",
      "Epoch 9/50\n",
      "1105/1105 [==============================] - 0s 216us/sample - loss: 0.2006 - acc: 0.9158 - val_loss: 0.2672 - val_acc: 0.8773\n",
      "Epoch 10/50\n",
      "1105/1105 [==============================] - 0s 219us/sample - loss: 0.1867 - acc: 0.9222 - val_loss: 0.2564 - val_acc: 0.8953\n",
      "Epoch 11/50\n",
      "1105/1105 [==============================] - 0s 203us/sample - loss: 0.1787 - acc: 0.9303 - val_loss: 0.2527 - val_acc: 0.8845\n",
      "Epoch 12/50\n",
      "1105/1105 [==============================] - 0s 251us/sample - loss: 0.1688 - acc: 0.9376 - val_loss: 0.2522 - val_acc: 0.8845\n",
      "Epoch 13/50\n",
      "1105/1105 [==============================] - 0s 238us/sample - loss: 0.1638 - acc: 0.9321 - val_loss: 0.2287 - val_acc: 0.8917\n",
      "Epoch 14/50\n",
      "1105/1105 [==============================] - 0s 203us/sample - loss: 0.1577 - acc: 0.9385 - val_loss: 0.2271 - val_acc: 0.8881\n",
      "Epoch 15/50\n",
      "1105/1105 [==============================] - 0s 215us/sample - loss: 0.1496 - acc: 0.9439 - val_loss: 0.2282 - val_acc: 0.8989\n",
      "Epoch 16/50\n",
      "1105/1105 [==============================] - 0s 221us/sample - loss: 0.1447 - acc: 0.9493 - val_loss: 0.2156 - val_acc: 0.9025\n",
      "Epoch 17/50\n",
      "1105/1105 [==============================] - 0s 198us/sample - loss: 0.1382 - acc: 0.9529 - val_loss: 0.2090 - val_acc: 0.9025\n",
      "Epoch 18/50\n",
      "1105/1105 [==============================] - 0s 210us/sample - loss: 0.1331 - acc: 0.9575 - val_loss: 0.2181 - val_acc: 0.9025\n",
      "Epoch 19/50\n",
      "1105/1105 [==============================] - 0s 237us/sample - loss: 0.1277 - acc: 0.9520 - val_loss: 0.2081 - val_acc: 0.9278\n",
      "Epoch 20/50\n",
      "1105/1105 [==============================] - 0s 263us/sample - loss: 0.1227 - acc: 0.9584 - val_loss: 0.2036 - val_acc: 0.9170\n",
      "Epoch 21/50\n",
      "1105/1105 [==============================] - 0s 214us/sample - loss: 0.1182 - acc: 0.9557 - val_loss: 0.1981 - val_acc: 0.9134\n",
      "Epoch 22/50\n",
      "1105/1105 [==============================] - 0s 205us/sample - loss: 0.1132 - acc: 0.9638 - val_loss: 0.1910 - val_acc: 0.9278\n",
      "Epoch 23/50\n",
      "1105/1105 [==============================] - 0s 239us/sample - loss: 0.1085 - acc: 0.9620 - val_loss: 0.1881 - val_acc: 0.9206\n",
      "Epoch 24/50\n",
      "1105/1105 [==============================] - 0s 261us/sample - loss: 0.1020 - acc: 0.9665 - val_loss: 0.1892 - val_acc: 0.9206\n",
      "Epoch 25/50\n",
      "1105/1105 [==============================] - 0s 240us/sample - loss: 0.0968 - acc: 0.9665 - val_loss: 0.1738 - val_acc: 0.9314\n",
      "Epoch 26/50\n",
      "1105/1105 [==============================] - 0s 224us/sample - loss: 0.0948 - acc: 0.9692 - val_loss: 0.1716 - val_acc: 0.9350\n",
      "Epoch 27/50\n",
      "1105/1105 [==============================] - 0s 213us/sample - loss: 0.0895 - acc: 0.9719 - val_loss: 0.1725 - val_acc: 0.9386\n",
      "Epoch 28/50\n",
      "1105/1105 [==============================] - 0s 254us/sample - loss: 0.0837 - acc: 0.9774 - val_loss: 0.1577 - val_acc: 0.9350\n",
      "Epoch 29/50\n",
      "1105/1105 [==============================] - 0s 243us/sample - loss: 0.0795 - acc: 0.9792 - val_loss: 0.1497 - val_acc: 0.9422\n",
      "Epoch 30/50\n",
      "1105/1105 [==============================] - 0s 207us/sample - loss: 0.0753 - acc: 0.9810 - val_loss: 0.1433 - val_acc: 0.9531\n",
      "Epoch 31/50\n",
      "1105/1105 [==============================] - 0s 232us/sample - loss: 0.0713 - acc: 0.9792 - val_loss: 0.1374 - val_acc: 0.9458\n",
      "Epoch 32/50\n",
      "1105/1105 [==============================] - 0s 220us/sample - loss: 0.0676 - acc: 0.9837 - val_loss: 0.1420 - val_acc: 0.9495\n",
      "Epoch 33/50\n",
      "1105/1105 [==============================] - 0s 238us/sample - loss: 0.0664 - acc: 0.9837 - val_loss: 0.1335 - val_acc: 0.9495\n",
      "Epoch 34/50\n",
      "1105/1105 [==============================] - 0s 223us/sample - loss: 0.0621 - acc: 0.9828 - val_loss: 0.1213 - val_acc: 0.9567\n",
      "Epoch 35/50\n",
      "1105/1105 [==============================] - 0s 245us/sample - loss: 0.0597 - acc: 0.9864 - val_loss: 0.1328 - val_acc: 0.9458\n",
      "Epoch 36/50\n",
      "1105/1105 [==============================] - 0s 219us/sample - loss: 0.0566 - acc: 0.9810 - val_loss: 0.1248 - val_acc: 0.9495\n",
      "Epoch 37/50\n",
      "1105/1105 [==============================] - 0s 214us/sample - loss: 0.0532 - acc: 0.9855 - val_loss: 0.1200 - val_acc: 0.9495\n",
      "Epoch 38/50\n",
      "1105/1105 [==============================] - 0s 227us/sample - loss: 0.0502 - acc: 0.9855 - val_loss: 0.1164 - val_acc: 0.9458\n",
      "Epoch 39/50\n",
      "1105/1105 [==============================] - 0s 202us/sample - loss: 0.0476 - acc: 0.9864 - val_loss: 0.1088 - val_acc: 0.9531\n",
      "Epoch 40/50\n",
      "1105/1105 [==============================] - 0s 216us/sample - loss: 0.0451 - acc: 0.9864 - val_loss: 0.0969 - val_acc: 0.9639\n",
      "Epoch 41/50\n",
      "1105/1105 [==============================] - 0s 236us/sample - loss: 0.0435 - acc: 0.9882 - val_loss: 0.1011 - val_acc: 0.9603\n",
      "Epoch 42/50\n",
      "1105/1105 [==============================] - 0s 236us/sample - loss: 0.0420 - acc: 0.9900 - val_loss: 0.0941 - val_acc: 0.9603\n",
      "Epoch 43/50\n",
      "1105/1105 [==============================] - 0s 201us/sample - loss: 0.0403 - acc: 0.9882 - val_loss: 0.0916 - val_acc: 0.9711\n",
      "Epoch 44/50\n",
      "1105/1105 [==============================] - 0s 204us/sample - loss: 0.0376 - acc: 0.9891 - val_loss: 0.1154 - val_acc: 0.9495\n",
      "Epoch 45/50\n",
      "1105/1105 [==============================] - 0s 269us/sample - loss: 0.0368 - acc: 0.9919 - val_loss: 0.0912 - val_acc: 0.9675\n",
      "Epoch 46/50\n",
      "1105/1105 [==============================] - 0s 217us/sample - loss: 0.0337 - acc: 0.9928 - val_loss: 0.0986 - val_acc: 0.9567\n",
      "Epoch 47/50\n",
      "1105/1105 [==============================] - 0s 215us/sample - loss: 0.0334 - acc: 0.9910 - val_loss: 0.0898 - val_acc: 0.9603\n",
      "Epoch 48/50\n",
      "1105/1105 [==============================] - 0s 221us/sample - loss: 0.0296 - acc: 0.9946 - val_loss: 0.0737 - val_acc: 0.9783\n",
      "Epoch 49/50\n",
      "1105/1105 [==============================] - 0s 234us/sample - loss: 0.0291 - acc: 0.9928 - val_loss: 0.0839 - val_acc: 0.9603\n",
      "Epoch 50/50\n",
      "1105/1105 [==============================] - 0s 209us/sample - loss: 0.0278 - acc: 0.9928 - val_loss: 0.0815 - val_acc: 0.9639\n"
     ]
    }
   ],
   "source": [
    "history = model.fit(X_train, y_train, batch_size = 8, epochs = 50, verbose = 1, validation_split = .2)"
   ]
  },
  {
   "cell_type": "code",
   "execution_count": 28,
   "metadata": {},
   "outputs": [
    {
     "name": "stdout",
     "output_type": "stream",
     "text": [
      "346/346 [==============================] - 0s 37us/sample - loss: 0.1052 - acc: 0.9682\n",
      "Test Score: 0.10522488388367471\n",
      "Test Accuracy 0.9682081\n"
     ]
    }
   ],
   "source": [
    "score = model.evaluate(X_test, y_test, verbose = 1)\n",
    "\n",
    "print(\"Test Score:\", score[0])\n",
    "print(\"Test Accuracy\", score[1])"
   ]
  },
  {
   "cell_type": "code",
   "execution_count": null,
   "metadata": {},
   "outputs": [],
   "source": []
  }
 ],
 "metadata": {
  "kernelspec": {
   "display_name": "Python 3",
   "language": "python",
   "name": "python3"
  },
  "language_info": {
   "codemirror_mode": {
    "name": "ipython",
    "version": 3
   },
   "file_extension": ".py",
   "mimetype": "text/x-python",
   "name": "python",
   "nbconvert_exporter": "python",
   "pygments_lexer": "ipython3",
   "version": "3.7.6"
  }
 },
 "nbformat": 4,
 "nbformat_minor": 2
}
