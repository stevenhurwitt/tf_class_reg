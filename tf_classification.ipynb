{
 "cells": [
  {
   "cell_type": "markdown",
   "metadata": {},
   "source": [
    "## Classification in TF"
   ]
  },
  {
   "cell_type": "code",
   "execution_count": 14,
   "metadata": {},
   "outputs": [
    {
     "name": "stdout",
     "output_type": "stream",
     "text": [
      "imported modules\n"
     ]
    }
   ],
   "source": [
    "import os\n",
    "import pandas as pd\n",
    "import numpy as np\n",
    "import seaborn as sns\n",
    "import tensorflow as tf\n",
    "import matplotlib.pyplot as plt\n",
    "\n",
    "from sklearn.model_selection import train_test_split\n",
    "from tensorflow.keras.layers import Input, Dense, Activation, Dropout\n",
    "from tensorflow.keras.models import Model\n",
    "\n",
    "%matplotlib inline\n",
    "print('imported modules')"
   ]
  },
  {
   "cell_type": "code",
   "execution_count": 2,
   "metadata": {},
   "outputs": [
    {
     "name": "stdout",
     "output_type": "stream",
     "text": [
      "working in directory: /home/steven/Documents/car_eval\n"
     ]
    }
   ],
   "source": [
    "print('working in directory: {}'.format(os.getcwd()))"
   ]
  },
  {
   "cell_type": "code",
   "execution_count": 3,
   "metadata": {},
   "outputs": [
    {
     "name": "stdout",
     "output_type": "stream",
     "text": [
      "2.0.0\n"
     ]
    }
   ],
   "source": [
    "print(tf.__version__)"
   ]
  },
  {
   "cell_type": "markdown",
   "metadata": {},
   "source": [
    "## Read in car evaluation data"
   ]
  },
  {
   "cell_type": "code",
   "execution_count": 4,
   "metadata": {},
   "outputs": [
    {
     "data": {
      "text/html": [
       "<div>\n",
       "<style scoped>\n",
       "    .dataframe tbody tr th:only-of-type {\n",
       "        vertical-align: middle;\n",
       "    }\n",
       "\n",
       "    .dataframe tbody tr th {\n",
       "        vertical-align: top;\n",
       "    }\n",
       "\n",
       "    .dataframe thead th {\n",
       "        text-align: right;\n",
       "    }\n",
       "</style>\n",
       "<table border=\"1\" class=\"dataframe\">\n",
       "  <thead>\n",
       "    <tr style=\"text-align: right;\">\n",
       "      <th></th>\n",
       "      <th>price</th>\n",
       "      <th>maint</th>\n",
       "      <th>doors</th>\n",
       "      <th>people</th>\n",
       "      <th>lug_boot</th>\n",
       "      <th>safety</th>\n",
       "      <th>decision</th>\n",
       "    </tr>\n",
       "  </thead>\n",
       "  <tbody>\n",
       "    <tr>\n",
       "      <th>0</th>\n",
       "      <td>vhigh</td>\n",
       "      <td>vhigh</td>\n",
       "      <td>2</td>\n",
       "      <td>2</td>\n",
       "      <td>small</td>\n",
       "      <td>low</td>\n",
       "      <td>unacc</td>\n",
       "    </tr>\n",
       "    <tr>\n",
       "      <th>1</th>\n",
       "      <td>vhigh</td>\n",
       "      <td>vhigh</td>\n",
       "      <td>2</td>\n",
       "      <td>2</td>\n",
       "      <td>small</td>\n",
       "      <td>med</td>\n",
       "      <td>unacc</td>\n",
       "    </tr>\n",
       "    <tr>\n",
       "      <th>2</th>\n",
       "      <td>vhigh</td>\n",
       "      <td>vhigh</td>\n",
       "      <td>2</td>\n",
       "      <td>2</td>\n",
       "      <td>small</td>\n",
       "      <td>high</td>\n",
       "      <td>unacc</td>\n",
       "    </tr>\n",
       "    <tr>\n",
       "      <th>3</th>\n",
       "      <td>vhigh</td>\n",
       "      <td>vhigh</td>\n",
       "      <td>2</td>\n",
       "      <td>2</td>\n",
       "      <td>med</td>\n",
       "      <td>low</td>\n",
       "      <td>unacc</td>\n",
       "    </tr>\n",
       "    <tr>\n",
       "      <th>4</th>\n",
       "      <td>vhigh</td>\n",
       "      <td>vhigh</td>\n",
       "      <td>2</td>\n",
       "      <td>2</td>\n",
       "      <td>med</td>\n",
       "      <td>med</td>\n",
       "      <td>unacc</td>\n",
       "    </tr>\n",
       "  </tbody>\n",
       "</table>\n",
       "</div>"
      ],
      "text/plain": [
       "   price  maint doors people lug_boot safety decision\n",
       "0  vhigh  vhigh     2      2    small    low    unacc\n",
       "1  vhigh  vhigh     2      2    small    med    unacc\n",
       "2  vhigh  vhigh     2      2    small   high    unacc\n",
       "3  vhigh  vhigh     2      2      med    low    unacc\n",
       "4  vhigh  vhigh     2      2      med    med    unacc"
      ]
     },
     "execution_count": 4,
     "metadata": {},
     "output_type": "execute_result"
    }
   ],
   "source": [
    "cars = pd.read_csv('car_evaluation.csv', header = None)\n",
    "cars.columns = ['price', 'maint', 'doors', 'people', 'lug_boot', 'safety', 'decision']\n",
    "cars.head()"
   ]
  },
  {
   "cell_type": "code",
   "execution_count": 5,
   "metadata": {},
   "outputs": [
    {
     "data": {
      "text/plain": [
       "(array([1210.,    0.,    0.,  384.,    0.,    0.,   65.,    0.,    0.,\n",
       "          69.]),\n",
       " array([0. , 0.3, 0.6, 0.9, 1.2, 1.5, 1.8, 2.1, 2.4, 2.7, 3. ]),\n",
       " <a list of 10 Patch objects>)"
      ]
     },
     "execution_count": 5,
     "metadata": {},
     "output_type": "execute_result"
    },
    {
     "data": {
      "image/png": "[encoded data removed]",
      "text/plain": [
       "<Figure size 432x288 with 1 Axes>"
      ]
     },
     "metadata": {
      "needs_background": "light"
     },
     "output_type": "display_data"
    }
   ],
   "source": [
    "plt.hist(x = cars.decision)"
   ]
  },
  {
   "cell_type": "markdown",
   "metadata": {},
   "source": [
    "## Convert categorical vars to numeric"
   ]
  },
  {
   "cell_type": "code",
   "execution_count": 6,
   "metadata": {},
   "outputs": [
    {
     "data": {
      "text/plain": [
       "['price', 'maint', 'doors', 'people', 'lug_boot', 'safety', 'decision']"
      ]
     },
     "execution_count": 6,
     "metadata": {},
     "output_type": "execute_result"
    }
   ],
   "source": [
    "list(cars.columns)"
   ]
  },
  {
   "cell_type": "code",
   "execution_count": 24,
   "metadata": {},
   "outputs": [],
   "source": [
    "price = pd.get_dummies(cars.price, prefix = 'price')\n",
    "maint = pd.get_dummies(cars.maint, prefix = 'maint')\n",
    "\n",
    "doors = pd.get_dummies(cars.doors, prefix = 'doors')\n",
    "people = pd.get_dummies(cars.people, prefix = 'people')\n",
    "\n",
    "lug_boot = pd.get_dummies(cars.lug_boot, prefix = 'lug_boot')\n",
    "safety = pd.get_dummies(cars.safety, prefix = 'safety')\n",
    "\n",
    "labels = pd.get_dummies(cars.decision, prefix = 'condition')"
   ]
  },
  {
   "cell_type": "code",
   "execution_count": 25,
   "metadata": {},
   "outputs": [],
   "source": [
    "X = pd.concat([price, maint, doors, people, lug_boot, safety], axis = 1)"
   ]
  },
  {
   "cell_type": "code",
   "execution_count": 26,
   "metadata": {},
   "outputs": [
    {
     "data": {
      "text/html": [
       "<div>\n",
       "<style scoped>\n",
       "    .dataframe tbody tr th:only-of-type {\n",
       "        vertical-align: middle;\n",
       "    }\n",
       "\n",
       "    .dataframe tbody tr th {\n",
       "        vertical-align: top;\n",
       "    }\n",
       "\n",
       "    .dataframe thead th {\n",
       "        text-align: right;\n",
       "    }\n",
       "</style>\n",
       "<table border=\"1\" class=\"dataframe\">\n",
       "  <thead>\n",
       "    <tr style=\"text-align: right;\">\n",
       "      <th></th>\n",
       "      <th>condition_acc</th>\n",
       "      <th>condition_good</th>\n",
       "      <th>condition_unacc</th>\n",
       "      <th>condition_vgood</th>\n",
       "    </tr>\n",
       "  </thead>\n",
       "  <tbody>\n",
       "    <tr>\n",
       "      <th>0</th>\n",
       "      <td>0</td>\n",
       "      <td>0</td>\n",
       "      <td>1</td>\n",
       "      <td>0</td>\n",
       "    </tr>\n",
       "    <tr>\n",
       "      <th>1</th>\n",
       "      <td>0</td>\n",
       "      <td>0</td>\n",
       "      <td>1</td>\n",
       "      <td>0</td>\n",
       "    </tr>\n",
       "    <tr>\n",
       "      <th>2</th>\n",
       "      <td>0</td>\n",
       "      <td>0</td>\n",
       "      <td>1</td>\n",
       "      <td>0</td>\n",
       "    </tr>\n",
       "    <tr>\n",
       "      <th>3</th>\n",
       "      <td>0</td>\n",
       "      <td>0</td>\n",
       "      <td>1</td>\n",
       "      <td>0</td>\n",
       "    </tr>\n",
       "    <tr>\n",
       "      <th>4</th>\n",
       "      <td>0</td>\n",
       "      <td>0</td>\n",
       "      <td>1</td>\n",
       "      <td>0</td>\n",
       "    </tr>\n",
       "  </tbody>\n",
       "</table>\n",
       "</div>"
      ],
      "text/plain": [
       "   condition_acc  condition_good  condition_unacc  condition_vgood\n",
       "0              0               0                1                0\n",
       "1              0               0                1                0\n",
       "2              0               0                1                0\n",
       "3              0               0                1                0\n",
       "4              0               0                1                0"
      ]
     },
     "execution_count": 26,
     "metadata": {},
     "output_type": "execute_result"
    }
   ],
   "source": [
    "labels.head()"
   ]
  },
  {
   "cell_type": "code",
   "execution_count": 27,
   "metadata": {},
   "outputs": [
    {
     "data": {
      "text/html": [
       "<div>\n",
       "<style scoped>\n",
       "    .dataframe tbody tr th:only-of-type {\n",
       "        vertical-align: middle;\n",
       "    }\n",
       "\n",
       "    .dataframe tbody tr th {\n",
       "        vertical-align: top;\n",
       "    }\n",
       "\n",
       "    .dataframe thead th {\n",
       "        text-align: right;\n",
       "    }\n",
       "</style>\n",
       "<table border=\"1\" class=\"dataframe\">\n",
       "  <thead>\n",
       "    <tr style=\"text-align: right;\">\n",
       "      <th></th>\n",
       "      <th>price_high</th>\n",
       "      <th>price_low</th>\n",
       "      <th>price_med</th>\n",
       "      <th>price_vhigh</th>\n",
       "      <th>maint_high</th>\n",
       "      <th>maint_low</th>\n",
       "      <th>maint_med</th>\n",
       "      <th>maint_vhigh</th>\n",
       "      <th>doors_2</th>\n",
       "      <th>doors_3</th>\n",
       "      <th>...</th>\n",
       "      <th>doors_5more</th>\n",
       "      <th>people_2</th>\n",
       "      <th>people_4</th>\n",
       "      <th>people_more</th>\n",
       "      <th>lug_boot_big</th>\n",
       "      <th>lug_boot_med</th>\n",
       "      <th>lug_boot_small</th>\n",
       "      <th>safety_high</th>\n",
       "      <th>safety_low</th>\n",
       "      <th>safety_med</th>\n",
       "    </tr>\n",
       "  </thead>\n",
       "  <tbody>\n",
       "    <tr>\n",
       "      <th>0</th>\n",
       "      <td>0</td>\n",
       "      <td>0</td>\n",
       "      <td>0</td>\n",
       "      <td>1</td>\n",
       "      <td>0</td>\n",
       "      <td>0</td>\n",
       "      <td>0</td>\n",
       "      <td>1</td>\n",
       "      <td>1</td>\n",
       "      <td>0</td>\n",
       "      <td>...</td>\n",
       "      <td>0</td>\n",
       "      <td>1</td>\n",
       "      <td>0</td>\n",
       "      <td>0</td>\n",
       "      <td>0</td>\n",
       "      <td>0</td>\n",
       "      <td>1</td>\n",
       "      <td>0</td>\n",
       "      <td>1</td>\n",
       "      <td>0</td>\n",
       "    </tr>\n",
       "    <tr>\n",
       "      <th>1</th>\n",
       "      <td>0</td>\n",
       "      <td>0</td>\n",
       "      <td>0</td>\n",
       "      <td>1</td>\n",
       "      <td>0</td>\n",
       "      <td>0</td>\n",
       "      <td>0</td>\n",
       "      <td>1</td>\n",
       "      <td>1</td>\n",
       "      <td>0</td>\n",
       "      <td>...</td>\n",
       "      <td>0</td>\n",
       "      <td>1</td>\n",
       "      <td>0</td>\n",
       "      <td>0</td>\n",
       "      <td>0</td>\n",
       "      <td>0</td>\n",
       "      <td>1</td>\n",
       "      <td>0</td>\n",
       "      <td>0</td>\n",
       "      <td>1</td>\n",
       "    </tr>\n",
       "    <tr>\n",
       "      <th>2</th>\n",
       "      <td>0</td>\n",
       "      <td>0</td>\n",
       "      <td>0</td>\n",
       "      <td>1</td>\n",
       "      <td>0</td>\n",
       "      <td>0</td>\n",
       "      <td>0</td>\n",
       "      <td>1</td>\n",
       "      <td>1</td>\n",
       "      <td>0</td>\n",
       "      <td>...</td>\n",
       "      <td>0</td>\n",
       "      <td>1</td>\n",
       "      <td>0</td>\n",
       "      <td>0</td>\n",
       "      <td>0</td>\n",
       "      <td>0</td>\n",
       "      <td>1</td>\n",
       "      <td>1</td>\n",
       "      <td>0</td>\n",
       "      <td>0</td>\n",
       "    </tr>\n",
       "    <tr>\n",
       "      <th>3</th>\n",
       "      <td>0</td>\n",
       "      <td>0</td>\n",
       "      <td>0</td>\n",
       "      <td>1</td>\n",
       "      <td>0</td>\n",
       "      <td>0</td>\n",
       "      <td>0</td>\n",
       "      <td>1</td>\n",
       "      <td>1</td>\n",
       "      <td>0</td>\n",
       "      <td>...</td>\n",
       "      <td>0</td>\n",
       "      <td>1</td>\n",
       "      <td>0</td>\n",
       "      <td>0</td>\n",
       "      <td>0</td>\n",
       "      <td>1</td>\n",
       "      <td>0</td>\n",
       "      <td>0</td>\n",
       "      <td>1</td>\n",
       "      <td>0</td>\n",
       "    </tr>\n",
       "    <tr>\n",
       "      <th>4</th>\n",
       "      <td>0</td>\n",
       "      <td>0</td>\n",
       "      <td>0</td>\n",
       "      <td>1</td>\n",
       "      <td>0</td>\n",
       "      <td>0</td>\n",
       "      <td>0</td>\n",
       "      <td>1</td>\n",
       "      <td>1</td>\n",
       "      <td>0</td>\n",
       "      <td>...</td>\n",
       "      <td>0</td>\n",
       "      <td>1</td>\n",
       "      <td>0</td>\n",
       "      <td>0</td>\n",
       "      <td>0</td>\n",
       "      <td>1</td>\n",
       "      <td>0</td>\n",
       "      <td>0</td>\n",
       "      <td>0</td>\n",
       "      <td>1</td>\n",
       "    </tr>\n",
       "  </tbody>\n",
       "</table>\n",
       "<p>5 rows × 21 columns</p>\n",
       "</div>"
      ],
      "text/plain": [
       "   price_high  price_low  price_med  price_vhigh  maint_high  maint_low  \\\n",
       "0           0          0          0            1           0          0   \n",
       "1           0          0          0            1           0          0   \n",
       "2           0          0          0            1           0          0   \n",
       "3           0          0          0            1           0          0   \n",
       "4           0          0          0            1           0          0   \n",
       "\n",
       "   maint_med  maint_vhigh  doors_2  doors_3  ...  doors_5more  people_2  \\\n",
       "0          0            1        1        0  ...            0         1   \n",
       "1          0            1        1        0  ...            0         1   \n",
       "2          0            1        1        0  ...            0         1   \n",
       "3          0            1        1        0  ...            0         1   \n",
       "4          0            1        1        0  ...            0         1   \n",
       "\n",
       "   people_4  people_more  lug_boot_big  lug_boot_med  lug_boot_small  \\\n",
       "0         0            0             0             0               1   \n",
       "1         0            0             0             0               1   \n",
       "2         0            0             0             0               1   \n",
       "3         0            0             0             1               0   \n",
       "4         0            0             0             1               0   \n",
       "\n",
       "   safety_high  safety_low  safety_med  \n",
       "0            0           1           0  \n",
       "1            0           0           1  \n",
       "2            1           0           0  \n",
       "3            0           1           0  \n",
       "4            0           0           1  \n",
       "\n",
       "[5 rows x 21 columns]"
      ]
     },
     "execution_count": 27,
     "metadata": {},
     "output_type": "execute_result"
    }
   ],
   "source": [
    "X.head()"
   ]
  },
  {
   "cell_type": "code",
   "execution_count": 28,
   "metadata": {},
   "outputs": [],
   "source": [
    "y = labels.values"
   ]
  },
  {
   "cell_type": "markdown",
   "metadata": {},
   "source": [
    "## Split data into train/test"
   ]
  },
  {
   "cell_type": "code",
   "execution_count": 29,
   "metadata": {},
   "outputs": [],
   "source": [
    "X_train, X_test, y_train, y_test = train_test_split(X, y, test_size = .2, random_state = 42)"
   ]
  },
  {
   "cell_type": "code",
   "execution_count": 30,
   "metadata": {},
   "outputs": [
    {
     "data": {
      "text/plain": [
       "(1728, 4)"
      ]
     },
     "execution_count": 30,
     "metadata": {},
     "output_type": "execute_result"
    }
   ],
   "source": [
    "y.shape"
   ]
  },
  {
   "cell_type": "markdown",
   "metadata": {},
   "source": [
    "## Create classification model"
   ]
  },
  {
   "cell_type": "code",
   "execution_count": 31,
   "metadata": {},
   "outputs": [
    {
     "name": "stdout",
     "output_type": "stream",
     "text": [
      "Model: \"model_3\"\n",
      "_________________________________________________________________\n",
      "Layer (type)                 Output Shape              Param #   \n",
      "=================================================================\n",
      "input_4 (InputLayer)         [(None, 21)]              0         \n",
      "_________________________________________________________________\n",
      "dense_9 (Dense)              (None, 15)                330       \n",
      "_________________________________________________________________\n",
      "dense_10 (Dense)             (None, 10)                160       \n",
      "_________________________________________________________________\n",
      "dense_11 (Dense)             (None, 4)                 44        \n",
      "=================================================================\n",
      "Total params: 534\n",
      "Trainable params: 534\n",
      "Non-trainable params: 0\n",
      "_________________________________________________________________\n",
      "None\n"
     ]
    }
   ],
   "source": [
    "input_layer = Input(shape = (X.shape[1],))\n",
    "dense_layer_1 = Dense(15, activation = 'relu')(input_layer)\n",
    "dense_layer_2 = Dense(10, activation = 'relu')(dense_layer_1)\n",
    "output = Dense(y.shape[1], activation = 'softmax')(dense_layer_2)\n",
    "\n",
    "model = Model(inputs = input_layer, outputs = output)\n",
    "model.compile(loss = 'categorical_crossentropy', optimizer = 'adam', metrics = ['acc'])\n",
    "print(model.summary())"
   ]
  },
  {
   "cell_type": "markdown",
   "metadata": {},
   "source": [
    "## Train model"
   ]
  },
  {
   "cell_type": "code",
   "execution_count": 32,
   "metadata": {},
   "outputs": [
    {
     "name": "stdout",
     "output_type": "stream",
     "text": [
      "WARNING:tensorflow:Falling back from v2 loop because of error: Failed to find data adapter that can handle input: <class 'pandas.core.frame.DataFrame'>, <class 'NoneType'>\n",
      "Train on 1105 samples, validate on 277 samples\n",
      "Epoch 1/50\n",
      "1105/1105 [==============================] - 2s 2ms/sample - loss: 1.0784 - acc: 0.5919 - val_loss: 0.8297 - val_acc: 0.6498\n",
      "Epoch 2/50\n",
      "1105/1105 [==============================] - 1s 902us/sample - loss: 0.6135 - acc: 0.7403 - val_loss: 0.6078 - val_acc: 0.7220\n",
      "Epoch 3/50\n",
      "1105/1105 [==============================] - 1s 932us/sample - loss: 0.4487 - acc: 0.8317 - val_loss: 0.5172 - val_acc: 0.7798\n",
      "Epoch 4/50\n",
      "1105/1105 [==============================] - 1s 986us/sample - loss: 0.3777 - acc: 0.8615 - val_loss: 0.4596 - val_acc: 0.8123\n",
      "Epoch 5/50\n",
      "1105/1105 [==============================] - 1s 983us/sample - loss: 0.3300 - acc: 0.8833 - val_loss: 0.4140 - val_acc: 0.8375\n",
      "Epoch 6/50\n",
      "1105/1105 [==============================] - 1s 1ms/sample - loss: 0.2947 - acc: 0.8914 - val_loss: 0.3814 - val_acc: 0.8087\n",
      "Epoch 7/50\n",
      "1105/1105 [==============================] - 1s 1ms/sample - loss: 0.2589 - acc: 0.9014 - val_loss: 0.3402 - val_acc: 0.8375\n",
      "Epoch 8/50\n",
      "1105/1105 [==============================] - 1s 1ms/sample - loss: 0.2278 - acc: 0.9140 - val_loss: 0.3026 - val_acc: 0.8736\n",
      "Epoch 9/50\n",
      "1105/1105 [==============================] - 1s 1ms/sample - loss: 0.2033 - acc: 0.9176 - val_loss: 0.2816 - val_acc: 0.9025\n",
      "Epoch 10/50\n",
      "1105/1105 [==============================] - 1s 1ms/sample - loss: 0.1848 - acc: 0.9258 - val_loss: 0.2639 - val_acc: 0.8773\n",
      "Epoch 11/50\n",
      "1105/1105 [==============================] - 2s 1ms/sample - loss: 0.1673 - acc: 0.9466 - val_loss: 0.2329 - val_acc: 0.9097\n",
      "Epoch 12/50\n",
      "1105/1105 [==============================] - 1s 1ms/sample - loss: 0.1543 - acc: 0.9566 - val_loss: 0.2264 - val_acc: 0.9061\n",
      "Epoch 13/50\n",
      "1105/1105 [==============================] - 2s 2ms/sample - loss: 0.1417 - acc: 0.9584 - val_loss: 0.1986 - val_acc: 0.9278\n",
      "Epoch 14/50\n",
      "1105/1105 [==============================] - 1s 1ms/sample - loss: 0.1305 - acc: 0.9638 - val_loss: 0.1911 - val_acc: 0.9242\n",
      "Epoch 15/50\n",
      "1105/1105 [==============================] - 1s 1ms/sample - loss: 0.1205 - acc: 0.9656 - val_loss: 0.1808 - val_acc: 0.9278\n",
      "Epoch 16/50\n",
      "1105/1105 [==============================] - 1s 1ms/sample - loss: 0.1111 - acc: 0.9683 - val_loss: 0.1738 - val_acc: 0.9386\n",
      "Epoch 17/50\n",
      "1105/1105 [==============================] - 1s 1ms/sample - loss: 0.1012 - acc: 0.9719 - val_loss: 0.1680 - val_acc: 0.9314\n",
      "Epoch 18/50\n",
      "1105/1105 [==============================] - 1s 1ms/sample - loss: 0.0946 - acc: 0.9774 - val_loss: 0.1644 - val_acc: 0.9278\n",
      "Epoch 19/50\n",
      "1105/1105 [==============================] - 2s 1ms/sample - loss: 0.0875 - acc: 0.9783 - val_loss: 0.1460 - val_acc: 0.9350\n",
      "Epoch 20/50\n",
      "1105/1105 [==============================] - 2s 1ms/sample - loss: 0.0819 - acc: 0.9819 - val_loss: 0.1360 - val_acc: 0.9495\n",
      "Epoch 21/50\n",
      "1105/1105 [==============================] - 2s 1ms/sample - loss: 0.0769 - acc: 0.9810 - val_loss: 0.1465 - val_acc: 0.9350\n",
      "Epoch 22/50\n",
      "1105/1105 [==============================] - 2s 2ms/sample - loss: 0.0723 - acc: 0.9810 - val_loss: 0.1320 - val_acc: 0.9495\n",
      "Epoch 23/50\n",
      "1105/1105 [==============================] - 1s 1ms/sample - loss: 0.0708 - acc: 0.9765 - val_loss: 0.1312 - val_acc: 0.9458\n",
      "Epoch 24/50\n",
      "1105/1105 [==============================] - 1s 1ms/sample - loss: 0.0655 - acc: 0.9864 - val_loss: 0.1297 - val_acc: 0.9386\n",
      "Epoch 25/50\n",
      "1105/1105 [==============================] - 2s 1ms/sample - loss: 0.0622 - acc: 0.9837 - val_loss: 0.1204 - val_acc: 0.9495\n",
      "Epoch 26/50\n",
      "1105/1105 [==============================] - 2s 1ms/sample - loss: 0.0592 - acc: 0.9873 - val_loss: 0.1239 - val_acc: 0.9495\n",
      "Epoch 27/50\n",
      "1105/1105 [==============================] - 2s 2ms/sample - loss: 0.0547 - acc: 0.9864 - val_loss: 0.1264 - val_acc: 0.9422\n",
      "Epoch 28/50\n",
      "1105/1105 [==============================] - ETA: 0s - loss: 0.0542 - acc: 0.986 - 2s 2ms/sample - loss: 0.0539 - acc: 0.9864 - val_loss: 0.1242 - val_acc: 0.9422\n",
      "Epoch 29/50\n",
      "1105/1105 [==============================] - 1s 1ms/sample - loss: 0.0505 - acc: 0.9891 - val_loss: 0.1115 - val_acc: 0.9567\n",
      "Epoch 30/50\n",
      "1105/1105 [==============================] - 2s 1ms/sample - loss: 0.0494 - acc: 0.9873 - val_loss: 0.1183 - val_acc: 0.9495\n",
      "Epoch 31/50\n",
      "1105/1105 [==============================] - 2s 1ms/sample - loss: 0.0454 - acc: 0.9900 - val_loss: 0.1166 - val_acc: 0.9495\n",
      "Epoch 32/50\n",
      "1105/1105 [==============================] - 2s 1ms/sample - loss: 0.0445 - acc: 0.9891 - val_loss: 0.1051 - val_acc: 0.9458\n",
      "Epoch 33/50\n",
      "1105/1105 [==============================] - 2s 1ms/sample - loss: 0.0419 - acc: 0.9891 - val_loss: 0.0969 - val_acc: 0.9603\n",
      "Epoch 34/50\n",
      "1105/1105 [==============================] - 2s 2ms/sample - loss: 0.0408 - acc: 0.9900 - val_loss: 0.1110 - val_acc: 0.9495\n",
      "Epoch 35/50\n",
      "1105/1105 [==============================] - 2s 2ms/sample - loss: 0.0388 - acc: 0.9910 - val_loss: 0.1044 - val_acc: 0.9458\n",
      "Epoch 36/50\n",
      "1105/1105 [==============================] - 2s 2ms/sample - loss: 0.0376 - acc: 0.9919 - val_loss: 0.1003 - val_acc: 0.9531\n",
      "Epoch 37/50\n",
      "1105/1105 [==============================] - 2s 2ms/sample - loss: 0.0334 - acc: 0.9919 - val_loss: 0.0852 - val_acc: 0.9747\n",
      "Epoch 38/50\n",
      "1105/1105 [==============================] - 2s 2ms/sample - loss: 0.0359 - acc: 0.9900 - val_loss: 0.1010 - val_acc: 0.9531\n",
      "Epoch 39/50\n",
      "1105/1105 [==============================] - 1s 1ms/sample - loss: 0.0319 - acc: 0.9919 - val_loss: 0.0901 - val_acc: 0.9531\n",
      "Epoch 40/50\n",
      "1105/1105 [==============================] - 2s 1ms/sample - loss: 0.0306 - acc: 0.9946 - val_loss: 0.0913 - val_acc: 0.9675\n",
      "Epoch 41/50\n",
      "1105/1105 [==============================] - 2s 2ms/sample - loss: 0.0309 - acc: 0.9937 - val_loss: 0.0935 - val_acc: 0.9567\n",
      "Epoch 42/50\n",
      "1105/1105 [==============================] - 2s 2ms/sample - loss: 0.0280 - acc: 0.9937 - val_loss: 0.0945 - val_acc: 0.9567\n",
      "Epoch 43/50\n",
      "1105/1105 [==============================] - 2s 1ms/sample - loss: 0.0264 - acc: 0.9955 - val_loss: 0.0900 - val_acc: 0.9675\n",
      "Epoch 44/50\n",
      "1105/1105 [==============================] - 2s 2ms/sample - loss: 0.0252 - acc: 0.9946 - val_loss: 0.0820 - val_acc: 0.9639\n",
      "Epoch 45/50\n",
      "1105/1105 [==============================] - 2s 2ms/sample - loss: 0.0247 - acc: 0.9955 - val_loss: 0.0920 - val_acc: 0.9675\n",
      "Epoch 46/50\n",
      "1105/1105 [==============================] - 2s 1ms/sample - loss: 0.0228 - acc: 0.9955 - val_loss: 0.0952 - val_acc: 0.9567\n",
      "Epoch 47/50\n",
      "1105/1105 [==============================] - 2s 2ms/sample - loss: 0.0211 - acc: 0.9964 - val_loss: 0.1061 - val_acc: 0.9567\n",
      "Epoch 48/50\n",
      "1105/1105 [==============================] - 2s 2ms/sample - loss: 0.0214 - acc: 0.9964 - val_loss: 0.0826 - val_acc: 0.9675\n",
      "Epoch 49/50\n",
      "1105/1105 [==============================] - 2s 1ms/sample - loss: 0.0195 - acc: 0.9973 - val_loss: 0.0987 - val_acc: 0.9639\n",
      "Epoch 50/50\n",
      "1105/1105 [==============================] - 2s 2ms/sample - loss: 0.0187 - acc: 0.9973 - val_loss: 0.1017 - val_acc: 0.9495\n"
     ]
    }
   ],
   "source": [
    "history = model.fit(X_train, y_train, batch_size = 8, epochs = 50, verbose = 1, validation_split = .2)"
   ]
  },
  {
   "cell_type": "code",
   "execution_count": 33,
   "metadata": {},
   "outputs": [
    {
     "name": "stdout",
     "output_type": "stream",
     "text": [
      "WARNING:tensorflow:Falling back from v2 loop because of error: Failed to find data adapter that can handle input: <class 'pandas.core.frame.DataFrame'>, <class 'NoneType'>\n",
      "346/346 [==============================] - 0s 215us/sample - loss: 0.0911 - acc: 0.9624\n",
      "Test Score: 0.09114016341704961\n",
      "Test Accuracy 0.96242774\n"
     ]
    }
   ],
   "source": [
    "score = model.evaluate(X_test, y_test, verbose = 1)\n",
    "\n",
    "print(\"Test Score:\", score[0])\n",
    "print(\"Test Accuracy\", score[1])"
   ]
  },
  {
   "cell_type": "code",
   "execution_count": null,
   "metadata": {},
   "outputs": [],
   "source": []
  }
 ],
 "metadata": {
  "kernelspec": {
   "display_name": "Python 3",
   "language": "python",
   "name": "python3"
  },
  "language_info": {
   "codemirror_mode": {
    "name": "ipython",
    "version": 3
   },
   "file_extension": ".py",
   "mimetype": "text/x-python",
   "name": "python",
   "nbconvert_exporter": "python",
   "pygments_lexer": "ipython3",
   "version": "3.7.4"
  }
 },
 "nbformat": 4,
 "nbformat_minor": 2
}
