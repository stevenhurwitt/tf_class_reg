{
 "cells": [
  {
   "cell_type": "markdown",
   "metadata": {},
   "source": [
    "## Classification in TF"
   ]
  },
  {
   "cell_type": "code",
   "execution_count": 6,
   "metadata": {},
   "outputs": [
    {
     "name": "stdout",
     "output_type": "stream",
     "text": [
      "imported modules\n"
     ]
    }
   ],
   "source": [
    "import os\n",
    "import pandas as pd\n",
    "import numpy as np\n",
    "import seaborn as sns\n",
    "import tensorflow as tf\n",
    "import matplotlib.pyplot as plt\n",
    "\n",
    "from sklearn.model_selection import train_test_split\n",
    "from tensorflow.keras.layers import Input, Dense, Activation, Dropout\n",
    "from tensorflow.keras.models import Model, Sequential\n",
    "\n",
    "%matplotlib inline\n",
    "print('imported modules')"
   ]
  },
  {
   "cell_type": "code",
   "execution_count": 7,
   "metadata": {},
   "outputs": [
    {
     "name": "stdout",
     "output_type": "stream",
     "text": [
      "working in directory: C:\\Users\\steve\\tf_class_reg\n"
     ]
    }
   ],
   "source": [
    "print('working in directory: {}'.format(os.getcwd()))"
   ]
  },
  {
   "cell_type": "code",
   "execution_count": 8,
   "metadata": {},
   "outputs": [
    {
     "name": "stdout",
     "output_type": "stream",
     "text": [
      "2.1.0\n"
     ]
    }
   ],
   "source": [
    "print(tf.__version__)"
   ]
  },
  {
   "cell_type": "code",
   "execution_count": 9,
   "metadata": {},
   "outputs": [
    {
     "data": {
      "text/plain": [
       "[name: \"/device:CPU:0\"\n",
       " device_type: \"CPU\"\n",
       " memory_limit: 268435456\n",
       " locality {\n",
       " }\n",
       " incarnation: 1057508241642637624,\n",
       " name: \"/device:GPU:0\"\n",
       " device_type: \"GPU\"\n",
       " memory_limit: 4849834393\n",
       " locality {\n",
       "   bus_id: 1\n",
       "   links {\n",
       "   }\n",
       " }\n",
       " incarnation: 847780789266806893\n",
       " physical_device_desc: \"device: 0, name: GeForce GTX 1660 Ti, pci bus id: 0000:01:00.0, compute capability: 7.5\"]"
      ]
     },
     "execution_count": 9,
     "metadata": {},
     "output_type": "execute_result"
    }
   ],
   "source": [
    "from tensorflow.python.client import device_lib\n",
    "\n",
    "device_lib.list_local_devices()"
   ]
  },
  {
   "cell_type": "markdown",
   "metadata": {},
   "source": [
    "## Read in car evaluation data"
   ]
  },
  {
   "cell_type": "code",
   "execution_count": 10,
   "metadata": {},
   "outputs": [
    {
     "data": {
      "text/html": [
       "<div>\n",
       "<style scoped>\n",
       "    .dataframe tbody tr th:only-of-type {\n",
       "        vertical-align: middle;\n",
       "    }\n",
       "\n",
       "    .dataframe tbody tr th {\n",
       "        vertical-align: top;\n",
       "    }\n",
       "\n",
       "    .dataframe thead th {\n",
       "        text-align: right;\n",
       "    }\n",
       "</style>\n",
       "<table border=\"1\" class=\"dataframe\">\n",
       "  <thead>\n",
       "    <tr style=\"text-align: right;\">\n",
       "      <th></th>\n",
       "      <th>price</th>\n",
       "      <th>maint</th>\n",
       "      <th>doors</th>\n",
       "      <th>people</th>\n",
       "      <th>lug_boot</th>\n",
       "      <th>safety</th>\n",
       "      <th>decision</th>\n",
       "    </tr>\n",
       "  </thead>\n",
       "  <tbody>\n",
       "    <tr>\n",
       "      <th>0</th>\n",
       "      <td>vhigh</td>\n",
       "      <td>vhigh</td>\n",
       "      <td>2</td>\n",
       "      <td>2</td>\n",
       "      <td>small</td>\n",
       "      <td>low</td>\n",
       "      <td>unacc</td>\n",
       "    </tr>\n",
       "    <tr>\n",
       "      <th>1</th>\n",
       "      <td>vhigh</td>\n",
       "      <td>vhigh</td>\n",
       "      <td>2</td>\n",
       "      <td>2</td>\n",
       "      <td>small</td>\n",
       "      <td>med</td>\n",
       "      <td>unacc</td>\n",
       "    </tr>\n",
       "    <tr>\n",
       "      <th>2</th>\n",
       "      <td>vhigh</td>\n",
       "      <td>vhigh</td>\n",
       "      <td>2</td>\n",
       "      <td>2</td>\n",
       "      <td>small</td>\n",
       "      <td>high</td>\n",
       "      <td>unacc</td>\n",
       "    </tr>\n",
       "    <tr>\n",
       "      <th>3</th>\n",
       "      <td>vhigh</td>\n",
       "      <td>vhigh</td>\n",
       "      <td>2</td>\n",
       "      <td>2</td>\n",
       "      <td>med</td>\n",
       "      <td>low</td>\n",
       "      <td>unacc</td>\n",
       "    </tr>\n",
       "    <tr>\n",
       "      <th>4</th>\n",
       "      <td>vhigh</td>\n",
       "      <td>vhigh</td>\n",
       "      <td>2</td>\n",
       "      <td>2</td>\n",
       "      <td>med</td>\n",
       "      <td>med</td>\n",
       "      <td>unacc</td>\n",
       "    </tr>\n",
       "  </tbody>\n",
       "</table>\n",
       "</div>"
      ],
      "text/plain": [
       "   price  maint doors people lug_boot safety decision\n",
       "0  vhigh  vhigh     2      2    small    low    unacc\n",
       "1  vhigh  vhigh     2      2    small    med    unacc\n",
       "2  vhigh  vhigh     2      2    small   high    unacc\n",
       "3  vhigh  vhigh     2      2      med    low    unacc\n",
       "4  vhigh  vhigh     2      2      med    med    unacc"
      ]
     },
     "execution_count": 10,
     "metadata": {},
     "output_type": "execute_result"
    }
   ],
   "source": [
    "cars = pd.read_csv('car_evaluation.csv', header = None)\n",
    "cars.columns = ['price', 'maint', 'doors', 'people', 'lug_boot', 'safety', 'decision']\n",
    "cars.head()"
   ]
  },
  {
   "cell_type": "code",
   "execution_count": 11,
   "metadata": {},
   "outputs": [
    {
     "data": {
      "text/plain": [
       "(array([1210.,    0.,    0.,  384.,    0.,    0.,   65.,    0.,    0.,\n",
       "          69.]),\n",
       " array([0. , 0.3, 0.6, 0.9, 1.2, 1.5, 1.8, 2.1, 2.4, 2.7, 3. ]),\n",
       " <a list of 10 Patch objects>)"
      ]
     },
     "execution_count": 11,
     "metadata": {},
     "output_type": "execute_result"
    },
    {
     "data": {
      "image/png": "[encoded data removed]",
      "text/plain": [
       "<Figure size 432x288 with 1 Axes>"
      ]
     },
     "metadata": {
      "needs_background": "light"
     },
     "output_type": "display_data"
    }
   ],
   "source": [
    "plt.hist(x = cars.decision)"
   ]
  },
  {
   "cell_type": "markdown",
   "metadata": {},
   "source": [
    "## Convert categorical vars to numeric"
   ]
  },
  {
   "cell_type": "code",
   "execution_count": 12,
   "metadata": {},
   "outputs": [
    {
     "data": {
      "text/plain": [
       "['price', 'maint', 'doors', 'people', 'lug_boot', 'safety', 'decision']"
      ]
     },
     "execution_count": 12,
     "metadata": {},
     "output_type": "execute_result"
    }
   ],
   "source": [
    "list(cars.columns)"
   ]
  },
  {
   "cell_type": "code",
   "execution_count": 13,
   "metadata": {},
   "outputs": [],
   "source": [
    "price = pd.get_dummies(cars.price, prefix = 'price')\n",
    "maint = pd.get_dummies(cars.maint, prefix = 'maint')\n",
    "\n",
    "doors = pd.get_dummies(cars.doors, prefix = 'doors')\n",
    "people = pd.get_dummies(cars.people, prefix = 'people')\n",
    "\n",
    "lug_boot = pd.get_dummies(cars.lug_boot, prefix = 'lug_boot')\n",
    "safety = pd.get_dummies(cars.safety, prefix = 'safety')\n",
    "\n",
    "labels = pd.get_dummies(cars.decision, prefix = 'condition')"
   ]
  },
  {
   "cell_type": "code",
   "execution_count": 14,
   "metadata": {},
   "outputs": [],
   "source": [
    "X = pd.concat([price, maint, doors, people, lug_boot, safety], axis = 1)"
   ]
  },
  {
   "cell_type": "code",
   "execution_count": 15,
   "metadata": {},
   "outputs": [
    {
     "data": {
      "text/html": [
       "<div>\n",
       "<style scoped>\n",
       "    .dataframe tbody tr th:only-of-type {\n",
       "        vertical-align: middle;\n",
       "    }\n",
       "\n",
       "    .dataframe tbody tr th {\n",
       "        vertical-align: top;\n",
       "    }\n",
       "\n",
       "    .dataframe thead th {\n",
       "        text-align: right;\n",
       "    }\n",
       "</style>\n",
       "<table border=\"1\" class=\"dataframe\">\n",
       "  <thead>\n",
       "    <tr style=\"text-align: right;\">\n",
       "      <th></th>\n",
       "      <th>condition_acc</th>\n",
       "      <th>condition_good</th>\n",
       "      <th>condition_unacc</th>\n",
       "      <th>condition_vgood</th>\n",
       "    </tr>\n",
       "  </thead>\n",
       "  <tbody>\n",
       "    <tr>\n",
       "      <th>0</th>\n",
       "      <td>0</td>\n",
       "      <td>0</td>\n",
       "      <td>1</td>\n",
       "      <td>0</td>\n",
       "    </tr>\n",
       "    <tr>\n",
       "      <th>1</th>\n",
       "      <td>0</td>\n",
       "      <td>0</td>\n",
       "      <td>1</td>\n",
       "      <td>0</td>\n",
       "    </tr>\n",
       "    <tr>\n",
       "      <th>2</th>\n",
       "      <td>0</td>\n",
       "      <td>0</td>\n",
       "      <td>1</td>\n",
       "      <td>0</td>\n",
       "    </tr>\n",
       "    <tr>\n",
       "      <th>3</th>\n",
       "      <td>0</td>\n",
       "      <td>0</td>\n",
       "      <td>1</td>\n",
       "      <td>0</td>\n",
       "    </tr>\n",
       "    <tr>\n",
       "      <th>4</th>\n",
       "      <td>0</td>\n",
       "      <td>0</td>\n",
       "      <td>1</td>\n",
       "      <td>0</td>\n",
       "    </tr>\n",
       "  </tbody>\n",
       "</table>\n",
       "</div>"
      ],
      "text/plain": [
       "   condition_acc  condition_good  condition_unacc  condition_vgood\n",
       "0              0               0                1                0\n",
       "1              0               0                1                0\n",
       "2              0               0                1                0\n",
       "3              0               0                1                0\n",
       "4              0               0                1                0"
      ]
     },
     "execution_count": 15,
     "metadata": {},
     "output_type": "execute_result"
    }
   ],
   "source": [
    "labels.head()"
   ]
  },
  {
   "cell_type": "code",
   "execution_count": 16,
   "metadata": {},
   "outputs": [
    {
     "data": {
      "text/html": [
       "<div>\n",
       "<style scoped>\n",
       "    .dataframe tbody tr th:only-of-type {\n",
       "        vertical-align: middle;\n",
       "    }\n",
       "\n",
       "    .dataframe tbody tr th {\n",
       "        vertical-align: top;\n",
       "    }\n",
       "\n",
       "    .dataframe thead th {\n",
       "        text-align: right;\n",
       "    }\n",
       "</style>\n",
       "<table border=\"1\" class=\"dataframe\">\n",
       "  <thead>\n",
       "    <tr style=\"text-align: right;\">\n",
       "      <th></th>\n",
       "      <th>price_high</th>\n",
       "      <th>price_low</th>\n",
       "      <th>price_med</th>\n",
       "      <th>price_vhigh</th>\n",
       "      <th>maint_high</th>\n",
       "      <th>maint_low</th>\n",
       "      <th>maint_med</th>\n",
       "      <th>maint_vhigh</th>\n",
       "      <th>doors_2</th>\n",
       "      <th>doors_3</th>\n",
       "      <th>...</th>\n",
       "      <th>doors_5more</th>\n",
       "      <th>people_2</th>\n",
       "      <th>people_4</th>\n",
       "      <th>people_more</th>\n",
       "      <th>lug_boot_big</th>\n",
       "      <th>lug_boot_med</th>\n",
       "      <th>lug_boot_small</th>\n",
       "      <th>safety_high</th>\n",
       "      <th>safety_low</th>\n",
       "      <th>safety_med</th>\n",
       "    </tr>\n",
       "  </thead>\n",
       "  <tbody>\n",
       "    <tr>\n",
       "      <th>0</th>\n",
       "      <td>0</td>\n",
       "      <td>0</td>\n",
       "      <td>0</td>\n",
       "      <td>1</td>\n",
       "      <td>0</td>\n",
       "      <td>0</td>\n",
       "      <td>0</td>\n",
       "      <td>1</td>\n",
       "      <td>1</td>\n",
       "      <td>0</td>\n",
       "      <td>...</td>\n",
       "      <td>0</td>\n",
       "      <td>1</td>\n",
       "      <td>0</td>\n",
       "      <td>0</td>\n",
       "      <td>0</td>\n",
       "      <td>0</td>\n",
       "      <td>1</td>\n",
       "      <td>0</td>\n",
       "      <td>1</td>\n",
       "      <td>0</td>\n",
       "    </tr>\n",
       "    <tr>\n",
       "      <th>1</th>\n",
       "      <td>0</td>\n",
       "      <td>0</td>\n",
       "      <td>0</td>\n",
       "      <td>1</td>\n",
       "      <td>0</td>\n",
       "      <td>0</td>\n",
       "      <td>0</td>\n",
       "      <td>1</td>\n",
       "      <td>1</td>\n",
       "      <td>0</td>\n",
       "      <td>...</td>\n",
       "      <td>0</td>\n",
       "      <td>1</td>\n",
       "      <td>0</td>\n",
       "      <td>0</td>\n",
       "      <td>0</td>\n",
       "      <td>0</td>\n",
       "      <td>1</td>\n",
       "      <td>0</td>\n",
       "      <td>0</td>\n",
       "      <td>1</td>\n",
       "    </tr>\n",
       "    <tr>\n",
       "      <th>2</th>\n",
       "      <td>0</td>\n",
       "      <td>0</td>\n",
       "      <td>0</td>\n",
       "      <td>1</td>\n",
       "      <td>0</td>\n",
       "      <td>0</td>\n",
       "      <td>0</td>\n",
       "      <td>1</td>\n",
       "      <td>1</td>\n",
       "      <td>0</td>\n",
       "      <td>...</td>\n",
       "      <td>0</td>\n",
       "      <td>1</td>\n",
       "      <td>0</td>\n",
       "      <td>0</td>\n",
       "      <td>0</td>\n",
       "      <td>0</td>\n",
       "      <td>1</td>\n",
       "      <td>1</td>\n",
       "      <td>0</td>\n",
       "      <td>0</td>\n",
       "    </tr>\n",
       "    <tr>\n",
       "      <th>3</th>\n",
       "      <td>0</td>\n",
       "      <td>0</td>\n",
       "      <td>0</td>\n",
       "      <td>1</td>\n",
       "      <td>0</td>\n",
       "      <td>0</td>\n",
       "      <td>0</td>\n",
       "      <td>1</td>\n",
       "      <td>1</td>\n",
       "      <td>0</td>\n",
       "      <td>...</td>\n",
       "      <td>0</td>\n",
       "      <td>1</td>\n",
       "      <td>0</td>\n",
       "      <td>0</td>\n",
       "      <td>0</td>\n",
       "      <td>1</td>\n",
       "      <td>0</td>\n",
       "      <td>0</td>\n",
       "      <td>1</td>\n",
       "      <td>0</td>\n",
       "    </tr>\n",
       "    <tr>\n",
       "      <th>4</th>\n",
       "      <td>0</td>\n",
       "      <td>0</td>\n",
       "      <td>0</td>\n",
       "      <td>1</td>\n",
       "      <td>0</td>\n",
       "      <td>0</td>\n",
       "      <td>0</td>\n",
       "      <td>1</td>\n",
       "      <td>1</td>\n",
       "      <td>0</td>\n",
       "      <td>...</td>\n",
       "      <td>0</td>\n",
       "      <td>1</td>\n",
       "      <td>0</td>\n",
       "      <td>0</td>\n",
       "      <td>0</td>\n",
       "      <td>1</td>\n",
       "      <td>0</td>\n",
       "      <td>0</td>\n",
       "      <td>0</td>\n",
       "      <td>1</td>\n",
       "    </tr>\n",
       "  </tbody>\n",
       "</table>\n",
       "<p>5 rows × 21 columns</p>\n",
       "</div>"
      ],
      "text/plain": [
       "   price_high  price_low  price_med  price_vhigh  maint_high  maint_low  \\\n",
       "0           0          0          0            1           0          0   \n",
       "1           0          0          0            1           0          0   \n",
       "2           0          0          0            1           0          0   \n",
       "3           0          0          0            1           0          0   \n",
       "4           0          0          0            1           0          0   \n",
       "\n",
       "   maint_med  maint_vhigh  doors_2  doors_3  ...  doors_5more  people_2  \\\n",
       "0          0            1        1        0  ...            0         1   \n",
       "1          0            1        1        0  ...            0         1   \n",
       "2          0            1        1        0  ...            0         1   \n",
       "3          0            1        1        0  ...            0         1   \n",
       "4          0            1        1        0  ...            0         1   \n",
       "\n",
       "   people_4  people_more  lug_boot_big  lug_boot_med  lug_boot_small  \\\n",
       "0         0            0             0             0               1   \n",
       "1         0            0             0             0               1   \n",
       "2         0            0             0             0               1   \n",
       "3         0            0             0             1               0   \n",
       "4         0            0             0             1               0   \n",
       "\n",
       "   safety_high  safety_low  safety_med  \n",
       "0            0           1           0  \n",
       "1            0           0           1  \n",
       "2            1           0           0  \n",
       "3            0           1           0  \n",
       "4            0           0           1  \n",
       "\n",
       "[5 rows x 21 columns]"
      ]
     },
     "execution_count": 16,
     "metadata": {},
     "output_type": "execute_result"
    }
   ],
   "source": [
    "X.head()"
   ]
  },
  {
   "cell_type": "code",
   "execution_count": 17,
   "metadata": {},
   "outputs": [],
   "source": [
    "y = labels.values"
   ]
  },
  {
   "cell_type": "markdown",
   "metadata": {},
   "source": [
    "## Split data into train/test"
   ]
  },
  {
   "cell_type": "code",
   "execution_count": 18,
   "metadata": {},
   "outputs": [],
   "source": [
    "X_train, X_test, y_train, y_test = train_test_split(X, y, test_size = .2, random_state = 42)"
   ]
  },
  {
   "cell_type": "code",
   "execution_count": 19,
   "metadata": {},
   "outputs": [
    {
     "data": {
      "text/plain": [
       "(1728, 4)"
      ]
     },
     "execution_count": 19,
     "metadata": {},
     "output_type": "execute_result"
    }
   ],
   "source": [
    "y.shape"
   ]
  },
  {
   "cell_type": "markdown",
   "metadata": {},
   "source": [
    "## Create classification model - tf 1.13"
   ]
  },
  {
   "cell_type": "code",
   "execution_count": 20,
   "metadata": {},
   "outputs": [
    {
     "name": "stdout",
     "output_type": "stream",
     "text": [
      "Model: \"sequential\"\n",
      "_________________________________________________________________\n",
      "Layer (type)                 Output Shape              Param #   \n",
      "=================================================================\n",
      "dense (Dense)                (None, 100)               2200      \n",
      "_________________________________________________________________\n",
      "dense_1 (Dense)              (None, 50)                5050      \n",
      "_________________________________________________________________\n",
      "dense_2 (Dense)              (None, 25)                1275      \n",
      "_________________________________________________________________\n",
      "dense_3 (Dense)              (None, 4)                 104       \n",
      "=================================================================\n",
      "Total params: 8,629\n",
      "Trainable params: 8,629\n",
      "Non-trainable params: 0\n",
      "_________________________________________________________________\n",
      "None\n"
     ]
    }
   ],
   "source": [
    "model = Sequential()\n",
    "model.add(Dense(100, activation='relu', input_shape = (X.shape[1],)))\n",
    "model.add(Dense(50, activation = 'relu'))\n",
    "model.add(Dense(25, activation = 'relu'))\n",
    "model.add(Dense(y.shape[1], activation = 'softmax'))\n",
    "\n",
    "model.compile(loss = 'categorical_crossentropy', optimizer = 'adam', metrics = ['acc'])\n",
    "print(model.summary())"
   ]
  },
  {
   "cell_type": "markdown",
   "metadata": {},
   "source": [
    "## Create classification model - tf 2.0"
   ]
  },
  {
   "cell_type": "code",
   "execution_count": 22,
   "metadata": {},
   "outputs": [
    {
     "name": "stdout",
     "output_type": "stream",
     "text": [
      "Model: \"model_1\"\n",
      "_________________________________________________________________\n",
      "Layer (type)                 Output Shape              Param #   \n",
      "=================================================================\n",
      "input_2 (InputLayer)         [(None, 21)]              0         \n",
      "_________________________________________________________________\n",
      "dense_7 (Dense)              (None, 15)                330       \n",
      "_________________________________________________________________\n",
      "dense_8 (Dense)              (None, 10)                160       \n",
      "_________________________________________________________________\n",
      "dense_9 (Dense)              (None, 4)                 44        \n",
      "=================================================================\n",
      "Total params: 534\n",
      "Trainable params: 534\n",
      "Non-trainable params: 0\n",
      "_________________________________________________________________\n",
      "None\n"
     ]
    }
   ],
   "source": [
    "input_layer = Input(shape = (X.shape[1],))\n",
    "dense_layer_1 = Dense(15, activation = 'relu')(input_layer)\n",
    "dense_layer_2 = Dense(10, activation = 'relu')(dense_layer_1)\n",
    "output = Dense(y.shape[1], activation = 'softmax')(dense_layer_2)\n",
    "\n",
    "model = Model(inputs = input_layer, outputs = output)\n",
    "model.compile(loss = 'categorical_crossentropy', optimizer = 'adam', metrics = ['acc'])\n",
    "print(model.summary())"
   ]
  },
  {
   "cell_type": "markdown",
   "metadata": {},
   "source": [
    "## Train model"
   ]
  },
  {
   "cell_type": "code",
   "execution_count": 23,
   "metadata": {},
   "outputs": [
    {
     "name": "stdout",
     "output_type": "stream",
     "text": [
      "Train on 1105 samples, validate on 277 samples\n",
      "Epoch 1/100\n",
      "1105/1105 [==============================] - 4s 4ms/sample - loss: 0.9058 - acc: 0.6326 - val_loss: 0.8300 - val_acc: 0.6498\n",
      "Epoch 2/100\n",
      "1105/1105 [==============================] - 3s 2ms/sample - loss: 0.6250 - acc: 0.7294 - val_loss: 0.6891 - val_acc: 0.6679\n",
      "Epoch 3/100\n",
      "1105/1105 [==============================] - 2s 2ms/sample - loss: 0.4868 - acc: 0.7891 - val_loss: 0.5418 - val_acc: 0.7329\n",
      "Epoch 4/100\n",
      "1105/1105 [==============================] - 2s 2ms/sample - loss: 0.3764 - acc: 0.8380 - val_loss: 0.4424 - val_acc: 0.8087\n",
      "Epoch 5/100\n",
      "1105/1105 [==============================] - 2s 2ms/sample - loss: 0.3108 - acc: 0.8724 - val_loss: 0.3840 - val_acc: 0.8231\n",
      "Epoch 6/100\n",
      "1105/1105 [==============================] - 2s 2ms/sample - loss: 0.2660 - acc: 0.8814 - val_loss: 0.3328 - val_acc: 0.8520\n",
      "Epoch 7/100\n",
      "1105/1105 [==============================] - 3s 3ms/sample - loss: 0.2319 - acc: 0.9104 - val_loss: 0.2970 - val_acc: 0.8845\n",
      "Epoch 8/100\n",
      "1105/1105 [==============================] - 2s 2ms/sample - loss: 0.2020 - acc: 0.9312 - val_loss: 0.2704 - val_acc: 0.8917\n",
      "Epoch 9/100\n",
      "1105/1105 [==============================] - 2s 2ms/sample - loss: 0.1835 - acc: 0.9285 - val_loss: 0.2434 - val_acc: 0.9061\n",
      "Epoch 10/100\n",
      "1105/1105 [==============================] - 2s 2ms/sample - loss: 0.1647 - acc: 0.9466 - val_loss: 0.2314 - val_acc: 0.9097\n",
      "Epoch 11/100\n",
      "1105/1105 [==============================] - 2s 2ms/sample - loss: 0.1494 - acc: 0.9548 - val_loss: 0.2181 - val_acc: 0.9061\n",
      "Epoch 12/100\n",
      "1105/1105 [==============================] - 2s 2ms/sample - loss: 0.1382 - acc: 0.9538 - val_loss: 0.2055 - val_acc: 0.9170\n",
      "Epoch 13/100\n",
      "1105/1105 [==============================] - 2s 2ms/sample - loss: 0.1298 - acc: 0.9584 - val_loss: 0.1949 - val_acc: 0.9097\n",
      "Epoch 14/100\n",
      "1105/1105 [==============================] - 2s 2ms/sample - loss: 0.1205 - acc: 0.9602 - val_loss: 0.1741 - val_acc: 0.9242\n",
      "Epoch 15/100\n",
      "1105/1105 [==============================] - 2s 2ms/sample - loss: 0.1107 - acc: 0.9692 - val_loss: 0.1775 - val_acc: 0.9134\n",
      "Epoch 16/100\n",
      "1105/1105 [==============================] - 2s 2ms/sample - loss: 0.1058 - acc: 0.9665 - val_loss: 0.1592 - val_acc: 0.9531\n",
      "Epoch 17/100\n",
      "1105/1105 [==============================] - 2s 2ms/sample - loss: 0.0979 - acc: 0.9710 - val_loss: 0.1447 - val_acc: 0.9567\n",
      "Epoch 18/100\n",
      "1105/1105 [==============================] - 2s 1ms/sample - loss: 0.0923 - acc: 0.9774 - val_loss: 0.1386 - val_acc: 0.9603\n",
      "Epoch 19/100\n",
      "1105/1105 [==============================] - 2s 1ms/sample - loss: 0.0880 - acc: 0.9801 - val_loss: 0.1341 - val_acc: 0.9603\n",
      "Epoch 20/100\n",
      "1105/1105 [==============================] - 2s 2ms/sample - loss: 0.0813 - acc: 0.9792 - val_loss: 0.1340 - val_acc: 0.9458\n",
      "Epoch 21/100\n",
      "1105/1105 [==============================] - 2s 2ms/sample - loss: 0.0767 - acc: 0.9828 - val_loss: 0.1241 - val_acc: 0.9567\n",
      "Epoch 22/100\n",
      "1105/1105 [==============================] - 2s 2ms/sample - loss: 0.0724 - acc: 0.9855 - val_loss: 0.1347 - val_acc: 0.9458\n",
      "Epoch 23/100\n",
      "1105/1105 [==============================] - 2s 2ms/sample - loss: 0.0666 - acc: 0.9855 - val_loss: 0.1218 - val_acc: 0.9495\n",
      "Epoch 24/100\n",
      "1105/1105 [==============================] - 2s 2ms/sample - loss: 0.0619 - acc: 0.9891 - val_loss: 0.1201 - val_acc: 0.9603\n",
      "Epoch 25/100\n",
      "1105/1105 [==============================] - 2s 2ms/sample - loss: 0.0604 - acc: 0.9846 - val_loss: 0.1090 - val_acc: 0.9603\n",
      "Epoch 26/100\n",
      "1105/1105 [==============================] - 2s 2ms/sample - loss: 0.0569 - acc: 0.9873 - val_loss: 0.1024 - val_acc: 0.9675\n",
      "Epoch 27/100\n",
      "1105/1105 [==============================] - 2s 2ms/sample - loss: 0.0523 - acc: 0.9900 - val_loss: 0.1044 - val_acc: 0.9603\n",
      "Epoch 28/100\n",
      "1105/1105 [==============================] - 1s 1ms/sample - loss: 0.0505 - acc: 0.9919 - val_loss: 0.1006 - val_acc: 0.9639\n",
      "Epoch 29/100\n",
      "1105/1105 [==============================] - 1s 1ms/sample - loss: 0.0468 - acc: 0.9910 - val_loss: 0.0969 - val_acc: 0.9711\n",
      "Epoch 30/100\n",
      "1105/1105 [==============================] - 2s 2ms/sample - loss: 0.0441 - acc: 0.9919 - val_loss: 0.1019 - val_acc: 0.9639\n",
      "Epoch 31/100\n",
      "1105/1105 [==============================] - 2s 2ms/sample - loss: 0.0415 - acc: 0.9955 - val_loss: 0.0933 - val_acc: 0.9747\n",
      "Epoch 32/100\n",
      "1105/1105 [==============================] - 2s 2ms/sample - loss: 0.0455 - acc: 0.9910 - val_loss: 0.0910 - val_acc: 0.9747\n",
      "Epoch 33/100\n",
      "1105/1105 [==============================] - 2s 2ms/sample - loss: 0.0359 - acc: 0.9955 - val_loss: 0.0898 - val_acc: 0.9783\n",
      "Epoch 34/100\n",
      "1105/1105 [==============================] - 2s 2ms/sample - loss: 0.0345 - acc: 0.9964 - val_loss: 0.1002 - val_acc: 0.9603\n",
      "Epoch 35/100\n",
      "1105/1105 [==============================] - 1s 1ms/sample - loss: 0.0315 - acc: 0.9982 - val_loss: 0.0963 - val_acc: 0.9639\n",
      "Epoch 36/100\n",
      "1105/1105 [==============================] - 2s 2ms/sample - loss: 0.0296 - acc: 0.9973 - val_loss: 0.0848 - val_acc: 0.9783\n",
      "Epoch 37/100\n",
      "1105/1105 [==============================] - 2s 2ms/sample - loss: 0.0285 - acc: 0.9973 - val_loss: 0.0885 - val_acc: 0.9783\n",
      "Epoch 38/100\n",
      "1105/1105 [==============================] - 2s 2ms/sample - loss: 0.0273 - acc: 0.9964 - val_loss: 0.0780 - val_acc: 0.9856\n",
      "Epoch 39/100\n",
      "1105/1105 [==============================] - 2s 2ms/sample - loss: 0.0255 - acc: 0.9973 - val_loss: 0.0794 - val_acc: 0.9819\n",
      "Epoch 40/100\n",
      "1105/1105 [==============================] - 2s 2ms/sample - loss: 0.0242 - acc: 0.9982 - val_loss: 0.0736 - val_acc: 0.9856\n",
      "Epoch 41/100\n",
      "1105/1105 [==============================] - 2s 2ms/sample - loss: 0.0230 - acc: 0.9982 - val_loss: 0.0791 - val_acc: 0.9819\n",
      "Epoch 42/100\n",
      "1105/1105 [==============================] - 2s 2ms/sample - loss: 0.0213 - acc: 0.9991 - val_loss: 0.0806 - val_acc: 0.9783\n",
      "Epoch 43/100\n",
      "1105/1105 [==============================] - 3s 2ms/sample - loss: 0.0201 - acc: 0.9991 - val_loss: 0.0844 - val_acc: 0.9747\n",
      "Epoch 44/100\n",
      "1105/1105 [==============================] - 4s 4ms/sample - loss: 0.0196 - acc: 0.9982 - val_loss: 0.0711 - val_acc: 0.9856\n",
      "Epoch 45/100\n",
      "1105/1105 [==============================] - 2s 2ms/sample - loss: 0.0186 - acc: 1.0000 - val_loss: 0.0841 - val_acc: 0.9711\n",
      "Epoch 46/100\n",
      "1105/1105 [==============================] - 2s 2ms/sample - loss: 0.0170 - acc: 1.0000 - val_loss: 0.0742 - val_acc: 0.9819\n",
      "Epoch 47/100\n",
      "1105/1105 [==============================] - 2s 2ms/sample - loss: 0.0152 - acc: 1.0000 - val_loss: 0.0770 - val_acc: 0.9783\n",
      "Epoch 48/100\n",
      "1105/1105 [==============================] - 2s 2ms/sample - loss: 0.0155 - acc: 1.0000 - val_loss: 0.0768 - val_acc: 0.9783\n",
      "Epoch 49/100\n",
      "1105/1105 [==============================] - 2s 2ms/sample - loss: 0.0144 - acc: 1.0000 - val_loss: 0.0693 - val_acc: 0.9819\n",
      "Epoch 50/100\n",
      "1105/1105 [==============================] - 2s 2ms/sample - loss: 0.0130 - acc: 1.0000 - val_loss: 0.0755 - val_acc: 0.9819\n",
      "Epoch 51/100\n",
      "1105/1105 [==============================] - 1s 1ms/sample - loss: 0.0127 - acc: 1.0000 - val_loss: 0.0741 - val_acc: 0.9819\n",
      "Epoch 52/100\n",
      "1105/1105 [==============================] - 2s 2ms/sample - loss: 0.0121 - acc: 1.0000 - val_loss: 0.0739 - val_acc: 0.9783\n",
      "Epoch 53/100\n",
      "1105/1105 [==============================] - 2s 2ms/sample - loss: 0.0113 - acc: 1.0000 - val_loss: 0.0726 - val_acc: 0.9783\n",
      "Epoch 54/100\n",
      "1105/1105 [==============================] - 2s 1ms/sample - loss: 0.0114 - acc: 1.0000 - val_loss: 0.0632 - val_acc: 0.9819\n",
      "Epoch 55/100\n",
      "1105/1105 [==============================] - 2s 2ms/sample - loss: 0.0100 - acc: 1.0000 - val_loss: 0.0685 - val_acc: 0.9783\n",
      "Epoch 56/100\n",
      "1105/1105 [==============================] - 2s 1ms/sample - loss: 0.0098 - acc: 1.0000 - val_loss: 0.0748 - val_acc: 0.9783\n",
      "Epoch 57/100\n",
      "1105/1105 [==============================] - 1s 1ms/sample - loss: 0.0086 - acc: 1.0000 - val_loss: 0.0657 - val_acc: 0.9783\n",
      "Epoch 58/100\n",
      "1105/1105 [==============================] - 2s 2ms/sample - loss: 0.0076 - acc: 1.0000 - val_loss: 0.0654 - val_acc: 0.9819\n",
      "Epoch 59/100\n",
      "1105/1105 [==============================] - 2s 1ms/sample - loss: 0.0074 - acc: 1.0000 - val_loss: 0.0613 - val_acc: 0.9819\n",
      "Epoch 60/100\n"
     ]
    },
    {
     "name": "stdout",
     "output_type": "stream",
     "text": [
      "1105/1105 [==============================] - 2s 1ms/sample - loss: 0.0069 - acc: 1.0000 - val_loss: 0.0615 - val_acc: 0.9819\n",
      "Epoch 61/100\n",
      "1105/1105 [==============================] - 2s 2ms/sample - loss: 0.0065 - acc: 1.0000 - val_loss: 0.0646 - val_acc: 0.9819\n",
      "Epoch 62/100\n",
      "1105/1105 [==============================] - 2s 2ms/sample - loss: 0.0060 - acc: 1.0000 - val_loss: 0.0606 - val_acc: 0.9819\n",
      "Epoch 63/100\n",
      "1105/1105 [==============================] - 1s 1ms/sample - loss: 0.0057 - acc: 1.0000 - val_loss: 0.0634 - val_acc: 0.9819\n",
      "Epoch 64/100\n",
      "1105/1105 [==============================] - 2s 1ms/sample - loss: 0.0057 - acc: 1.0000 - val_loss: 0.0640 - val_acc: 0.9819\n",
      "Epoch 65/100\n",
      "1105/1105 [==============================] - 2s 2ms/sample - loss: 0.0050 - acc: 1.0000 - val_loss: 0.0688 - val_acc: 0.9783\n",
      "Epoch 66/100\n",
      "1105/1105 [==============================] - 2s 2ms/sample - loss: 0.0049 - acc: 1.0000 - val_loss: 0.0650 - val_acc: 0.9819\n",
      "Epoch 67/100\n",
      "1105/1105 [==============================] - 1s 1ms/sample - loss: 0.0042 - acc: 1.0000 - val_loss: 0.0637 - val_acc: 0.9819\n",
      "Epoch 68/100\n",
      "1105/1105 [==============================] - 2s 2ms/sample - loss: 0.0039 - acc: 1.0000 - val_loss: 0.0627 - val_acc: 0.9819\n",
      "Epoch 69/100\n",
      "1105/1105 [==============================] - 2s 2ms/sample - loss: 0.0040 - acc: 1.0000 - val_loss: 0.0568 - val_acc: 0.9856\n",
      "Epoch 70/100\n",
      "1105/1105 [==============================] - 1s 1ms/sample - loss: 0.0036 - acc: 1.0000 - val_loss: 0.0616 - val_acc: 0.9819\n",
      "Epoch 71/100\n",
      "1105/1105 [==============================] - 1s 1ms/sample - loss: 0.0032 - acc: 1.0000 - val_loss: 0.0566 - val_acc: 0.9819\n",
      "Epoch 72/100\n",
      "1105/1105 [==============================] - 2s 2ms/sample - loss: 0.0030 - acc: 1.0000 - val_loss: 0.0573 - val_acc: 0.9819\n",
      "Epoch 73/100\n",
      "1105/1105 [==============================] - 2s 2ms/sample - loss: 0.0030 - acc: 1.0000 - val_loss: 0.0706 - val_acc: 0.9783\n",
      "Epoch 74/100\n",
      "1105/1105 [==============================] - 2s 2ms/sample - loss: 0.0030 - acc: 1.0000 - val_loss: 0.0610 - val_acc: 0.9819\n",
      "Epoch 75/100\n",
      "1105/1105 [==============================] - 2s 1ms/sample - loss: 0.0024 - acc: 1.0000 - val_loss: 0.0593 - val_acc: 0.9819\n",
      "Epoch 76/100\n",
      "1105/1105 [==============================] - 2s 1ms/sample - loss: 0.0024 - acc: 1.0000 - val_loss: 0.0605 - val_acc: 0.9819\n",
      "Epoch 77/100\n",
      "1105/1105 [==============================] - 2s 2ms/sample - loss: 0.0022 - acc: 1.0000 - val_loss: 0.0635 - val_acc: 0.9819\n",
      "Epoch 78/100\n",
      "1105/1105 [==============================] - 1s 1ms/sample - loss: 0.0020 - acc: 1.0000 - val_loss: 0.0585 - val_acc: 0.9819\n",
      "Epoch 79/100\n",
      "1105/1105 [==============================] - 2s 2ms/sample - loss: 0.0019 - acc: 1.0000 - val_loss: 0.0594 - val_acc: 0.9819\n",
      "Epoch 80/100\n",
      "1105/1105 [==============================] - 1s 1ms/sample - loss: 0.0018 - acc: 1.0000 - val_loss: 0.0617 - val_acc: 0.9783\n",
      "Epoch 81/100\n",
      "1105/1105 [==============================] - 2s 2ms/sample - loss: 0.0017 - acc: 1.0000 - val_loss: 0.0605 - val_acc: 0.9819\n",
      "Epoch 82/100\n",
      "1105/1105 [==============================] - 2s 2ms/sample - loss: 0.0016 - acc: 1.0000 - val_loss: 0.0668 - val_acc: 0.9783\n",
      "Epoch 83/100\n",
      "1105/1105 [==============================] - 1s 1ms/sample - loss: 0.0016 - acc: 1.0000 - val_loss: 0.0614 - val_acc: 0.9819\n",
      "Epoch 84/100\n",
      "1105/1105 [==============================] - 2s 2ms/sample - loss: 0.0014 - acc: 1.0000 - val_loss: 0.0560 - val_acc: 0.9856\n",
      "Epoch 85/100\n",
      "1105/1105 [==============================] - 2s 2ms/sample - loss: 0.0013 - acc: 1.0000 - val_loss: 0.0547 - val_acc: 0.9819\n",
      "Epoch 86/100\n",
      "1105/1105 [==============================] - 2s 1ms/sample - loss: 0.0013 - acc: 1.0000 - val_loss: 0.0614 - val_acc: 0.9783\n",
      "Epoch 87/100\n",
      "1105/1105 [==============================] - 2s 2ms/sample - loss: 0.0011 - acc: 1.0000 - val_loss: 0.0585 - val_acc: 0.9819\n",
      "Epoch 88/100\n",
      "1105/1105 [==============================] - 2s 1ms/sample - loss: 9.7218e-04 - acc: 1.0000 - val_loss: 0.0613 - val_acc: 0.9819\n",
      "Epoch 89/100\n",
      "1105/1105 [==============================] - 2s 1ms/sample - loss: 9.6981e-04 - acc: 1.0000 - val_loss: 0.0562 - val_acc: 0.9856\n",
      "Epoch 90/100\n",
      "1105/1105 [==============================] - 2s 2ms/sample - loss: 8.8893e-04 - acc: 1.0000 - val_loss: 0.0574 - val_acc: 0.9856\n",
      "Epoch 91/100\n",
      "1105/1105 [==============================] - 2s 2ms/sample - loss: 8.2422e-04 - acc: 1.0000 - val_loss: 0.0579 - val_acc: 0.9819\n",
      "Epoch 92/100\n",
      "1105/1105 [==============================] - 2s 2ms/sample - loss: 7.3597e-04 - acc: 1.0000 - val_loss: 0.0559 - val_acc: 0.9856\n",
      "Epoch 93/100\n",
      "1105/1105 [==============================] - 1s 1ms/sample - loss: 7.2522e-04 - acc: 1.0000 - val_loss: 0.0590 - val_acc: 0.9819\n",
      "Epoch 94/100\n",
      "1105/1105 [==============================] - 2s 1ms/sample - loss: 6.5774e-04 - acc: 1.0000 - val_loss: 0.0536 - val_acc: 0.9856\n",
      "Epoch 95/100\n",
      "1105/1105 [==============================] - 2s 1ms/sample - loss: 6.7647e-04 - acc: 1.0000 - val_loss: 0.0557 - val_acc: 0.9856\n",
      "Epoch 96/100\n",
      "1105/1105 [==============================] - 2s 1ms/sample - loss: 5.7932e-04 - acc: 1.0000 - val_loss: 0.0563 - val_acc: 0.9819\n",
      "Epoch 97/100\n",
      "1105/1105 [==============================] - 2s 2ms/sample - loss: 5.3069e-04 - acc: 1.0000 - val_loss: 0.0605 - val_acc: 0.9819\n",
      "Epoch 98/100\n",
      "1105/1105 [==============================] - 2s 2ms/sample - loss: 5.0273e-04 - acc: 1.0000 - val_loss: 0.0574 - val_acc: 0.9856\n",
      "Epoch 99/100\n",
      "1105/1105 [==============================] - 2s 2ms/sample - loss: 4.8571e-04 - acc: 1.0000 - val_loss: 0.0576 - val_acc: 0.9819\n",
      "Epoch 100/100\n",
      "1105/1105 [==============================] - 2s 2ms/sample - loss: 4.3810e-04 - acc: 1.0000 - val_loss: 0.0560 - val_acc: 0.9856\n"
     ]
    }
   ],
   "source": [
    "history = model.fit(X_train, y_train, batch_size = 8, epochs = 100, verbose = 1, validation_split = .2)"
   ]
  },
  {
   "cell_type": "code",
   "execution_count": 24,
   "metadata": {},
   "outputs": [
    {
     "name": "stdout",
     "output_type": "stream",
     "text": [
      "346/346 [==============================] - 0s 170us/sample - loss: 0.0260 - acc: 0.9884\n",
      "Test Score: 0.025972424733712918\n",
      "Test Accuracy 0.9884393\n"
     ]
    }
   ],
   "source": [
    "score = model.evaluate(X_test, y_test, verbose = 1)\n",
    "\n",
    "print(\"Test Score:\", score[0])\n",
    "print(\"Test Accuracy\", score[1])"
   ]
  },
  {
   "cell_type": "code",
   "execution_count": null,
   "metadata": {},
   "outputs": [],
   "source": []
  }
 ],
 "metadata": {
  "kernelspec": {
   "display_name": "Python 3",
   "language": "python",
   "name": "python3"
  },
  "language_info": {
   "codemirror_mode": {
    "name": "ipython",
    "version": 3
   },
   "file_extension": ".py",
   "mimetype": "text/x-python",
   "name": "python",
   "nbconvert_exporter": "python",
   "pygments_lexer": "ipython3",
   "version": "3.7.6"
  }
 },
 "nbformat": 4,
 "nbformat_minor": 2
}
