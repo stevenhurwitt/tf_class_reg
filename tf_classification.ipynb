{
 "cells": [
  {
   "cell_type": "markdown",
   "metadata": {},
   "source": [
    "## Classification in TF"
   ]
  },
  {
   "cell_type": "code",
   "execution_count": 11,
   "metadata": {},
   "outputs": [
    {
     "name": "stdout",
     "output_type": "stream",
     "text": [
      "imported modules\n"
     ]
    }
   ],
   "source": [
    "import os\n",
    "import pandas as pd\n",
    "import numpy as np\n",
    "import seaborn as sns\n",
    "import tensorflow as tf\n",
    "import matplotlib.pyplot as plt\n",
    "\n",
    "from sklearn.model_selection import train_test_split\n",
    "from tensorflow.keras.layers import Input, Dense, Activation, Dropout\n",
    "from tensorflow.keras.models import Model, Sequential\n",
    "\n",
    "%matplotlib inline\n",
    "print('imported modules')"
   ]
  },
  {
   "cell_type": "code",
   "execution_count": 12,
   "metadata": {},
   "outputs": [
    {
     "name": "stdout",
     "output_type": "stream",
     "text": [
      "working in directory: C:\\Users\\steve\\tf_class_reg\n"
     ]
    }
   ],
   "source": [
    "print('working in directory: {}'.format(os.getcwd()))"
   ]
  },
  {
   "cell_type": "code",
   "execution_count": 13,
   "metadata": {},
   "outputs": [
    {
     "name": "stdout",
     "output_type": "stream",
     "text": [
      "2.1.0\n"
     ]
    }
   ],
   "source": [
    "print(tf.__version__)"
   ]
  },
  {
   "cell_type": "code",
   "execution_count": 14,
   "metadata": {},
   "outputs": [
    {
     "data": {
      "text/plain": [
       "[name: \"/device:CPU:0\"\n",
       " device_type: \"CPU\"\n",
       " memory_limit: 268435456\n",
       " locality {\n",
       " }\n",
       " incarnation: 14915837997982150924]"
      ]
     },
     "execution_count": 14,
     "metadata": {},
     "output_type": "execute_result"
    }
   ],
   "source": [
    "from tensorflow.python.client import device_lib\n",
    "\n",
    "device_lib.list_local_devices()"
   ]
  },
  {
   "cell_type": "markdown",
   "metadata": {},
   "source": [
    "## Read in car evaluation data"
   ]
  },
  {
   "cell_type": "code",
   "execution_count": 3,
   "metadata": {},
   "outputs": [
    {
     "data": {
      "text/html": [
       "<div>\n",
       "<style scoped>\n",
       "    .dataframe tbody tr th:only-of-type {\n",
       "        vertical-align: middle;\n",
       "    }\n",
       "\n",
       "    .dataframe tbody tr th {\n",
       "        vertical-align: top;\n",
       "    }\n",
       "\n",
       "    .dataframe thead th {\n",
       "        text-align: right;\n",
       "    }\n",
       "</style>\n",
       "<table border=\"1\" class=\"dataframe\">\n",
       "  <thead>\n",
       "    <tr style=\"text-align: right;\">\n",
       "      <th></th>\n",
       "      <th>price</th>\n",
       "      <th>maint</th>\n",
       "      <th>doors</th>\n",
       "      <th>people</th>\n",
       "      <th>lug_boot</th>\n",
       "      <th>safety</th>\n",
       "      <th>decision</th>\n",
       "    </tr>\n",
       "  </thead>\n",
       "  <tbody>\n",
       "    <tr>\n",
       "      <th>0</th>\n",
       "      <td>vhigh</td>\n",
       "      <td>vhigh</td>\n",
       "      <td>2</td>\n",
       "      <td>2</td>\n",
       "      <td>small</td>\n",
       "      <td>low</td>\n",
       "      <td>unacc</td>\n",
       "    </tr>\n",
       "    <tr>\n",
       "      <th>1</th>\n",
       "      <td>vhigh</td>\n",
       "      <td>vhigh</td>\n",
       "      <td>2</td>\n",
       "      <td>2</td>\n",
       "      <td>small</td>\n",
       "      <td>med</td>\n",
       "      <td>unacc</td>\n",
       "    </tr>\n",
       "    <tr>\n",
       "      <th>2</th>\n",
       "      <td>vhigh</td>\n",
       "      <td>vhigh</td>\n",
       "      <td>2</td>\n",
       "      <td>2</td>\n",
       "      <td>small</td>\n",
       "      <td>high</td>\n",
       "      <td>unacc</td>\n",
       "    </tr>\n",
       "    <tr>\n",
       "      <th>3</th>\n",
       "      <td>vhigh</td>\n",
       "      <td>vhigh</td>\n",
       "      <td>2</td>\n",
       "      <td>2</td>\n",
       "      <td>med</td>\n",
       "      <td>low</td>\n",
       "      <td>unacc</td>\n",
       "    </tr>\n",
       "    <tr>\n",
       "      <th>4</th>\n",
       "      <td>vhigh</td>\n",
       "      <td>vhigh</td>\n",
       "      <td>2</td>\n",
       "      <td>2</td>\n",
       "      <td>med</td>\n",
       "      <td>med</td>\n",
       "      <td>unacc</td>\n",
       "    </tr>\n",
       "  </tbody>\n",
       "</table>\n",
       "</div>"
      ],
      "text/plain": [
       "   price  maint doors people lug_boot safety decision\n",
       "0  vhigh  vhigh     2      2    small    low    unacc\n",
       "1  vhigh  vhigh     2      2    small    med    unacc\n",
       "2  vhigh  vhigh     2      2    small   high    unacc\n",
       "3  vhigh  vhigh     2      2      med    low    unacc\n",
       "4  vhigh  vhigh     2      2      med    med    unacc"
      ]
     },
     "execution_count": 3,
     "metadata": {},
     "output_type": "execute_result"
    }
   ],
   "source": [
    "cars = pd.read_csv('car_evaluation.csv', header = None)\n",
    "cars.columns = ['price', 'maint', 'doors', 'people', 'lug_boot', 'safety', 'decision']\n",
    "cars.head()"
   ]
  },
  {
   "cell_type": "code",
   "execution_count": 6,
   "metadata": {},
   "outputs": [
    {
     "data": {
      "text/plain": [
       "(array([ 384.,    0.,    0.,   69.,    0.,    0., 1210.,    0.,    0.,\n",
       "          65.]),\n",
       " array([0. , 0.3, 0.6, 0.9, 1.2, 1.5, 1.8, 2.1, 2.4, 2.7, 3. ]),\n",
       " <a list of 10 Patch objects>)"
      ]
     },
     "execution_count": 6,
     "metadata": {},
     "output_type": "execute_result"
    },
    {
     "data": {
      "image/png": "[encoded data removed]",
      "text/plain": [
       "<matplotlib.figure.Figure at 0x7f9db0fb00>"
      ]
     },
     "metadata": {
      "needs_background": "light"
     },
     "output_type": "display_data"
    }
   ],
   "source": [
    "plt.hist(x = cars.decision)"
   ]
  },
  {
   "cell_type": "markdown",
   "metadata": {},
   "source": [
    "## Convert categorical vars to numeric"
   ]
  },
  {
   "cell_type": "code",
   "execution_count": 4,
   "metadata": {},
   "outputs": [
    {
     "data": {
      "text/plain": [
       "['price', 'maint', 'doors', 'people', 'lug_boot', 'safety', 'decision']"
      ]
     },
     "execution_count": 4,
     "metadata": {},
     "output_type": "execute_result"
    }
   ],
   "source": [
    "list(cars.columns)"
   ]
  },
  {
   "cell_type": "code",
   "execution_count": 5,
   "metadata": {},
   "outputs": [],
   "source": [
    "price = pd.get_dummies(cars.price, prefix = 'price')\n",
    "maint = pd.get_dummies(cars.maint, prefix = 'maint')\n",
    "\n",
    "doors = pd.get_dummies(cars.doors, prefix = 'doors')\n",
    "people = pd.get_dummies(cars.people, prefix = 'people')\n",
    "\n",
    "lug_boot = pd.get_dummies(cars.lug_boot, prefix = 'lug_boot')\n",
    "safety = pd.get_dummies(cars.safety, prefix = 'safety')\n",
    "\n",
    "labels = pd.get_dummies(cars.decision, prefix = 'condition')"
   ]
  },
  {
   "cell_type": "code",
   "execution_count": 6,
   "metadata": {},
   "outputs": [],
   "source": [
    "X = pd.concat([price, maint, doors, people, lug_boot, safety], axis = 1)"
   ]
  },
  {
   "cell_type": "code",
   "execution_count": 7,
   "metadata": {},
   "outputs": [
    {
     "data": {
      "text/html": [
       "<div>\n",
       "<style scoped>\n",
       "    .dataframe tbody tr th:only-of-type {\n",
       "        vertical-align: middle;\n",
       "    }\n",
       "\n",
       "    .dataframe tbody tr th {\n",
       "        vertical-align: top;\n",
       "    }\n",
       "\n",
       "    .dataframe thead th {\n",
       "        text-align: right;\n",
       "    }\n",
       "</style>\n",
       "<table border=\"1\" class=\"dataframe\">\n",
       "  <thead>\n",
       "    <tr style=\"text-align: right;\">\n",
       "      <th></th>\n",
       "      <th>condition_acc</th>\n",
       "      <th>condition_good</th>\n",
       "      <th>condition_unacc</th>\n",
       "      <th>condition_vgood</th>\n",
       "    </tr>\n",
       "  </thead>\n",
       "  <tbody>\n",
       "    <tr>\n",
       "      <th>0</th>\n",
       "      <td>0</td>\n",
       "      <td>0</td>\n",
       "      <td>1</td>\n",
       "      <td>0</td>\n",
       "    </tr>\n",
       "    <tr>\n",
       "      <th>1</th>\n",
       "      <td>0</td>\n",
       "      <td>0</td>\n",
       "      <td>1</td>\n",
       "      <td>0</td>\n",
       "    </tr>\n",
       "    <tr>\n",
       "      <th>2</th>\n",
       "      <td>0</td>\n",
       "      <td>0</td>\n",
       "      <td>1</td>\n",
       "      <td>0</td>\n",
       "    </tr>\n",
       "    <tr>\n",
       "      <th>3</th>\n",
       "      <td>0</td>\n",
       "      <td>0</td>\n",
       "      <td>1</td>\n",
       "      <td>0</td>\n",
       "    </tr>\n",
       "    <tr>\n",
       "      <th>4</th>\n",
       "      <td>0</td>\n",
       "      <td>0</td>\n",
       "      <td>1</td>\n",
       "      <td>0</td>\n",
       "    </tr>\n",
       "  </tbody>\n",
       "</table>\n",
       "</div>"
      ],
      "text/plain": [
       "   condition_acc  condition_good  condition_unacc  condition_vgood\n",
       "0              0               0                1                0\n",
       "1              0               0                1                0\n",
       "2              0               0                1                0\n",
       "3              0               0                1                0\n",
       "4              0               0                1                0"
      ]
     },
     "execution_count": 7,
     "metadata": {},
     "output_type": "execute_result"
    }
   ],
   "source": [
    "labels.head()"
   ]
  },
  {
   "cell_type": "code",
   "execution_count": 8,
   "metadata": {},
   "outputs": [
    {
     "data": {
      "text/html": [
       "<div>\n",
       "<style scoped>\n",
       "    .dataframe tbody tr th:only-of-type {\n",
       "        vertical-align: middle;\n",
       "    }\n",
       "\n",
       "    .dataframe tbody tr th {\n",
       "        vertical-align: top;\n",
       "    }\n",
       "\n",
       "    .dataframe thead th {\n",
       "        text-align: right;\n",
       "    }\n",
       "</style>\n",
       "<table border=\"1\" class=\"dataframe\">\n",
       "  <thead>\n",
       "    <tr style=\"text-align: right;\">\n",
       "      <th></th>\n",
       "      <th>price_high</th>\n",
       "      <th>price_low</th>\n",
       "      <th>price_med</th>\n",
       "      <th>price_vhigh</th>\n",
       "      <th>maint_high</th>\n",
       "      <th>maint_low</th>\n",
       "      <th>maint_med</th>\n",
       "      <th>maint_vhigh</th>\n",
       "      <th>doors_2</th>\n",
       "      <th>doors_3</th>\n",
       "      <th>...</th>\n",
       "      <th>doors_5more</th>\n",
       "      <th>people_2</th>\n",
       "      <th>people_4</th>\n",
       "      <th>people_more</th>\n",
       "      <th>lug_boot_big</th>\n",
       "      <th>lug_boot_med</th>\n",
       "      <th>lug_boot_small</th>\n",
       "      <th>safety_high</th>\n",
       "      <th>safety_low</th>\n",
       "      <th>safety_med</th>\n",
       "    </tr>\n",
       "  </thead>\n",
       "  <tbody>\n",
       "    <tr>\n",
       "      <th>0</th>\n",
       "      <td>0</td>\n",
       "      <td>0</td>\n",
       "      <td>0</td>\n",
       "      <td>1</td>\n",
       "      <td>0</td>\n",
       "      <td>0</td>\n",
       "      <td>0</td>\n",
       "      <td>1</td>\n",
       "      <td>1</td>\n",
       "      <td>0</td>\n",
       "      <td>...</td>\n",
       "      <td>0</td>\n",
       "      <td>1</td>\n",
       "      <td>0</td>\n",
       "      <td>0</td>\n",
       "      <td>0</td>\n",
       "      <td>0</td>\n",
       "      <td>1</td>\n",
       "      <td>0</td>\n",
       "      <td>1</td>\n",
       "      <td>0</td>\n",
       "    </tr>\n",
       "    <tr>\n",
       "      <th>1</th>\n",
       "      <td>0</td>\n",
       "      <td>0</td>\n",
       "      <td>0</td>\n",
       "      <td>1</td>\n",
       "      <td>0</td>\n",
       "      <td>0</td>\n",
       "      <td>0</td>\n",
       "      <td>1</td>\n",
       "      <td>1</td>\n",
       "      <td>0</td>\n",
       "      <td>...</td>\n",
       "      <td>0</td>\n",
       "      <td>1</td>\n",
       "      <td>0</td>\n",
       "      <td>0</td>\n",
       "      <td>0</td>\n",
       "      <td>0</td>\n",
       "      <td>1</td>\n",
       "      <td>0</td>\n",
       "      <td>0</td>\n",
       "      <td>1</td>\n",
       "    </tr>\n",
       "    <tr>\n",
       "      <th>2</th>\n",
       "      <td>0</td>\n",
       "      <td>0</td>\n",
       "      <td>0</td>\n",
       "      <td>1</td>\n",
       "      <td>0</td>\n",
       "      <td>0</td>\n",
       "      <td>0</td>\n",
       "      <td>1</td>\n",
       "      <td>1</td>\n",
       "      <td>0</td>\n",
       "      <td>...</td>\n",
       "      <td>0</td>\n",
       "      <td>1</td>\n",
       "      <td>0</td>\n",
       "      <td>0</td>\n",
       "      <td>0</td>\n",
       "      <td>0</td>\n",
       "      <td>1</td>\n",
       "      <td>1</td>\n",
       "      <td>0</td>\n",
       "      <td>0</td>\n",
       "    </tr>\n",
       "    <tr>\n",
       "      <th>3</th>\n",
       "      <td>0</td>\n",
       "      <td>0</td>\n",
       "      <td>0</td>\n",
       "      <td>1</td>\n",
       "      <td>0</td>\n",
       "      <td>0</td>\n",
       "      <td>0</td>\n",
       "      <td>1</td>\n",
       "      <td>1</td>\n",
       "      <td>0</td>\n",
       "      <td>...</td>\n",
       "      <td>0</td>\n",
       "      <td>1</td>\n",
       "      <td>0</td>\n",
       "      <td>0</td>\n",
       "      <td>0</td>\n",
       "      <td>1</td>\n",
       "      <td>0</td>\n",
       "      <td>0</td>\n",
       "      <td>1</td>\n",
       "      <td>0</td>\n",
       "    </tr>\n",
       "    <tr>\n",
       "      <th>4</th>\n",
       "      <td>0</td>\n",
       "      <td>0</td>\n",
       "      <td>0</td>\n",
       "      <td>1</td>\n",
       "      <td>0</td>\n",
       "      <td>0</td>\n",
       "      <td>0</td>\n",
       "      <td>1</td>\n",
       "      <td>1</td>\n",
       "      <td>0</td>\n",
       "      <td>...</td>\n",
       "      <td>0</td>\n",
       "      <td>1</td>\n",
       "      <td>0</td>\n",
       "      <td>0</td>\n",
       "      <td>0</td>\n",
       "      <td>1</td>\n",
       "      <td>0</td>\n",
       "      <td>0</td>\n",
       "      <td>0</td>\n",
       "      <td>1</td>\n",
       "    </tr>\n",
       "  </tbody>\n",
       "</table>\n",
       "<p>5 rows × 21 columns</p>\n",
       "</div>"
      ],
      "text/plain": [
       "   price_high  price_low  price_med  price_vhigh  maint_high  maint_low  \\\n",
       "0           0          0          0            1           0          0   \n",
       "1           0          0          0            1           0          0   \n",
       "2           0          0          0            1           0          0   \n",
       "3           0          0          0            1           0          0   \n",
       "4           0          0          0            1           0          0   \n",
       "\n",
       "   maint_med  maint_vhigh  doors_2  doors_3     ...      doors_5more  \\\n",
       "0          0            1        1        0     ...                0   \n",
       "1          0            1        1        0     ...                0   \n",
       "2          0            1        1        0     ...                0   \n",
       "3          0            1        1        0     ...                0   \n",
       "4          0            1        1        0     ...                0   \n",
       "\n",
       "   people_2  people_4  people_more  lug_boot_big  lug_boot_med  \\\n",
       "0         1         0            0             0             0   \n",
       "1         1         0            0             0             0   \n",
       "2         1         0            0             0             0   \n",
       "3         1         0            0             0             1   \n",
       "4         1         0            0             0             1   \n",
       "\n",
       "   lug_boot_small  safety_high  safety_low  safety_med  \n",
       "0               1            0           1           0  \n",
       "1               1            0           0           1  \n",
       "2               1            1           0           0  \n",
       "3               0            0           1           0  \n",
       "4               0            0           0           1  \n",
       "\n",
       "[5 rows x 21 columns]"
      ]
     },
     "execution_count": 8,
     "metadata": {},
     "output_type": "execute_result"
    }
   ],
   "source": [
    "X.head()"
   ]
  },
  {
   "cell_type": "code",
   "execution_count": 9,
   "metadata": {},
   "outputs": [],
   "source": [
    "y = labels.values"
   ]
  },
  {
   "cell_type": "markdown",
   "metadata": {},
   "source": [
    "## Split data into train/test"
   ]
  },
  {
   "cell_type": "code",
   "execution_count": 10,
   "metadata": {},
   "outputs": [],
   "source": [
    "X_train, X_test, y_train, y_test = train_test_split(X, y, test_size = .2, random_state = 42)"
   ]
  },
  {
   "cell_type": "code",
   "execution_count": 11,
   "metadata": {},
   "outputs": [
    {
     "data": {
      "text/plain": [
       "(1728, 4)"
      ]
     },
     "execution_count": 11,
     "metadata": {},
     "output_type": "execute_result"
    }
   ],
   "source": [
    "y.shape"
   ]
  },
  {
   "cell_type": "markdown",
   "metadata": {},
   "source": [
    "## Create classification model - tf 1.13"
   ]
  },
  {
   "cell_type": "code",
   "execution_count": 13,
   "metadata": {},
   "outputs": [
    {
     "name": "stdout",
     "output_type": "stream",
     "text": [
      "_________________________________________________________________\n",
      "Layer (type)                 Output Shape              Param #   \n",
      "=================================================================\n",
      "dense_4 (Dense)              (None, 100)               2200      \n",
      "_________________________________________________________________\n",
      "dense_5 (Dense)              (None, 50)                5050      \n",
      "_________________________________________________________________\n",
      "dense_6 (Dense)              (None, 25)                1275      \n",
      "_________________________________________________________________\n",
      "dense_7 (Dense)              (None, 4)                 104       \n",
      "=================================================================\n",
      "Total params: 8,629\n",
      "Trainable params: 8,629\n",
      "Non-trainable params: 0\n",
      "_________________________________________________________________\n",
      "None\n"
     ]
    }
   ],
   "source": [
    "model = Sequential()\n",
    "model.add(Dense(100, activation='relu', input_shape = (X.shape[1],)))\n",
    "model.add(Dense(50, activation = 'relu'))\n",
    "model.add(Dense(25, activation = 'relu'))\n",
    "model.add(Dense(y.shape[1], activation = 'softmax'))\n",
    "\n",
    "model.compile(loss = 'categorical_crossentropy', optimizer = 'adam', metrics = ['acc'])\n",
    "print(model.summary())"
   ]
  },
  {
   "cell_type": "markdown",
   "metadata": {},
   "source": [
    "## Create classification model - tf 2.0"
   ]
  },
  {
   "cell_type": "code",
   "execution_count": 31,
   "metadata": {},
   "outputs": [
    {
     "name": "stdout",
     "output_type": "stream",
     "text": [
      "Model: \"model_3\"\n",
      "_________________________________________________________________\n",
      "Layer (type)                 Output Shape              Param #   \n",
      "=================================================================\n",
      "input_4 (InputLayer)         [(None, 21)]              0         \n",
      "_________________________________________________________________\n",
      "dense_9 (Dense)              (None, 15)                330       \n",
      "_________________________________________________________________\n",
      "dense_10 (Dense)             (None, 10)                160       \n",
      "_________________________________________________________________\n",
      "dense_11 (Dense)             (None, 4)                 44        \n",
      "=================================================================\n",
      "Total params: 534\n",
      "Trainable params: 534\n",
      "Non-trainable params: 0\n",
      "_________________________________________________________________\n",
      "None\n"
     ]
    }
   ],
   "source": [
    "input_layer = Input(shape = (X.shape[1],))\n",
    "dense_layer_1 = Dense(15, activation = 'relu')(input_layer)\n",
    "dense_layer_2 = Dense(10, activation = 'relu')(dense_layer_1)\n",
    "output = Dense(y.shape[1], activation = 'softmax')(dense_layer_2)\n",
    "\n",
    "model = Model(inputs = input_layer, outputs = output)\n",
    "model.compile(loss = 'categorical_crossentropy', optimizer = 'adam', metrics = ['acc'])\n",
    "print(model.summary())"
   ]
  },
  {
   "cell_type": "markdown",
   "metadata": {},
   "source": [
    "## Train model"
   ]
  },
  {
   "cell_type": "code",
   "execution_count": 14,
   "metadata": {},
   "outputs": [
    {
     "name": "stdout",
     "output_type": "stream",
     "text": [
      "Train on 1105 samples, validate on 277 samples\n",
      "WARNING:tensorflow:From /usr/local/lib/python3.6/dist-packages/tensorflow/python/ops/math_ops.py:3066: to_int32 (from tensorflow.python.ops.math_ops) is deprecated and will be removed in a future version.\n",
      "Instructions for updating:\n",
      "Use tf.cast instead.\n",
      "Epoch 1/50\n",
      "1105/1105 [==============================] - 10s 9ms/sample - loss: 0.6663 - acc: 0.7439 - val_loss: 0.5165 - val_acc: 0.7473\n",
      "Epoch 2/50\n",
      "1105/1105 [==============================] - 5s 5ms/sample - loss: 0.2814 - acc: 0.8896 - val_loss: 0.2932 - val_acc: 0.8664\n",
      "Epoch 3/50\n",
      "1105/1105 [==============================] - 5s 5ms/sample - loss: 0.1789 - acc: 0.9222 - val_loss: 0.2125 - val_acc: 0.9134\n",
      "Epoch 4/50\n",
      "1105/1105 [==============================] - 5s 4ms/sample - loss: 0.1170 - acc: 0.9629 - val_loss: 0.1609 - val_acc: 0.9386\n",
      "Epoch 5/50\n",
      "1105/1105 [==============================] - 4s 4ms/sample - loss: 0.0837 - acc: 0.9801 - val_loss: 0.1556 - val_acc: 0.9278\n",
      "Epoch 6/50\n",
      "1105/1105 [==============================] - 5s 4ms/sample - loss: 0.0533 - acc: 0.9900 - val_loss: 0.0883 - val_acc: 0.9783\n",
      "Epoch 7/50\n",
      "1105/1105 [==============================] - 5s 5ms/sample - loss: 0.0405 - acc: 0.9910 - val_loss: 0.0874 - val_acc: 0.9711\n",
      "Epoch 8/50\n",
      "1105/1105 [==============================] - 4s 4ms/sample - loss: 0.0359 - acc: 0.9891 - val_loss: 0.0588 - val_acc: 0.9928\n",
      "Epoch 9/50\n",
      "1105/1105 [==============================] - 5s 4ms/sample - loss: 0.0190 - acc: 0.9973 - val_loss: 0.0528 - val_acc: 0.9856\n",
      "Epoch 10/50\n",
      "1105/1105 [==============================] - 3s 3ms/sample - loss: 0.0121 - acc: 1.0000 - val_loss: 0.0619 - val_acc: 0.9711\n",
      "Epoch 11/50\n",
      "1105/1105 [==============================] - 3s 3ms/sample - loss: 0.0088 - acc: 1.0000 - val_loss: 0.0401 - val_acc: 0.9892\n",
      "Epoch 12/50\n",
      "1105/1105 [==============================] - 3s 3ms/sample - loss: 0.0067 - acc: 1.0000 - val_loss: 0.0430 - val_acc: 0.9819\n",
      "Epoch 13/50\n",
      "1105/1105 [==============================] - 3s 3ms/sample - loss: 0.0045 - acc: 1.0000 - val_loss: 0.0340 - val_acc: 0.9892\n",
      "Epoch 14/50\n",
      "1105/1105 [==============================] - 3s 3ms/sample - loss: 0.0037 - acc: 1.0000 - val_loss: 0.0313 - val_acc: 0.9928\n",
      "Epoch 15/50\n",
      "1105/1105 [==============================] - 3s 3ms/sample - loss: 0.0027 - acc: 1.0000 - val_loss: 0.0326 - val_acc: 0.9892\n",
      "Epoch 16/50\n",
      "1105/1105 [==============================] - 3s 3ms/sample - loss: 0.0023 - acc: 1.0000 - val_loss: 0.0221 - val_acc: 0.9892\n",
      "Epoch 17/50\n",
      "1105/1105 [==============================] - 3s 3ms/sample - loss: 0.0020 - acc: 1.0000 - val_loss: 0.0267 - val_acc: 0.9928\n",
      "Epoch 18/50\n",
      "1105/1105 [==============================] - 3s 3ms/sample - loss: 0.0016 - acc: 1.0000 - val_loss: 0.0265 - val_acc: 0.9892\n",
      "Epoch 19/50\n",
      "1105/1105 [==============================] - 3s 3ms/sample - loss: 0.0013 - acc: 1.0000 - val_loss: 0.0215 - val_acc: 0.9892\n",
      "Epoch 20/50\n",
      "1105/1105 [==============================] - 3s 3ms/sample - loss: 9.9408e-04 - acc: 1.0000 - val_loss: 0.0273 - val_acc: 0.9892\n",
      "Epoch 21/50\n",
      "1105/1105 [==============================] - 3s 3ms/sample - loss: 9.5501e-04 - acc: 1.0000 - val_loss: 0.0220 - val_acc: 0.9892\n",
      "Epoch 22/50\n",
      "1105/1105 [==============================] - 3s 3ms/sample - loss: 7.4712e-04 - acc: 1.0000 - val_loss: 0.0226 - val_acc: 0.9892\n",
      "Epoch 23/50\n",
      "1105/1105 [==============================] - 3s 3ms/sample - loss: 6.4568e-04 - acc: 1.0000 - val_loss: 0.0236 - val_acc: 0.9892\n",
      "Epoch 24/50\n",
      "1105/1105 [==============================] - 4s 4ms/sample - loss: 5.6295e-04 - acc: 1.0000 - val_loss: 0.0204 - val_acc: 0.9892\n",
      "Epoch 25/50\n",
      "1105/1105 [==============================] - 4s 4ms/sample - loss: 5.1213e-04 - acc: 1.0000 - val_loss: 0.0202 - val_acc: 0.9892\n",
      "Epoch 26/50\n",
      "1105/1105 [==============================] - 3s 3ms/sample - loss: 4.2317e-04 - acc: 1.0000 - val_loss: 0.0204 - val_acc: 0.9892\n",
      "Epoch 27/50\n",
      "1105/1105 [==============================] - 3s 3ms/sample - loss: 3.6384e-04 - acc: 1.0000 - val_loss: 0.0229 - val_acc: 0.9892\n",
      "Epoch 28/50\n",
      "1105/1105 [==============================] - 3s 3ms/sample - loss: 3.3269e-04 - acc: 1.0000 - val_loss: 0.0186 - val_acc: 0.9892\n",
      "Epoch 29/50\n",
      "1105/1105 [==============================] - 3s 3ms/sample - loss: 3.0113e-04 - acc: 1.0000 - val_loss: 0.0164 - val_acc: 0.9892\n",
      "Epoch 30/50\n",
      "1105/1105 [==============================] - 3s 3ms/sample - loss: 2.5488e-04 - acc: 1.0000 - val_loss: 0.0185 - val_acc: 0.9892\n",
      "Epoch 31/50\n",
      "1105/1105 [==============================] - 3s 3ms/sample - loss: 2.3697e-04 - acc: 1.0000 - val_loss: 0.0186 - val_acc: 0.9892\n",
      "Epoch 32/50\n",
      "1105/1105 [==============================] - 3s 3ms/sample - loss: 1.9607e-04 - acc: 1.0000 - val_loss: 0.0200 - val_acc: 0.9892\n",
      "Epoch 33/50\n",
      "1105/1105 [==============================] - 3s 3ms/sample - loss: 1.7848e-04 - acc: 1.0000 - val_loss: 0.0177 - val_acc: 0.9892\n",
      "Epoch 34/50\n",
      "1105/1105 [==============================] - 3s 3ms/sample - loss: 1.6211e-04 - acc: 1.0000 - val_loss: 0.0172 - val_acc: 0.9892\n",
      "Epoch 35/50\n",
      "1105/1105 [==============================] - 3s 3ms/sample - loss: 1.4398e-04 - acc: 1.0000 - val_loss: 0.0204 - val_acc: 0.9892\n",
      "Epoch 36/50\n",
      "1105/1105 [==============================] - 3s 3ms/sample - loss: 1.3118e-04 - acc: 1.0000 - val_loss: 0.0175 - val_acc: 0.9892\n",
      "Epoch 37/50\n",
      "1105/1105 [==============================] - 3s 3ms/sample - loss: 1.1641e-04 - acc: 1.0000 - val_loss: 0.0179 - val_acc: 0.9928\n",
      "Epoch 38/50\n",
      "1105/1105 [==============================] - 3s 3ms/sample - loss: 1.0497e-04 - acc: 1.0000 - val_loss: 0.0150 - val_acc: 0.9892\n",
      "Epoch 39/50\n",
      "1105/1105 [==============================] - 3s 3ms/sample - loss: 9.9245e-05 - acc: 1.0000 - val_loss: 0.0181 - val_acc: 0.9928\n",
      "Epoch 40/50\n",
      "1105/1105 [==============================] - 3s 3ms/sample - loss: 8.4541e-05 - acc: 1.0000 - val_loss: 0.0181 - val_acc: 0.9892\n",
      "Epoch 41/50\n",
      "1105/1105 [==============================] - 3s 3ms/sample - loss: 7.6155e-05 - acc: 1.0000 - val_loss: 0.0155 - val_acc: 0.9892\n",
      "Epoch 42/50\n",
      "1105/1105 [==============================] - 3s 3ms/sample - loss: 7.1192e-05 - acc: 1.0000 - val_loss: 0.0150 - val_acc: 0.9892\n",
      "Epoch 43/50\n",
      "1105/1105 [==============================] - 3s 3ms/sample - loss: 6.3580e-05 - acc: 1.0000 - val_loss: 0.0161 - val_acc: 0.9892\n",
      "Epoch 44/50\n",
      "1105/1105 [==============================] - 3s 3ms/sample - loss: 5.7233e-05 - acc: 1.0000 - val_loss: 0.0166 - val_acc: 0.9892\n",
      "Epoch 45/50\n",
      "1105/1105 [==============================] - 3s 3ms/sample - loss: 5.1529e-05 - acc: 1.0000 - val_loss: 0.0168 - val_acc: 0.9928\n",
      "Epoch 46/50\n",
      "1105/1105 [==============================] - 3s 3ms/sample - loss: 4.7514e-05 - acc: 1.0000 - val_loss: 0.0175 - val_acc: 0.9892\n",
      "Epoch 47/50\n",
      "1105/1105 [==============================] - 3s 3ms/sample - loss: 4.3226e-05 - acc: 1.0000 - val_loss: 0.0163 - val_acc: 0.9892\n",
      "Epoch 48/50\n",
      "1105/1105 [==============================] - 3s 3ms/sample - loss: 3.8137e-05 - acc: 1.0000 - val_loss: 0.0188 - val_acc: 0.9892\n",
      "Epoch 49/50\n",
      "1105/1105 [==============================] - 3s 3ms/sample - loss: 3.5451e-05 - acc: 1.0000 - val_loss: 0.0158 - val_acc: 0.9892\n",
      "Epoch 50/50\n",
      "1105/1105 [==============================] - 3s 3ms/sample - loss: 3.3192e-05 - acc: 1.0000 - val_loss: 0.0184 - val_acc: 0.9928\n"
     ]
    }
   ],
   "source": [
    "history = model.fit(X_train, y_train, batch_size = 8, epochs = 50, verbose = 1, validation_split = .2)"
   ]
  },
  {
   "cell_type": "code",
   "execution_count": 15,
   "metadata": {},
   "outputs": [
    {
     "name": "stdout",
     "output_type": "stream",
     "text": [
      "346/346 [==============================] - 0s 425us/sample - loss: 0.0322 - acc: 0.9884\n",
      "Test Score: 0.032235866703832085\n",
      "Test Accuracy 0.9884393\n"
     ]
    }
   ],
   "source": [
    "score = model.evaluate(X_test, y_test, verbose = 1)\n",
    "\n",
    "print(\"Test Score:\", score[0])\n",
    "print(\"Test Accuracy\", score[1])"
   ]
  },
  {
   "cell_type": "code",
   "execution_count": null,
   "metadata": {},
   "outputs": [],
   "source": []
  }
 ],
 "metadata": {
  "kernelspec": {
   "display_name": "Python 3",
   "language": "python",
   "name": "python3"
  },
  "language_info": {
   "codemirror_mode": {
    "name": "ipython",
    "version": 3
   },
   "file_extension": ".py",
   "mimetype": "text/x-python",
   "name": "python",
   "nbconvert_exporter": "python",
   "pygments_lexer": "ipython3",
   "version": "3.7.6"
  }
 },
 "nbformat": 4,
 "nbformat_minor": 2
}
